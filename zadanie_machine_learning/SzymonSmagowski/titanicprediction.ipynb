{
 "cells": [
  {
   "cell_type": "code",
   "execution_count": 1,
   "id": "f4d66180",
   "metadata": {
    "_cell_guid": "b1076dfc-b9ad-4769-8c92-a6c4dae69d19",
    "_uuid": "8f2839f25d086af736a60e9eeb907d3b93b6e0e5",
    "execution": {
     "iopub.execute_input": "2022-10-22T19:20:47.887284Z",
     "iopub.status.busy": "2022-10-22T19:20:47.886805Z",
     "iopub.status.idle": "2022-10-22T19:20:47.900303Z",
     "shell.execute_reply": "2022-10-22T19:20:47.899013Z"
    },
    "papermill": {
     "duration": 0.025373,
     "end_time": "2022-10-22T19:20:47.902709",
     "exception": false,
     "start_time": "2022-10-22T19:20:47.877336",
     "status": "completed"
    },
    "tags": []
   },
   "outputs": [
    {
     "name": "stdout",
     "output_type": "stream",
     "text": [
      "/kaggle/input/titanic/train.csv\n",
      "/kaggle/input/titanic/test.csv\n",
      "/kaggle/input/titanic/gender_submission.csv\n"
     ]
    }
   ],
   "source": [
    "#importing libraries\n",
    "import numpy as np \n",
    "import pandas as pd \n",
    "\n",
    "\n",
    "import os\n",
    "for dirname, _, filenames in os.walk('/kaggle/input'):\n",
    "    for filename in filenames:\n",
    "        print(os.path.join(dirname, filename))\n"
   ]
  },
  {
   "cell_type": "code",
   "execution_count": 2,
   "id": "16f69649",
   "metadata": {
    "execution": {
     "iopub.execute_input": "2022-10-22T19:20:47.917970Z",
     "iopub.status.busy": "2022-10-22T19:20:47.917372Z",
     "iopub.status.idle": "2022-10-22T19:20:47.976628Z",
     "shell.execute_reply": "2022-10-22T19:20:47.975407Z"
    },
    "papermill": {
     "duration": 0.069481,
     "end_time": "2022-10-22T19:20:47.978989",
     "exception": false,
     "start_time": "2022-10-22T19:20:47.909508",
     "status": "completed"
    },
    "tags": []
   },
   "outputs": [
    {
     "data": {
      "text/html": [
       "<div>\n",
       "<style scoped>\n",
       "    .dataframe tbody tr th:only-of-type {\n",
       "        vertical-align: middle;\n",
       "    }\n",
       "\n",
       "    .dataframe tbody tr th {\n",
       "        vertical-align: top;\n",
       "    }\n",
       "\n",
       "    .dataframe thead th {\n",
       "        text-align: right;\n",
       "    }\n",
       "</style>\n",
       "<table border=\"1\" class=\"dataframe\">\n",
       "  <thead>\n",
       "    <tr style=\"text-align: right;\">\n",
       "      <th></th>\n",
       "      <th>PassengerId</th>\n",
       "      <th>Survived</th>\n",
       "      <th>Pclass</th>\n",
       "      <th>Name</th>\n",
       "      <th>Sex</th>\n",
       "      <th>Age</th>\n",
       "      <th>SibSp</th>\n",
       "      <th>Parch</th>\n",
       "      <th>Ticket</th>\n",
       "      <th>Fare</th>\n",
       "      <th>Cabin</th>\n",
       "      <th>Embarked</th>\n",
       "    </tr>\n",
       "  </thead>\n",
       "  <tbody>\n",
       "    <tr>\n",
       "      <th>0</th>\n",
       "      <td>1</td>\n",
       "      <td>0</td>\n",
       "      <td>3</td>\n",
       "      <td>Braund, Mr. Owen Harris</td>\n",
       "      <td>male</td>\n",
       "      <td>22.0</td>\n",
       "      <td>1</td>\n",
       "      <td>0</td>\n",
       "      <td>A/5 21171</td>\n",
       "      <td>7.2500</td>\n",
       "      <td>NaN</td>\n",
       "      <td>S</td>\n",
       "    </tr>\n",
       "    <tr>\n",
       "      <th>1</th>\n",
       "      <td>2</td>\n",
       "      <td>1</td>\n",
       "      <td>1</td>\n",
       "      <td>Cumings, Mrs. John Bradley (Florence Briggs Th...</td>\n",
       "      <td>female</td>\n",
       "      <td>38.0</td>\n",
       "      <td>1</td>\n",
       "      <td>0</td>\n",
       "      <td>PC 17599</td>\n",
       "      <td>71.2833</td>\n",
       "      <td>C85</td>\n",
       "      <td>C</td>\n",
       "    </tr>\n",
       "    <tr>\n",
       "      <th>2</th>\n",
       "      <td>3</td>\n",
       "      <td>1</td>\n",
       "      <td>3</td>\n",
       "      <td>Heikkinen, Miss. Laina</td>\n",
       "      <td>female</td>\n",
       "      <td>26.0</td>\n",
       "      <td>0</td>\n",
       "      <td>0</td>\n",
       "      <td>STON/O2. 3101282</td>\n",
       "      <td>7.9250</td>\n",
       "      <td>NaN</td>\n",
       "      <td>S</td>\n",
       "    </tr>\n",
       "    <tr>\n",
       "      <th>3</th>\n",
       "      <td>4</td>\n",
       "      <td>1</td>\n",
       "      <td>1</td>\n",
       "      <td>Futrelle, Mrs. Jacques Heath (Lily May Peel)</td>\n",
       "      <td>female</td>\n",
       "      <td>35.0</td>\n",
       "      <td>1</td>\n",
       "      <td>0</td>\n",
       "      <td>113803</td>\n",
       "      <td>53.1000</td>\n",
       "      <td>C123</td>\n",
       "      <td>S</td>\n",
       "    </tr>\n",
       "    <tr>\n",
       "      <th>4</th>\n",
       "      <td>5</td>\n",
       "      <td>0</td>\n",
       "      <td>3</td>\n",
       "      <td>Allen, Mr. William Henry</td>\n",
       "      <td>male</td>\n",
       "      <td>35.0</td>\n",
       "      <td>0</td>\n",
       "      <td>0</td>\n",
       "      <td>373450</td>\n",
       "      <td>8.0500</td>\n",
       "      <td>NaN</td>\n",
       "      <td>S</td>\n",
       "    </tr>\n",
       "  </tbody>\n",
       "</table>\n",
       "</div>"
      ],
      "text/plain": [
       "   PassengerId  Survived  Pclass  \\\n",
       "0            1         0       3   \n",
       "1            2         1       1   \n",
       "2            3         1       3   \n",
       "3            4         1       1   \n",
       "4            5         0       3   \n",
       "\n",
       "                                                Name     Sex   Age  SibSp  \\\n",
       "0                            Braund, Mr. Owen Harris    male  22.0      1   \n",
       "1  Cumings, Mrs. John Bradley (Florence Briggs Th...  female  38.0      1   \n",
       "2                             Heikkinen, Miss. Laina  female  26.0      0   \n",
       "3       Futrelle, Mrs. Jacques Heath (Lily May Peel)  female  35.0      1   \n",
       "4                           Allen, Mr. William Henry    male  35.0      0   \n",
       "\n",
       "   Parch            Ticket     Fare Cabin Embarked  \n",
       "0      0         A/5 21171   7.2500   NaN        S  \n",
       "1      0          PC 17599  71.2833   C85        C  \n",
       "2      0  STON/O2. 3101282   7.9250   NaN        S  \n",
       "3      0            113803  53.1000  C123        S  \n",
       "4      0            373450   8.0500   NaN        S  "
      ]
     },
     "execution_count": 2,
     "metadata": {},
     "output_type": "execute_result"
    }
   ],
   "source": [
    "# csvs into variables\n",
    "\n",
    "train_set = pd.read_csv(\"/kaggle/input/titanic/train.csv\")\n",
    "test_set = pd.read_csv(\"/kaggle/input/titanic/test.csv\")\n",
    "gender_submission_set = pd.read_csv(\"/kaggle/input/titanic/gender_submission.csv\")\n",
    "\n",
    "train_set.head()"
   ]
  },
  {
   "cell_type": "code",
   "execution_count": 3,
   "id": "60f3be2b",
   "metadata": {
    "execution": {
     "iopub.execute_input": "2022-10-22T19:20:47.994755Z",
     "iopub.status.busy": "2022-10-22T19:20:47.994094Z",
     "iopub.status.idle": "2022-10-22T19:20:48.009949Z",
     "shell.execute_reply": "2022-10-22T19:20:48.008680Z"
    },
    "papermill": {
     "duration": 0.026208,
     "end_time": "2022-10-22T19:20:48.012076",
     "exception": false,
     "start_time": "2022-10-22T19:20:47.985868",
     "status": "completed"
    },
    "tags": []
   },
   "outputs": [
    {
     "data": {
      "text/html": [
       "<div>\n",
       "<style scoped>\n",
       "    .dataframe tbody tr th:only-of-type {\n",
       "        vertical-align: middle;\n",
       "    }\n",
       "\n",
       "    .dataframe tbody tr th {\n",
       "        vertical-align: top;\n",
       "    }\n",
       "\n",
       "    .dataframe thead th {\n",
       "        text-align: right;\n",
       "    }\n",
       "</style>\n",
       "<table border=\"1\" class=\"dataframe\">\n",
       "  <thead>\n",
       "    <tr style=\"text-align: right;\">\n",
       "      <th></th>\n",
       "      <th>PassengerId</th>\n",
       "      <th>Pclass</th>\n",
       "      <th>Name</th>\n",
       "      <th>Sex</th>\n",
       "      <th>Age</th>\n",
       "      <th>SibSp</th>\n",
       "      <th>Parch</th>\n",
       "      <th>Ticket</th>\n",
       "      <th>Fare</th>\n",
       "      <th>Cabin</th>\n",
       "      <th>Embarked</th>\n",
       "    </tr>\n",
       "  </thead>\n",
       "  <tbody>\n",
       "    <tr>\n",
       "      <th>0</th>\n",
       "      <td>892</td>\n",
       "      <td>3</td>\n",
       "      <td>Kelly, Mr. James</td>\n",
       "      <td>male</td>\n",
       "      <td>34.5</td>\n",
       "      <td>0</td>\n",
       "      <td>0</td>\n",
       "      <td>330911</td>\n",
       "      <td>7.8292</td>\n",
       "      <td>NaN</td>\n",
       "      <td>Q</td>\n",
       "    </tr>\n",
       "    <tr>\n",
       "      <th>1</th>\n",
       "      <td>893</td>\n",
       "      <td>3</td>\n",
       "      <td>Wilkes, Mrs. James (Ellen Needs)</td>\n",
       "      <td>female</td>\n",
       "      <td>47.0</td>\n",
       "      <td>1</td>\n",
       "      <td>0</td>\n",
       "      <td>363272</td>\n",
       "      <td>7.0000</td>\n",
       "      <td>NaN</td>\n",
       "      <td>S</td>\n",
       "    </tr>\n",
       "    <tr>\n",
       "      <th>2</th>\n",
       "      <td>894</td>\n",
       "      <td>2</td>\n",
       "      <td>Myles, Mr. Thomas Francis</td>\n",
       "      <td>male</td>\n",
       "      <td>62.0</td>\n",
       "      <td>0</td>\n",
       "      <td>0</td>\n",
       "      <td>240276</td>\n",
       "      <td>9.6875</td>\n",
       "      <td>NaN</td>\n",
       "      <td>Q</td>\n",
       "    </tr>\n",
       "    <tr>\n",
       "      <th>3</th>\n",
       "      <td>895</td>\n",
       "      <td>3</td>\n",
       "      <td>Wirz, Mr. Albert</td>\n",
       "      <td>male</td>\n",
       "      <td>27.0</td>\n",
       "      <td>0</td>\n",
       "      <td>0</td>\n",
       "      <td>315154</td>\n",
       "      <td>8.6625</td>\n",
       "      <td>NaN</td>\n",
       "      <td>S</td>\n",
       "    </tr>\n",
       "    <tr>\n",
       "      <th>4</th>\n",
       "      <td>896</td>\n",
       "      <td>3</td>\n",
       "      <td>Hirvonen, Mrs. Alexander (Helga E Lindqvist)</td>\n",
       "      <td>female</td>\n",
       "      <td>22.0</td>\n",
       "      <td>1</td>\n",
       "      <td>1</td>\n",
       "      <td>3101298</td>\n",
       "      <td>12.2875</td>\n",
       "      <td>NaN</td>\n",
       "      <td>S</td>\n",
       "    </tr>\n",
       "  </tbody>\n",
       "</table>\n",
       "</div>"
      ],
      "text/plain": [
       "   PassengerId  Pclass                                          Name     Sex  \\\n",
       "0          892       3                              Kelly, Mr. James    male   \n",
       "1          893       3              Wilkes, Mrs. James (Ellen Needs)  female   \n",
       "2          894       2                     Myles, Mr. Thomas Francis    male   \n",
       "3          895       3                              Wirz, Mr. Albert    male   \n",
       "4          896       3  Hirvonen, Mrs. Alexander (Helga E Lindqvist)  female   \n",
       "\n",
       "    Age  SibSp  Parch   Ticket     Fare Cabin Embarked  \n",
       "0  34.5      0      0   330911   7.8292   NaN        Q  \n",
       "1  47.0      1      0   363272   7.0000   NaN        S  \n",
       "2  62.0      0      0   240276   9.6875   NaN        Q  \n",
       "3  27.0      0      0   315154   8.6625   NaN        S  \n",
       "4  22.0      1      1  3101298  12.2875   NaN        S  "
      ]
     },
     "execution_count": 3,
     "metadata": {},
     "output_type": "execute_result"
    }
   ],
   "source": [
    "test_set.head()"
   ]
  },
  {
   "cell_type": "code",
   "execution_count": 4,
   "id": "4d5de8b5",
   "metadata": {
    "execution": {
     "iopub.execute_input": "2022-10-22T19:20:48.027924Z",
     "iopub.status.busy": "2022-10-22T19:20:48.027404Z",
     "iopub.status.idle": "2022-10-22T19:20:48.036933Z",
     "shell.execute_reply": "2022-10-22T19:20:48.035874Z"
    },
    "papermill": {
     "duration": 0.019488,
     "end_time": "2022-10-22T19:20:48.039016",
     "exception": false,
     "start_time": "2022-10-22T19:20:48.019528",
     "status": "completed"
    },
    "tags": []
   },
   "outputs": [
    {
     "data": {
      "text/html": [
       "<div>\n",
       "<style scoped>\n",
       "    .dataframe tbody tr th:only-of-type {\n",
       "        vertical-align: middle;\n",
       "    }\n",
       "\n",
       "    .dataframe tbody tr th {\n",
       "        vertical-align: top;\n",
       "    }\n",
       "\n",
       "    .dataframe thead th {\n",
       "        text-align: right;\n",
       "    }\n",
       "</style>\n",
       "<table border=\"1\" class=\"dataframe\">\n",
       "  <thead>\n",
       "    <tr style=\"text-align: right;\">\n",
       "      <th></th>\n",
       "      <th>PassengerId</th>\n",
       "      <th>Survived</th>\n",
       "    </tr>\n",
       "  </thead>\n",
       "  <tbody>\n",
       "    <tr>\n",
       "      <th>0</th>\n",
       "      <td>892</td>\n",
       "      <td>0</td>\n",
       "    </tr>\n",
       "    <tr>\n",
       "      <th>1</th>\n",
       "      <td>893</td>\n",
       "      <td>1</td>\n",
       "    </tr>\n",
       "    <tr>\n",
       "      <th>2</th>\n",
       "      <td>894</td>\n",
       "      <td>0</td>\n",
       "    </tr>\n",
       "    <tr>\n",
       "      <th>3</th>\n",
       "      <td>895</td>\n",
       "      <td>0</td>\n",
       "    </tr>\n",
       "    <tr>\n",
       "      <th>4</th>\n",
       "      <td>896</td>\n",
       "      <td>1</td>\n",
       "    </tr>\n",
       "  </tbody>\n",
       "</table>\n",
       "</div>"
      ],
      "text/plain": [
       "   PassengerId  Survived\n",
       "0          892         0\n",
       "1          893         1\n",
       "2          894         0\n",
       "3          895         0\n",
       "4          896         1"
      ]
     },
     "execution_count": 4,
     "metadata": {},
     "output_type": "execute_result"
    }
   ],
   "source": [
    "gender_submission_set.head()"
   ]
  },
  {
   "cell_type": "code",
   "execution_count": 5,
   "id": "f49f96aa",
   "metadata": {
    "execution": {
     "iopub.execute_input": "2022-10-22T19:20:48.054859Z",
     "iopub.status.busy": "2022-10-22T19:20:48.054507Z",
     "iopub.status.idle": "2022-10-22T19:20:48.065616Z",
     "shell.execute_reply": "2022-10-22T19:20:48.064753Z"
    },
    "papermill": {
     "duration": 0.02183,
     "end_time": "2022-10-22T19:20:48.067878",
     "exception": false,
     "start_time": "2022-10-22T19:20:48.046048",
     "status": "completed"
    },
    "tags": []
   },
   "outputs": [],
   "source": [
    "# In my opinion those fields will not help in model\n",
    "\n",
    "train_set = train_set.drop(['Ticket','Cabin','Name'],axis=1)\n",
    "\n",
    "test_set = test_set.drop(['Ticket','Cabin','Name'],axis=1)"
   ]
  },
  {
   "cell_type": "code",
   "execution_count": 6,
   "id": "2eca0fb2",
   "metadata": {
    "execution": {
     "iopub.execute_input": "2022-10-22T19:20:48.084110Z",
     "iopub.status.busy": "2022-10-22T19:20:48.083360Z",
     "iopub.status.idle": "2022-10-22T19:20:48.096915Z",
     "shell.execute_reply": "2022-10-22T19:20:48.096159Z"
    },
    "papermill": {
     "duration": 0.024362,
     "end_time": "2022-10-22T19:20:48.099269",
     "exception": false,
     "start_time": "2022-10-22T19:20:48.074907",
     "status": "completed"
    },
    "tags": []
   },
   "outputs": [],
   "source": [
    "# I am changing categorical data to numerical\n",
    "train_set = train_set.replace('male','1')\n",
    "train_set = train_set.replace('female','0')\n",
    "\n",
    "train_set = train_set.replace('S','0')\n",
    "train_set = train_set.replace('C','1')\n",
    "train_set = train_set.replace('Q','2')\n",
    "\n",
    "test_set = test_set.replace('male','1')\n",
    "test_set = test_set.replace('female','0')\n",
    "\n",
    "test_set = test_set.replace('S','0')\n",
    "test_set = test_set.replace('C','1')\n",
    "test_set = test_set.replace('Q','2')"
   ]
  },
  {
   "cell_type": "code",
   "execution_count": 7,
   "id": "8415c676",
   "metadata": {
    "execution": {
     "iopub.execute_input": "2022-10-22T19:20:48.115384Z",
     "iopub.status.busy": "2022-10-22T19:20:48.114649Z",
     "iopub.status.idle": "2022-10-22T19:20:48.128704Z",
     "shell.execute_reply": "2022-10-22T19:20:48.127637Z"
    },
    "papermill": {
     "duration": 0.024577,
     "end_time": "2022-10-22T19:20:48.130951",
     "exception": false,
     "start_time": "2022-10-22T19:20:48.106374",
     "status": "completed"
    },
    "tags": []
   },
   "outputs": [
    {
     "data": {
      "text/html": [
       "<div>\n",
       "<style scoped>\n",
       "    .dataframe tbody tr th:only-of-type {\n",
       "        vertical-align: middle;\n",
       "    }\n",
       "\n",
       "    .dataframe tbody tr th {\n",
       "        vertical-align: top;\n",
       "    }\n",
       "\n",
       "    .dataframe thead th {\n",
       "        text-align: right;\n",
       "    }\n",
       "</style>\n",
       "<table border=\"1\" class=\"dataframe\">\n",
       "  <thead>\n",
       "    <tr style=\"text-align: right;\">\n",
       "      <th></th>\n",
       "      <th>PassengerId</th>\n",
       "      <th>Survived</th>\n",
       "      <th>Pclass</th>\n",
       "      <th>Sex</th>\n",
       "      <th>Age</th>\n",
       "      <th>SibSp</th>\n",
       "      <th>Parch</th>\n",
       "      <th>Fare</th>\n",
       "      <th>Embarked</th>\n",
       "    </tr>\n",
       "  </thead>\n",
       "  <tbody>\n",
       "    <tr>\n",
       "      <th>0</th>\n",
       "      <td>1</td>\n",
       "      <td>0</td>\n",
       "      <td>3</td>\n",
       "      <td>1</td>\n",
       "      <td>22.0</td>\n",
       "      <td>1</td>\n",
       "      <td>0</td>\n",
       "      <td>7.2500</td>\n",
       "      <td>0</td>\n",
       "    </tr>\n",
       "    <tr>\n",
       "      <th>1</th>\n",
       "      <td>2</td>\n",
       "      <td>1</td>\n",
       "      <td>1</td>\n",
       "      <td>0</td>\n",
       "      <td>38.0</td>\n",
       "      <td>1</td>\n",
       "      <td>0</td>\n",
       "      <td>71.2833</td>\n",
       "      <td>1</td>\n",
       "    </tr>\n",
       "    <tr>\n",
       "      <th>2</th>\n",
       "      <td>3</td>\n",
       "      <td>1</td>\n",
       "      <td>3</td>\n",
       "      <td>0</td>\n",
       "      <td>26.0</td>\n",
       "      <td>0</td>\n",
       "      <td>0</td>\n",
       "      <td>7.9250</td>\n",
       "      <td>0</td>\n",
       "    </tr>\n",
       "    <tr>\n",
       "      <th>3</th>\n",
       "      <td>4</td>\n",
       "      <td>1</td>\n",
       "      <td>1</td>\n",
       "      <td>0</td>\n",
       "      <td>35.0</td>\n",
       "      <td>1</td>\n",
       "      <td>0</td>\n",
       "      <td>53.1000</td>\n",
       "      <td>0</td>\n",
       "    </tr>\n",
       "    <tr>\n",
       "      <th>4</th>\n",
       "      <td>5</td>\n",
       "      <td>0</td>\n",
       "      <td>3</td>\n",
       "      <td>1</td>\n",
       "      <td>35.0</td>\n",
       "      <td>0</td>\n",
       "      <td>0</td>\n",
       "      <td>8.0500</td>\n",
       "      <td>0</td>\n",
       "    </tr>\n",
       "  </tbody>\n",
       "</table>\n",
       "</div>"
      ],
      "text/plain": [
       "   PassengerId  Survived  Pclass Sex   Age  SibSp  Parch     Fare Embarked\n",
       "0            1         0       3   1  22.0      1      0   7.2500        0\n",
       "1            2         1       1   0  38.0      1      0  71.2833        1\n",
       "2            3         1       3   0  26.0      0      0   7.9250        0\n",
       "3            4         1       1   0  35.0      1      0  53.1000        0\n",
       "4            5         0       3   1  35.0      0      0   8.0500        0"
      ]
     },
     "execution_count": 7,
     "metadata": {},
     "output_type": "execute_result"
    }
   ],
   "source": [
    "train_set.head()"
   ]
  },
  {
   "cell_type": "code",
   "execution_count": 8,
   "id": "672790b4",
   "metadata": {
    "execution": {
     "iopub.execute_input": "2022-10-22T19:20:48.147867Z",
     "iopub.status.busy": "2022-10-22T19:20:48.147128Z",
     "iopub.status.idle": "2022-10-22T19:20:48.161087Z",
     "shell.execute_reply": "2022-10-22T19:20:48.160063Z"
    },
    "papermill": {
     "duration": 0.025141,
     "end_time": "2022-10-22T19:20:48.163356",
     "exception": false,
     "start_time": "2022-10-22T19:20:48.138215",
     "status": "completed"
    },
    "tags": []
   },
   "outputs": [
    {
     "data": {
      "text/html": [
       "<div>\n",
       "<style scoped>\n",
       "    .dataframe tbody tr th:only-of-type {\n",
       "        vertical-align: middle;\n",
       "    }\n",
       "\n",
       "    .dataframe tbody tr th {\n",
       "        vertical-align: top;\n",
       "    }\n",
       "\n",
       "    .dataframe thead th {\n",
       "        text-align: right;\n",
       "    }\n",
       "</style>\n",
       "<table border=\"1\" class=\"dataframe\">\n",
       "  <thead>\n",
       "    <tr style=\"text-align: right;\">\n",
       "      <th></th>\n",
       "      <th>PassengerId</th>\n",
       "      <th>Pclass</th>\n",
       "      <th>Sex</th>\n",
       "      <th>Age</th>\n",
       "      <th>SibSp</th>\n",
       "      <th>Parch</th>\n",
       "      <th>Fare</th>\n",
       "      <th>Embarked</th>\n",
       "    </tr>\n",
       "  </thead>\n",
       "  <tbody>\n",
       "    <tr>\n",
       "      <th>0</th>\n",
       "      <td>892</td>\n",
       "      <td>3</td>\n",
       "      <td>1</td>\n",
       "      <td>34.5</td>\n",
       "      <td>0</td>\n",
       "      <td>0</td>\n",
       "      <td>7.8292</td>\n",
       "      <td>2</td>\n",
       "    </tr>\n",
       "    <tr>\n",
       "      <th>1</th>\n",
       "      <td>893</td>\n",
       "      <td>3</td>\n",
       "      <td>0</td>\n",
       "      <td>47.0</td>\n",
       "      <td>1</td>\n",
       "      <td>0</td>\n",
       "      <td>7.0000</td>\n",
       "      <td>0</td>\n",
       "    </tr>\n",
       "    <tr>\n",
       "      <th>2</th>\n",
       "      <td>894</td>\n",
       "      <td>2</td>\n",
       "      <td>1</td>\n",
       "      <td>62.0</td>\n",
       "      <td>0</td>\n",
       "      <td>0</td>\n",
       "      <td>9.6875</td>\n",
       "      <td>2</td>\n",
       "    </tr>\n",
       "    <tr>\n",
       "      <th>3</th>\n",
       "      <td>895</td>\n",
       "      <td>3</td>\n",
       "      <td>1</td>\n",
       "      <td>27.0</td>\n",
       "      <td>0</td>\n",
       "      <td>0</td>\n",
       "      <td>8.6625</td>\n",
       "      <td>0</td>\n",
       "    </tr>\n",
       "    <tr>\n",
       "      <th>4</th>\n",
       "      <td>896</td>\n",
       "      <td>3</td>\n",
       "      <td>0</td>\n",
       "      <td>22.0</td>\n",
       "      <td>1</td>\n",
       "      <td>1</td>\n",
       "      <td>12.2875</td>\n",
       "      <td>0</td>\n",
       "    </tr>\n",
       "  </tbody>\n",
       "</table>\n",
       "</div>"
      ],
      "text/plain": [
       "   PassengerId  Pclass Sex   Age  SibSp  Parch     Fare Embarked\n",
       "0          892       3   1  34.5      0      0   7.8292        2\n",
       "1          893       3   0  47.0      1      0   7.0000        0\n",
       "2          894       2   1  62.0      0      0   9.6875        2\n",
       "3          895       3   1  27.0      0      0   8.6625        0\n",
       "4          896       3   0  22.0      1      1  12.2875        0"
      ]
     },
     "execution_count": 8,
     "metadata": {},
     "output_type": "execute_result"
    }
   ],
   "source": [
    "test_set.head()"
   ]
  },
  {
   "cell_type": "code",
   "execution_count": 9,
   "id": "6b6f2bd8",
   "metadata": {
    "execution": {
     "iopub.execute_input": "2022-10-22T19:20:48.180070Z",
     "iopub.status.busy": "2022-10-22T19:20:48.179741Z",
     "iopub.status.idle": "2022-10-22T19:20:48.185666Z",
     "shell.execute_reply": "2022-10-22T19:20:48.184761Z"
    },
    "papermill": {
     "duration": 0.016888,
     "end_time": "2022-10-22T19:20:48.187837",
     "exception": false,
     "start_time": "2022-10-22T19:20:48.170949",
     "status": "completed"
    },
    "tags": []
   },
   "outputs": [],
   "source": [
    "# this is just a tmp variable\n",
    "X_begin = train_set.drop('Survived',axis=1)"
   ]
  },
  {
   "cell_type": "code",
   "execution_count": 10,
   "id": "d57d1d7d",
   "metadata": {
    "execution": {
     "iopub.execute_input": "2022-10-22T19:20:48.205504Z",
     "iopub.status.busy": "2022-10-22T19:20:48.205102Z",
     "iopub.status.idle": "2022-10-22T19:20:48.213234Z",
     "shell.execute_reply": "2022-10-22T19:20:48.212218Z"
    },
    "papermill": {
     "duration": 0.019014,
     "end_time": "2022-10-22T19:20:48.215506",
     "exception": false,
     "start_time": "2022-10-22T19:20:48.196492",
     "status": "completed"
    },
    "tags": []
   },
   "outputs": [
    {
     "data": {
      "text/plain": [
       "179"
      ]
     },
     "execution_count": 10,
     "metadata": {},
     "output_type": "execute_result"
    }
   ],
   "source": [
    "# How much NaN do we have?\n",
    "X_begin.isna().sum().sum()"
   ]
  },
  {
   "cell_type": "code",
   "execution_count": 11,
   "id": "71bd5c25",
   "metadata": {
    "execution": {
     "iopub.execute_input": "2022-10-22T19:20:48.232903Z",
     "iopub.status.busy": "2022-10-22T19:20:48.232527Z",
     "iopub.status.idle": "2022-10-22T19:20:48.240994Z",
     "shell.execute_reply": "2022-10-22T19:20:48.239938Z"
    },
    "papermill": {
     "duration": 0.020318,
     "end_time": "2022-10-22T19:20:48.243370",
     "exception": false,
     "start_time": "2022-10-22T19:20:48.223052",
     "status": "completed"
    },
    "tags": []
   },
   "outputs": [
    {
     "data": {
      "text/plain": [
       "87"
      ]
     },
     "execution_count": 11,
     "metadata": {},
     "output_type": "execute_result"
    }
   ],
   "source": [
    "test_set.isna().sum().sum()"
   ]
  },
  {
   "cell_type": "code",
   "execution_count": 12,
   "id": "34d5d90f",
   "metadata": {
    "execution": {
     "iopub.execute_input": "2022-10-22T19:20:48.260404Z",
     "iopub.status.busy": "2022-10-22T19:20:48.260037Z",
     "iopub.status.idle": "2022-10-22T19:20:49.249712Z",
     "shell.execute_reply": "2022-10-22T19:20:49.248615Z"
    },
    "papermill": {
     "duration": 1.001273,
     "end_time": "2022-10-22T19:20:49.252368",
     "exception": false,
     "start_time": "2022-10-22T19:20:48.251095",
     "status": "completed"
    },
    "tags": []
   },
   "outputs": [],
   "source": [
    "# Getting rid of every NaN value\n",
    "from sklearn.impute import SimpleImputer\n",
    "my_imputer = SimpleImputer()\n",
    "X = pd.DataFrame(my_imputer.fit_transform(X_begin))\n",
    "\n",
    "X.columns=X_begin.columns\n",
    "X.index=X_begin.index\n",
    "\n",
    "test_set_final = pd.DataFrame(my_imputer.fit_transform(test_set))\n",
    "\n",
    "test_set_final.columns=test_set.columns\n",
    "test_set_final.index=test_set.index"
   ]
  },
  {
   "cell_type": "code",
   "execution_count": 13,
   "id": "cc01ad66",
   "metadata": {
    "execution": {
     "iopub.execute_input": "2022-10-22T19:20:49.269739Z",
     "iopub.status.busy": "2022-10-22T19:20:49.269374Z",
     "iopub.status.idle": "2022-10-22T19:20:49.276714Z",
     "shell.execute_reply": "2022-10-22T19:20:49.275700Z"
    },
    "papermill": {
     "duration": 0.018883,
     "end_time": "2022-10-22T19:20:49.279238",
     "exception": false,
     "start_time": "2022-10-22T19:20:49.260355",
     "status": "completed"
    },
    "tags": []
   },
   "outputs": [
    {
     "data": {
      "text/plain": [
       "0"
      ]
     },
     "execution_count": 13,
     "metadata": {},
     "output_type": "execute_result"
    }
   ],
   "source": [
    "X.isna().sum().sum()"
   ]
  },
  {
   "cell_type": "code",
   "execution_count": 14,
   "id": "0b937377",
   "metadata": {
    "execution": {
     "iopub.execute_input": "2022-10-22T19:20:49.296464Z",
     "iopub.status.busy": "2022-10-22T19:20:49.296092Z",
     "iopub.status.idle": "2022-10-22T19:20:49.303906Z",
     "shell.execute_reply": "2022-10-22T19:20:49.302913Z"
    },
    "papermill": {
     "duration": 0.018674,
     "end_time": "2022-10-22T19:20:49.305802",
     "exception": false,
     "start_time": "2022-10-22T19:20:49.287128",
     "status": "completed"
    },
    "tags": []
   },
   "outputs": [
    {
     "data": {
      "text/plain": [
       "0"
      ]
     },
     "execution_count": 14,
     "metadata": {},
     "output_type": "execute_result"
    }
   ],
   "source": [
    "test_set_final.isna().sum().sum()"
   ]
  },
  {
   "cell_type": "code",
   "execution_count": 15,
   "id": "02c8f7b1",
   "metadata": {
    "execution": {
     "iopub.execute_input": "2022-10-22T19:20:49.323461Z",
     "iopub.status.busy": "2022-10-22T19:20:49.322568Z",
     "iopub.status.idle": "2022-10-22T19:20:49.343336Z",
     "shell.execute_reply": "2022-10-22T19:20:49.342410Z"
    },
    "papermill": {
     "duration": 0.031895,
     "end_time": "2022-10-22T19:20:49.345517",
     "exception": false,
     "start_time": "2022-10-22T19:20:49.313622",
     "status": "completed"
    },
    "tags": []
   },
   "outputs": [
    {
     "data": {
      "text/html": [
       "<div>\n",
       "<style scoped>\n",
       "    .dataframe tbody tr th:only-of-type {\n",
       "        vertical-align: middle;\n",
       "    }\n",
       "\n",
       "    .dataframe tbody tr th {\n",
       "        vertical-align: top;\n",
       "    }\n",
       "\n",
       "    .dataframe thead th {\n",
       "        text-align: right;\n",
       "    }\n",
       "</style>\n",
       "<table border=\"1\" class=\"dataframe\">\n",
       "  <thead>\n",
       "    <tr style=\"text-align: right;\">\n",
       "      <th></th>\n",
       "      <th>PassengerId</th>\n",
       "      <th>Pclass</th>\n",
       "      <th>Sex</th>\n",
       "      <th>Age</th>\n",
       "      <th>SibSp</th>\n",
       "      <th>Parch</th>\n",
       "      <th>Fare</th>\n",
       "      <th>Embarked</th>\n",
       "    </tr>\n",
       "  </thead>\n",
       "  <tbody>\n",
       "    <tr>\n",
       "      <th>0</th>\n",
       "      <td>1.0</td>\n",
       "      <td>3.0</td>\n",
       "      <td>1.0</td>\n",
       "      <td>22.000000</td>\n",
       "      <td>1.0</td>\n",
       "      <td>0.0</td>\n",
       "      <td>7.2500</td>\n",
       "      <td>0.0</td>\n",
       "    </tr>\n",
       "    <tr>\n",
       "      <th>1</th>\n",
       "      <td>2.0</td>\n",
       "      <td>1.0</td>\n",
       "      <td>0.0</td>\n",
       "      <td>38.000000</td>\n",
       "      <td>1.0</td>\n",
       "      <td>0.0</td>\n",
       "      <td>71.2833</td>\n",
       "      <td>1.0</td>\n",
       "    </tr>\n",
       "    <tr>\n",
       "      <th>2</th>\n",
       "      <td>3.0</td>\n",
       "      <td>3.0</td>\n",
       "      <td>0.0</td>\n",
       "      <td>26.000000</td>\n",
       "      <td>0.0</td>\n",
       "      <td>0.0</td>\n",
       "      <td>7.9250</td>\n",
       "      <td>0.0</td>\n",
       "    </tr>\n",
       "    <tr>\n",
       "      <th>3</th>\n",
       "      <td>4.0</td>\n",
       "      <td>1.0</td>\n",
       "      <td>0.0</td>\n",
       "      <td>35.000000</td>\n",
       "      <td>1.0</td>\n",
       "      <td>0.0</td>\n",
       "      <td>53.1000</td>\n",
       "      <td>0.0</td>\n",
       "    </tr>\n",
       "    <tr>\n",
       "      <th>4</th>\n",
       "      <td>5.0</td>\n",
       "      <td>3.0</td>\n",
       "      <td>1.0</td>\n",
       "      <td>35.000000</td>\n",
       "      <td>0.0</td>\n",
       "      <td>0.0</td>\n",
       "      <td>8.0500</td>\n",
       "      <td>0.0</td>\n",
       "    </tr>\n",
       "    <tr>\n",
       "      <th>...</th>\n",
       "      <td>...</td>\n",
       "      <td>...</td>\n",
       "      <td>...</td>\n",
       "      <td>...</td>\n",
       "      <td>...</td>\n",
       "      <td>...</td>\n",
       "      <td>...</td>\n",
       "      <td>...</td>\n",
       "    </tr>\n",
       "    <tr>\n",
       "      <th>886</th>\n",
       "      <td>887.0</td>\n",
       "      <td>2.0</td>\n",
       "      <td>1.0</td>\n",
       "      <td>27.000000</td>\n",
       "      <td>0.0</td>\n",
       "      <td>0.0</td>\n",
       "      <td>13.0000</td>\n",
       "      <td>0.0</td>\n",
       "    </tr>\n",
       "    <tr>\n",
       "      <th>887</th>\n",
       "      <td>888.0</td>\n",
       "      <td>1.0</td>\n",
       "      <td>0.0</td>\n",
       "      <td>19.000000</td>\n",
       "      <td>0.0</td>\n",
       "      <td>0.0</td>\n",
       "      <td>30.0000</td>\n",
       "      <td>0.0</td>\n",
       "    </tr>\n",
       "    <tr>\n",
       "      <th>888</th>\n",
       "      <td>889.0</td>\n",
       "      <td>3.0</td>\n",
       "      <td>0.0</td>\n",
       "      <td>29.699118</td>\n",
       "      <td>1.0</td>\n",
       "      <td>2.0</td>\n",
       "      <td>23.4500</td>\n",
       "      <td>0.0</td>\n",
       "    </tr>\n",
       "    <tr>\n",
       "      <th>889</th>\n",
       "      <td>890.0</td>\n",
       "      <td>1.0</td>\n",
       "      <td>1.0</td>\n",
       "      <td>26.000000</td>\n",
       "      <td>0.0</td>\n",
       "      <td>0.0</td>\n",
       "      <td>30.0000</td>\n",
       "      <td>1.0</td>\n",
       "    </tr>\n",
       "    <tr>\n",
       "      <th>890</th>\n",
       "      <td>891.0</td>\n",
       "      <td>3.0</td>\n",
       "      <td>1.0</td>\n",
       "      <td>32.000000</td>\n",
       "      <td>0.0</td>\n",
       "      <td>0.0</td>\n",
       "      <td>7.7500</td>\n",
       "      <td>2.0</td>\n",
       "    </tr>\n",
       "  </tbody>\n",
       "</table>\n",
       "<p>891 rows × 8 columns</p>\n",
       "</div>"
      ],
      "text/plain": [
       "     PassengerId  Pclass  Sex        Age  SibSp  Parch     Fare  Embarked\n",
       "0            1.0     3.0  1.0  22.000000    1.0    0.0   7.2500       0.0\n",
       "1            2.0     1.0  0.0  38.000000    1.0    0.0  71.2833       1.0\n",
       "2            3.0     3.0  0.0  26.000000    0.0    0.0   7.9250       0.0\n",
       "3            4.0     1.0  0.0  35.000000    1.0    0.0  53.1000       0.0\n",
       "4            5.0     3.0  1.0  35.000000    0.0    0.0   8.0500       0.0\n",
       "..           ...     ...  ...        ...    ...    ...      ...       ...\n",
       "886        887.0     2.0  1.0  27.000000    0.0    0.0  13.0000       0.0\n",
       "887        888.0     1.0  0.0  19.000000    0.0    0.0  30.0000       0.0\n",
       "888        889.0     3.0  0.0  29.699118    1.0    2.0  23.4500       0.0\n",
       "889        890.0     1.0  1.0  26.000000    0.0    0.0  30.0000       1.0\n",
       "890        891.0     3.0  1.0  32.000000    0.0    0.0   7.7500       2.0\n",
       "\n",
       "[891 rows x 8 columns]"
      ]
     },
     "execution_count": 15,
     "metadata": {},
     "output_type": "execute_result"
    }
   ],
   "source": [
    "X"
   ]
  },
  {
   "cell_type": "code",
   "execution_count": 16,
   "id": "cbfa6eb6",
   "metadata": {
    "execution": {
     "iopub.execute_input": "2022-10-22T19:20:49.363516Z",
     "iopub.status.busy": "2022-10-22T19:20:49.363163Z",
     "iopub.status.idle": "2022-10-22T19:20:49.383529Z",
     "shell.execute_reply": "2022-10-22T19:20:49.382490Z"
    },
    "papermill": {
     "duration": 0.031784,
     "end_time": "2022-10-22T19:20:49.385602",
     "exception": false,
     "start_time": "2022-10-22T19:20:49.353818",
     "status": "completed"
    },
    "tags": []
   },
   "outputs": [
    {
     "data": {
      "text/html": [
       "<div>\n",
       "<style scoped>\n",
       "    .dataframe tbody tr th:only-of-type {\n",
       "        vertical-align: middle;\n",
       "    }\n",
       "\n",
       "    .dataframe tbody tr th {\n",
       "        vertical-align: top;\n",
       "    }\n",
       "\n",
       "    .dataframe thead th {\n",
       "        text-align: right;\n",
       "    }\n",
       "</style>\n",
       "<table border=\"1\" class=\"dataframe\">\n",
       "  <thead>\n",
       "    <tr style=\"text-align: right;\">\n",
       "      <th></th>\n",
       "      <th>PassengerId</th>\n",
       "      <th>Pclass</th>\n",
       "      <th>Sex</th>\n",
       "      <th>Age</th>\n",
       "      <th>SibSp</th>\n",
       "      <th>Parch</th>\n",
       "      <th>Fare</th>\n",
       "      <th>Embarked</th>\n",
       "    </tr>\n",
       "  </thead>\n",
       "  <tbody>\n",
       "    <tr>\n",
       "      <th>0</th>\n",
       "      <td>892.0</td>\n",
       "      <td>3.0</td>\n",
       "      <td>1.0</td>\n",
       "      <td>34.50000</td>\n",
       "      <td>0.0</td>\n",
       "      <td>0.0</td>\n",
       "      <td>7.8292</td>\n",
       "      <td>2.0</td>\n",
       "    </tr>\n",
       "    <tr>\n",
       "      <th>1</th>\n",
       "      <td>893.0</td>\n",
       "      <td>3.0</td>\n",
       "      <td>0.0</td>\n",
       "      <td>47.00000</td>\n",
       "      <td>1.0</td>\n",
       "      <td>0.0</td>\n",
       "      <td>7.0000</td>\n",
       "      <td>0.0</td>\n",
       "    </tr>\n",
       "    <tr>\n",
       "      <th>2</th>\n",
       "      <td>894.0</td>\n",
       "      <td>2.0</td>\n",
       "      <td>1.0</td>\n",
       "      <td>62.00000</td>\n",
       "      <td>0.0</td>\n",
       "      <td>0.0</td>\n",
       "      <td>9.6875</td>\n",
       "      <td>2.0</td>\n",
       "    </tr>\n",
       "    <tr>\n",
       "      <th>3</th>\n",
       "      <td>895.0</td>\n",
       "      <td>3.0</td>\n",
       "      <td>1.0</td>\n",
       "      <td>27.00000</td>\n",
       "      <td>0.0</td>\n",
       "      <td>0.0</td>\n",
       "      <td>8.6625</td>\n",
       "      <td>0.0</td>\n",
       "    </tr>\n",
       "    <tr>\n",
       "      <th>4</th>\n",
       "      <td>896.0</td>\n",
       "      <td>3.0</td>\n",
       "      <td>0.0</td>\n",
       "      <td>22.00000</td>\n",
       "      <td>1.0</td>\n",
       "      <td>1.0</td>\n",
       "      <td>12.2875</td>\n",
       "      <td>0.0</td>\n",
       "    </tr>\n",
       "    <tr>\n",
       "      <th>...</th>\n",
       "      <td>...</td>\n",
       "      <td>...</td>\n",
       "      <td>...</td>\n",
       "      <td>...</td>\n",
       "      <td>...</td>\n",
       "      <td>...</td>\n",
       "      <td>...</td>\n",
       "      <td>...</td>\n",
       "    </tr>\n",
       "    <tr>\n",
       "      <th>413</th>\n",
       "      <td>1305.0</td>\n",
       "      <td>3.0</td>\n",
       "      <td>1.0</td>\n",
       "      <td>30.27259</td>\n",
       "      <td>0.0</td>\n",
       "      <td>0.0</td>\n",
       "      <td>8.0500</td>\n",
       "      <td>0.0</td>\n",
       "    </tr>\n",
       "    <tr>\n",
       "      <th>414</th>\n",
       "      <td>1306.0</td>\n",
       "      <td>1.0</td>\n",
       "      <td>0.0</td>\n",
       "      <td>39.00000</td>\n",
       "      <td>0.0</td>\n",
       "      <td>0.0</td>\n",
       "      <td>108.9000</td>\n",
       "      <td>1.0</td>\n",
       "    </tr>\n",
       "    <tr>\n",
       "      <th>415</th>\n",
       "      <td>1307.0</td>\n",
       "      <td>3.0</td>\n",
       "      <td>1.0</td>\n",
       "      <td>38.50000</td>\n",
       "      <td>0.0</td>\n",
       "      <td>0.0</td>\n",
       "      <td>7.2500</td>\n",
       "      <td>0.0</td>\n",
       "    </tr>\n",
       "    <tr>\n",
       "      <th>416</th>\n",
       "      <td>1308.0</td>\n",
       "      <td>3.0</td>\n",
       "      <td>1.0</td>\n",
       "      <td>30.27259</td>\n",
       "      <td>0.0</td>\n",
       "      <td>0.0</td>\n",
       "      <td>8.0500</td>\n",
       "      <td>0.0</td>\n",
       "    </tr>\n",
       "    <tr>\n",
       "      <th>417</th>\n",
       "      <td>1309.0</td>\n",
       "      <td>3.0</td>\n",
       "      <td>1.0</td>\n",
       "      <td>30.27259</td>\n",
       "      <td>1.0</td>\n",
       "      <td>1.0</td>\n",
       "      <td>22.3583</td>\n",
       "      <td>1.0</td>\n",
       "    </tr>\n",
       "  </tbody>\n",
       "</table>\n",
       "<p>418 rows × 8 columns</p>\n",
       "</div>"
      ],
      "text/plain": [
       "     PassengerId  Pclass  Sex       Age  SibSp  Parch      Fare  Embarked\n",
       "0          892.0     3.0  1.0  34.50000    0.0    0.0    7.8292       2.0\n",
       "1          893.0     3.0  0.0  47.00000    1.0    0.0    7.0000       0.0\n",
       "2          894.0     2.0  1.0  62.00000    0.0    0.0    9.6875       2.0\n",
       "3          895.0     3.0  1.0  27.00000    0.0    0.0    8.6625       0.0\n",
       "4          896.0     3.0  0.0  22.00000    1.0    1.0   12.2875       0.0\n",
       "..           ...     ...  ...       ...    ...    ...       ...       ...\n",
       "413       1305.0     3.0  1.0  30.27259    0.0    0.0    8.0500       0.0\n",
       "414       1306.0     1.0  0.0  39.00000    0.0    0.0  108.9000       1.0\n",
       "415       1307.0     3.0  1.0  38.50000    0.0    0.0    7.2500       0.0\n",
       "416       1308.0     3.0  1.0  30.27259    0.0    0.0    8.0500       0.0\n",
       "417       1309.0     3.0  1.0  30.27259    1.0    1.0   22.3583       1.0\n",
       "\n",
       "[418 rows x 8 columns]"
      ]
     },
     "execution_count": 16,
     "metadata": {},
     "output_type": "execute_result"
    }
   ],
   "source": [
    "test_set_final"
   ]
  },
  {
   "cell_type": "code",
   "execution_count": 17,
   "id": "8b9025d0",
   "metadata": {
    "execution": {
     "iopub.execute_input": "2022-10-22T19:20:49.404535Z",
     "iopub.status.busy": "2022-10-22T19:20:49.404195Z",
     "iopub.status.idle": "2022-10-22T19:20:49.409984Z",
     "shell.execute_reply": "2022-10-22T19:20:49.409082Z"
    },
    "papermill": {
     "duration": 0.017973,
     "end_time": "2022-10-22T19:20:49.412184",
     "exception": false,
     "start_time": "2022-10-22T19:20:49.394211",
     "status": "completed"
    },
    "tags": []
   },
   "outputs": [],
   "source": [
    "y= train_set['Survived']"
   ]
  },
  {
   "cell_type": "code",
   "execution_count": 18,
   "id": "b26e0ba6",
   "metadata": {
    "execution": {
     "iopub.execute_input": "2022-10-22T19:20:49.431302Z",
     "iopub.status.busy": "2022-10-22T19:20:49.430445Z",
     "iopub.status.idle": "2022-10-22T19:20:49.437737Z",
     "shell.execute_reply": "2022-10-22T19:20:49.436970Z"
    },
    "papermill": {
     "duration": 0.018896,
     "end_time": "2022-10-22T19:20:49.439663",
     "exception": false,
     "start_time": "2022-10-22T19:20:49.420767",
     "status": "completed"
    },
    "tags": []
   },
   "outputs": [
    {
     "data": {
      "text/plain": [
       "0      0\n",
       "1      1\n",
       "2      1\n",
       "3      1\n",
       "4      0\n",
       "      ..\n",
       "886    0\n",
       "887    1\n",
       "888    0\n",
       "889    1\n",
       "890    0\n",
       "Name: Survived, Length: 891, dtype: int64"
      ]
     },
     "execution_count": 18,
     "metadata": {},
     "output_type": "execute_result"
    }
   ],
   "source": [
    "y"
   ]
  },
  {
   "cell_type": "code",
   "execution_count": 19,
   "id": "26d926c5",
   "metadata": {
    "execution": {
     "iopub.execute_input": "2022-10-22T19:20:49.458983Z",
     "iopub.status.busy": "2022-10-22T19:20:49.458579Z",
     "iopub.status.idle": "2022-10-22T19:20:49.465256Z",
     "shell.execute_reply": "2022-10-22T19:20:49.464468Z"
    },
    "papermill": {
     "duration": 0.018706,
     "end_time": "2022-10-22T19:20:49.467209",
     "exception": false,
     "start_time": "2022-10-22T19:20:49.448503",
     "status": "completed"
    },
    "tags": []
   },
   "outputs": [],
   "source": [
    "# splitting train set for some more - to get validation how well every algorithm works\n",
    "from sklearn.model_selection import train_test_split\n",
    "X_train, X_test, y_train, y_test = train_test_split(X, y , test_size=0.25, random_state=0)"
   ]
  },
  {
   "cell_type": "code",
   "execution_count": 20,
   "id": "96c0df90",
   "metadata": {
    "execution": {
     "iopub.execute_input": "2022-10-22T19:20:49.486088Z",
     "iopub.status.busy": "2022-10-22T19:20:49.485739Z",
     "iopub.status.idle": "2022-10-22T19:20:49.499894Z",
     "shell.execute_reply": "2022-10-22T19:20:49.498760Z"
    },
    "papermill": {
     "duration": 0.026648,
     "end_time": "2022-10-22T19:20:49.502381",
     "exception": false,
     "start_time": "2022-10-22T19:20:49.475733",
     "status": "completed"
    },
    "tags": []
   },
   "outputs": [],
   "source": [
    "from sklearn.preprocessing import StandardScaler\n",
    "\n",
    "ss_train = StandardScaler()\n",
    "X_train = ss_train.fit_transform(X_train)\n",
    "\n",
    "ss_test = StandardScaler()\n",
    "X_test = ss_test.fit_transform(X_test)\n",
    "\n",
    "ss_test = StandardScaler()\n",
    "test_set_final = ss_test.fit_transform(test_set_final)"
   ]
  },
  {
   "cell_type": "code",
   "execution_count": 21,
   "id": "3d5537f7",
   "metadata": {
    "execution": {
     "iopub.execute_input": "2022-10-22T19:20:49.521674Z",
     "iopub.status.busy": "2022-10-22T19:20:49.521294Z",
     "iopub.status.idle": "2022-10-22T19:20:49.622267Z",
     "shell.execute_reply": "2022-10-22T19:20:49.621209Z"
    },
    "papermill": {
     "duration": 0.113844,
     "end_time": "2022-10-22T19:20:49.625107",
     "exception": false,
     "start_time": "2022-10-22T19:20:49.511263",
     "status": "completed"
    },
    "tags": []
   },
   "outputs": [],
   "source": [
    "# Visit this webpage: https://www.learndatasci.com/glossary/binary-classification/\n",
    "## training the models\n",
    "models = {}\n",
    "\n",
    "# Logistic Regression\n",
    "from sklearn.linear_model import LogisticRegression\n",
    "models['Logistic Regression'] = LogisticRegression()\n",
    "\n",
    "# # Support Vector Machines\n",
    "# from sklearn.svm import LinearSVC\n",
    "# models['Support Vector Machines'] = LinearSVC()\n",
    "\n",
    "# Decision Trees\n",
    "from sklearn.tree import DecisionTreeClassifier\n",
    "models['Decision Trees'] = DecisionTreeClassifier()\n",
    "\n",
    "# Random Forest\n",
    "from sklearn.ensemble import RandomForestClassifier\n",
    "models['Random Forest'] = RandomForestClassifier()\n",
    "\n",
    "# Naive Bayes\n",
    "from sklearn.naive_bayes import GaussianNB\n",
    "models['Naive Bayes'] = GaussianNB()\n",
    "\n",
    "# K-Nearest Neighbors\n",
    "from sklearn.neighbors import KNeighborsClassifier\n",
    "models['K-Nearest Neighbor'] = KNeighborsClassifier()"
   ]
  },
  {
   "cell_type": "code",
   "execution_count": 22,
   "id": "79d6cfd8",
   "metadata": {
    "execution": {
     "iopub.execute_input": "2022-10-22T19:20:49.645124Z",
     "iopub.status.busy": "2022-10-22T19:20:49.644371Z",
     "iopub.status.idle": "2022-10-22T19:20:49.892686Z",
     "shell.execute_reply": "2022-10-22T19:20:49.891758Z"
    },
    "papermill": {
     "duration": 0.261279,
     "end_time": "2022-10-22T19:20:49.895411",
     "exception": false,
     "start_time": "2022-10-22T19:20:49.634132",
     "status": "completed"
    },
    "tags": []
   },
   "outputs": [],
   "source": [
    "from sklearn.metrics import accuracy_score, precision_score, recall_score\n",
    "\n",
    "accuracy, precision, recall = {}, {}, {}\n",
    "\n",
    "for key in models.keys():\n",
    "    \n",
    "    # Fit the classifier\n",
    "    models[key].fit(X_train, y_train)\n",
    "    \n",
    "    # Make predictions\n",
    "    predictions = models[key].predict(X_test)\n",
    "    \n",
    "    # Calculate metrics\n",
    "    accuracy[key] = accuracy_score(predictions, y_test)\n",
    "    precision[key] = precision_score(predictions, y_test)\n",
    "    recall[key] = recall_score(predictions, y_test)"
   ]
  },
  {
   "cell_type": "code",
   "execution_count": 23,
   "id": "6e74c5ad",
   "metadata": {
    "execution": {
     "iopub.execute_input": "2022-10-22T19:20:49.914573Z",
     "iopub.status.busy": "2022-10-22T19:20:49.914206Z",
     "iopub.status.idle": "2022-10-22T19:20:49.930387Z",
     "shell.execute_reply": "2022-10-22T19:20:49.929110Z"
    },
    "papermill": {
     "duration": 0.028319,
     "end_time": "2022-10-22T19:20:49.932634",
     "exception": false,
     "start_time": "2022-10-22T19:20:49.904315",
     "status": "completed"
    },
    "tags": []
   },
   "outputs": [
    {
     "data": {
      "text/html": [
       "<div>\n",
       "<style scoped>\n",
       "    .dataframe tbody tr th:only-of-type {\n",
       "        vertical-align: middle;\n",
       "    }\n",
       "\n",
       "    .dataframe tbody tr th {\n",
       "        vertical-align: top;\n",
       "    }\n",
       "\n",
       "    .dataframe thead th {\n",
       "        text-align: right;\n",
       "    }\n",
       "</style>\n",
       "<table border=\"1\" class=\"dataframe\">\n",
       "  <thead>\n",
       "    <tr style=\"text-align: right;\">\n",
       "      <th></th>\n",
       "      <th>Accuracy</th>\n",
       "      <th>Precision</th>\n",
       "      <th>Recall</th>\n",
       "    </tr>\n",
       "  </thead>\n",
       "  <tbody>\n",
       "    <tr>\n",
       "      <th>Logistic Regression</th>\n",
       "      <td>0.807175</td>\n",
       "      <td>0.714286</td>\n",
       "      <td>0.759494</td>\n",
       "    </tr>\n",
       "    <tr>\n",
       "      <th>Decision Trees</th>\n",
       "      <td>0.686099</td>\n",
       "      <td>0.738095</td>\n",
       "      <td>0.563636</td>\n",
       "    </tr>\n",
       "    <tr>\n",
       "      <th>Random Forest</th>\n",
       "      <td>0.820628</td>\n",
       "      <td>0.690476</td>\n",
       "      <td>0.805556</td>\n",
       "    </tr>\n",
       "    <tr>\n",
       "      <th>Naive Bayes</th>\n",
       "      <td>0.775785</td>\n",
       "      <td>0.726190</td>\n",
       "      <td>0.693182</td>\n",
       "    </tr>\n",
       "    <tr>\n",
       "      <th>K-Nearest Neighbor</th>\n",
       "      <td>0.793722</td>\n",
       "      <td>0.654762</td>\n",
       "      <td>0.763889</td>\n",
       "    </tr>\n",
       "  </tbody>\n",
       "</table>\n",
       "</div>"
      ],
      "text/plain": [
       "                     Accuracy  Precision    Recall\n",
       "Logistic Regression  0.807175   0.714286  0.759494\n",
       "Decision Trees       0.686099   0.738095  0.563636\n",
       "Random Forest        0.820628   0.690476  0.805556\n",
       "Naive Bayes          0.775785   0.726190  0.693182\n",
       "K-Nearest Neighbor   0.793722   0.654762  0.763889"
      ]
     },
     "execution_count": 23,
     "metadata": {},
     "output_type": "execute_result"
    }
   ],
   "source": [
    "df_model = pd.DataFrame(index=models.keys(), columns=['Accuracy', 'Precision', 'Recall'])\n",
    "df_model['Accuracy'] = accuracy.values()\n",
    "df_model['Precision'] = precision.values()\n",
    "df_model['Recall'] = recall.values()\n",
    "\n",
    "df_model"
   ]
  },
  {
   "cell_type": "code",
   "execution_count": 24,
   "id": "28a832d4",
   "metadata": {
    "execution": {
     "iopub.execute_input": "2022-10-22T19:20:49.952106Z",
     "iopub.status.busy": "2022-10-22T19:20:49.951692Z",
     "iopub.status.idle": "2022-10-22T19:20:49.976873Z",
     "shell.execute_reply": "2022-10-22T19:20:49.975658Z"
    },
    "papermill": {
     "duration": 0.037915,
     "end_time": "2022-10-22T19:20:49.979452",
     "exception": false,
     "start_time": "2022-10-22T19:20:49.941537",
     "status": "completed"
    },
    "tags": []
   },
   "outputs": [],
   "source": [
    "# I choose the best model\n",
    "predictions_final = models['Random Forest'].predict(test_set_final)"
   ]
  },
  {
   "cell_type": "code",
   "execution_count": 25,
   "id": "bd24efd8",
   "metadata": {
    "execution": {
     "iopub.execute_input": "2022-10-22T19:20:49.999237Z",
     "iopub.status.busy": "2022-10-22T19:20:49.998183Z",
     "iopub.status.idle": "2022-10-22T19:20:50.008075Z",
     "shell.execute_reply": "2022-10-22T19:20:50.006762Z"
    },
    "papermill": {
     "duration": 0.022222,
     "end_time": "2022-10-22T19:20:50.010684",
     "exception": false,
     "start_time": "2022-10-22T19:20:49.988462",
     "status": "completed"
    },
    "tags": []
   },
   "outputs": [
    {
     "name": "stdout",
     "output_type": "stream",
     "text": [
      "Your submission was successfully saved!\n"
     ]
    }
   ],
   "source": [
    "output = pd.DataFrame({'PassengerId': test_set.PassengerId, 'Survived': predictions_final})\n",
    "output.to_csv('submission.csv', index=False)\n",
    "print(\"Your submission was successfully saved!\")"
   ]
  },
  {
   "cell_type": "code",
   "execution_count": 26,
   "id": "c7ac3153",
   "metadata": {
    "execution": {
     "iopub.execute_input": "2022-10-22T19:20:50.029856Z",
     "iopub.status.busy": "2022-10-22T19:20:50.029478Z",
     "iopub.status.idle": "2022-10-22T19:20:50.040534Z",
     "shell.execute_reply": "2022-10-22T19:20:50.039570Z"
    },
    "papermill": {
     "duration": 0.023271,
     "end_time": "2022-10-22T19:20:50.042851",
     "exception": false,
     "start_time": "2022-10-22T19:20:50.019580",
     "status": "completed"
    },
    "tags": []
   },
   "outputs": [
    {
     "data": {
      "text/html": [
       "<div>\n",
       "<style scoped>\n",
       "    .dataframe tbody tr th:only-of-type {\n",
       "        vertical-align: middle;\n",
       "    }\n",
       "\n",
       "    .dataframe tbody tr th {\n",
       "        vertical-align: top;\n",
       "    }\n",
       "\n",
       "    .dataframe thead th {\n",
       "        text-align: right;\n",
       "    }\n",
       "</style>\n",
       "<table border=\"1\" class=\"dataframe\">\n",
       "  <thead>\n",
       "    <tr style=\"text-align: right;\">\n",
       "      <th></th>\n",
       "      <th>PassengerId</th>\n",
       "      <th>Survived</th>\n",
       "    </tr>\n",
       "  </thead>\n",
       "  <tbody>\n",
       "    <tr>\n",
       "      <th>0</th>\n",
       "      <td>892</td>\n",
       "      <td>0</td>\n",
       "    </tr>\n",
       "    <tr>\n",
       "      <th>1</th>\n",
       "      <td>893</td>\n",
       "      <td>0</td>\n",
       "    </tr>\n",
       "    <tr>\n",
       "      <th>2</th>\n",
       "      <td>894</td>\n",
       "      <td>0</td>\n",
       "    </tr>\n",
       "    <tr>\n",
       "      <th>3</th>\n",
       "      <td>895</td>\n",
       "      <td>0</td>\n",
       "    </tr>\n",
       "    <tr>\n",
       "      <th>4</th>\n",
       "      <td>896</td>\n",
       "      <td>1</td>\n",
       "    </tr>\n",
       "    <tr>\n",
       "      <th>...</th>\n",
       "      <td>...</td>\n",
       "      <td>...</td>\n",
       "    </tr>\n",
       "    <tr>\n",
       "      <th>413</th>\n",
       "      <td>1305</td>\n",
       "      <td>0</td>\n",
       "    </tr>\n",
       "    <tr>\n",
       "      <th>414</th>\n",
       "      <td>1306</td>\n",
       "      <td>1</td>\n",
       "    </tr>\n",
       "    <tr>\n",
       "      <th>415</th>\n",
       "      <td>1307</td>\n",
       "      <td>0</td>\n",
       "    </tr>\n",
       "    <tr>\n",
       "      <th>416</th>\n",
       "      <td>1308</td>\n",
       "      <td>0</td>\n",
       "    </tr>\n",
       "    <tr>\n",
       "      <th>417</th>\n",
       "      <td>1309</td>\n",
       "      <td>0</td>\n",
       "    </tr>\n",
       "  </tbody>\n",
       "</table>\n",
       "<p>418 rows × 2 columns</p>\n",
       "</div>"
      ],
      "text/plain": [
       "     PassengerId  Survived\n",
       "0            892         0\n",
       "1            893         0\n",
       "2            894         0\n",
       "3            895         0\n",
       "4            896         1\n",
       "..           ...       ...\n",
       "413         1305         0\n",
       "414         1306         1\n",
       "415         1307         0\n",
       "416         1308         0\n",
       "417         1309         0\n",
       "\n",
       "[418 rows x 2 columns]"
      ]
     },
     "execution_count": 26,
     "metadata": {},
     "output_type": "execute_result"
    }
   ],
   "source": [
    "output"
   ]
  }
 ],
 "metadata": {
  "kernelspec": {
   "display_name": "Python 3",
   "language": "python",
   "name": "python3"
  },
  "language_info": {
   "codemirror_mode": {
    "name": "ipython",
    "version": 3
   },
   "file_extension": ".py",
   "mimetype": "text/x-python",
   "name": "python",
   "nbconvert_exporter": "python",
   "pygments_lexer": "ipython3",
   "version": "3.7.12"
  },
  "papermill": {
   "default_parameters": {},
   "duration": 11.034293,
   "end_time": "2022-10-22T19:20:50.774092",
   "environment_variables": {},
   "exception": null,
   "input_path": "__notebook__.ipynb",
   "output_path": "__notebook__.ipynb",
   "parameters": {},
   "start_time": "2022-10-22T19:20:39.739799",
   "version": "2.3.4"
  }
 },
 "nbformat": 4,
 "nbformat_minor": 5
}
