{
 "cells": [
  {
   "cell_type": "markdown",
   "id": "b1dcc77c",
   "metadata": {},
   "source": [
    "# Projekt rekrutacyjny do koła Data Science Politechniki Warszawskiej"
   ]
  },
  {
   "cell_type": "markdown",
   "id": "71ca5659",
   "metadata": {},
   "source": [
    "### Model machine learnignowy na zbiorze Titanic, autor: Michał Stobiecki"
   ]
  },
  {
   "cell_type": "code",
   "execution_count": 385,
   "id": "53d859c4",
   "metadata": {},
   "outputs": [
    {
     "name": "stdout",
     "output_type": "stream",
     "text": [
      "The autotime extension is already loaded. To reload it, use:\n",
      "  %reload_ext autotime\n",
      "time: 0 ns (started: 2022-10-23 15:47:28 +02:00)\n"
     ]
    }
   ],
   "source": [
    "%load_ext autotime\n",
    "import pandas as pd\n",
    "import numpy as np\n",
    "import warnings\n",
    "warnings.filterwarnings('ignore')\n",
    "\n"
   ]
  },
  {
   "cell_type": "code",
   "execution_count": 386,
   "id": "761f83c7",
   "metadata": {},
   "outputs": [
    {
     "name": "stdout",
     "output_type": "stream",
     "text": [
      "time: 2.14 s (started: 2022-10-23 15:47:28 +02:00)\n"
     ]
    }
   ],
   "source": [
    "df = pd.read_html(\"https://github.com/datasciencedojo/datasets/blob/master/titanic.csv\")[0]"
   ]
  },
  {
   "cell_type": "code",
   "execution_count": 387,
   "id": "795c75e4",
   "metadata": {},
   "outputs": [
    {
     "data": {
      "text/html": [
       "<div>\n",
       "<style scoped>\n",
       "    .dataframe tbody tr th:only-of-type {\n",
       "        vertical-align: middle;\n",
       "    }\n",
       "\n",
       "    .dataframe tbody tr th {\n",
       "        vertical-align: top;\n",
       "    }\n",
       "\n",
       "    .dataframe thead th {\n",
       "        text-align: right;\n",
       "    }\n",
       "</style>\n",
       "<table border=\"1\" class=\"dataframe\">\n",
       "  <thead>\n",
       "    <tr style=\"text-align: right;\">\n",
       "      <th></th>\n",
       "      <th>Unnamed: 0</th>\n",
       "      <th>PassengerId</th>\n",
       "      <th>Survived</th>\n",
       "      <th>Pclass</th>\n",
       "      <th>Name</th>\n",
       "      <th>Sex</th>\n",
       "      <th>Age</th>\n",
       "      <th>SibSp</th>\n",
       "      <th>Parch</th>\n",
       "      <th>Ticket</th>\n",
       "      <th>Fare</th>\n",
       "      <th>Cabin</th>\n",
       "      <th>Embarked</th>\n",
       "    </tr>\n",
       "  </thead>\n",
       "  <tbody>\n",
       "    <tr>\n",
       "      <th>0</th>\n",
       "      <td>NaN</td>\n",
       "      <td>1</td>\n",
       "      <td>0</td>\n",
       "      <td>3</td>\n",
       "      <td>Braund, Mr. Owen Harris</td>\n",
       "      <td>male</td>\n",
       "      <td>22.0</td>\n",
       "      <td>1</td>\n",
       "      <td>0</td>\n",
       "      <td>A/5 21171</td>\n",
       "      <td>7.2500</td>\n",
       "      <td>NaN</td>\n",
       "      <td>S</td>\n",
       "    </tr>\n",
       "    <tr>\n",
       "      <th>1</th>\n",
       "      <td>NaN</td>\n",
       "      <td>2</td>\n",
       "      <td>1</td>\n",
       "      <td>1</td>\n",
       "      <td>Cumings, Mrs. John Bradley (Florence Briggs Th...</td>\n",
       "      <td>female</td>\n",
       "      <td>38.0</td>\n",
       "      <td>1</td>\n",
       "      <td>0</td>\n",
       "      <td>PC 17599</td>\n",
       "      <td>71.2833</td>\n",
       "      <td>C85</td>\n",
       "      <td>C</td>\n",
       "    </tr>\n",
       "    <tr>\n",
       "      <th>2</th>\n",
       "      <td>NaN</td>\n",
       "      <td>3</td>\n",
       "      <td>1</td>\n",
       "      <td>3</td>\n",
       "      <td>Heikkinen, Miss. Laina</td>\n",
       "      <td>female</td>\n",
       "      <td>26.0</td>\n",
       "      <td>0</td>\n",
       "      <td>0</td>\n",
       "      <td>STON/O2. 3101282</td>\n",
       "      <td>7.9250</td>\n",
       "      <td>NaN</td>\n",
       "      <td>S</td>\n",
       "    </tr>\n",
       "    <tr>\n",
       "      <th>3</th>\n",
       "      <td>NaN</td>\n",
       "      <td>4</td>\n",
       "      <td>1</td>\n",
       "      <td>1</td>\n",
       "      <td>Futrelle, Mrs. Jacques Heath (Lily May Peel)</td>\n",
       "      <td>female</td>\n",
       "      <td>35.0</td>\n",
       "      <td>1</td>\n",
       "      <td>0</td>\n",
       "      <td>113803</td>\n",
       "      <td>53.1000</td>\n",
       "      <td>C123</td>\n",
       "      <td>S</td>\n",
       "    </tr>\n",
       "    <tr>\n",
       "      <th>4</th>\n",
       "      <td>NaN</td>\n",
       "      <td>5</td>\n",
       "      <td>0</td>\n",
       "      <td>3</td>\n",
       "      <td>Allen, Mr. William Henry</td>\n",
       "      <td>male</td>\n",
       "      <td>35.0</td>\n",
       "      <td>0</td>\n",
       "      <td>0</td>\n",
       "      <td>373450</td>\n",
       "      <td>8.0500</td>\n",
       "      <td>NaN</td>\n",
       "      <td>S</td>\n",
       "    </tr>\n",
       "  </tbody>\n",
       "</table>\n",
       "</div>"
      ],
      "text/plain": [
       "   Unnamed: 0  PassengerId  Survived  Pclass  \\\n",
       "0         NaN            1         0       3   \n",
       "1         NaN            2         1       1   \n",
       "2         NaN            3         1       3   \n",
       "3         NaN            4         1       1   \n",
       "4         NaN            5         0       3   \n",
       "\n",
       "                                                Name     Sex   Age  SibSp  \\\n",
       "0                            Braund, Mr. Owen Harris    male  22.0      1   \n",
       "1  Cumings, Mrs. John Bradley (Florence Briggs Th...  female  38.0      1   \n",
       "2                             Heikkinen, Miss. Laina  female  26.0      0   \n",
       "3       Futrelle, Mrs. Jacques Heath (Lily May Peel)  female  35.0      1   \n",
       "4                           Allen, Mr. William Henry    male  35.0      0   \n",
       "\n",
       "   Parch            Ticket     Fare Cabin Embarked  \n",
       "0      0         A/5 21171   7.2500   NaN        S  \n",
       "1      0          PC 17599  71.2833   C85        C  \n",
       "2      0  STON/O2. 3101282   7.9250   NaN        S  \n",
       "3      0            113803  53.1000  C123        S  \n",
       "4      0            373450   8.0500   NaN        S  "
      ]
     },
     "execution_count": 387,
     "metadata": {},
     "output_type": "execute_result"
    },
    {
     "name": "stdout",
     "output_type": "stream",
     "text": [
      "time: 16 ms (started: 2022-10-23 15:47:30 +02:00)\n"
     ]
    }
   ],
   "source": [
    "df.head()"
   ]
  },
  {
   "cell_type": "code",
   "execution_count": 388,
   "id": "2e65c856",
   "metadata": {},
   "outputs": [
    {
     "name": "stdout",
     "output_type": "stream",
     "text": [
      "time: 0 ns (started: 2022-10-23 15:47:30 +02:00)\n"
     ]
    }
   ],
   "source": [
    "#usuńmy zbędną kolumnę\n",
    "del df[\"Unnamed: 0\"]"
   ]
  },
  {
   "cell_type": "code",
   "execution_count": 389,
   "id": "eaa09559",
   "metadata": {},
   "outputs": [
    {
     "data": {
      "text/plain": [
       "PassengerId      int64\n",
       "Survived         int64\n",
       "Pclass           int64\n",
       "Name            object\n",
       "Sex             object\n",
       "Age            float64\n",
       "SibSp            int64\n",
       "Parch            int64\n",
       "Ticket          object\n",
       "Fare           float64\n",
       "Cabin           object\n",
       "Embarked        object\n",
       "dtype: object"
      ]
     },
     "execution_count": 389,
     "metadata": {},
     "output_type": "execute_result"
    },
    {
     "name": "stdout",
     "output_type": "stream",
     "text": [
      "time: 0 ns (started: 2022-10-23 15:47:30 +02:00)\n"
     ]
    }
   ],
   "source": [
    "#sprawdźmy typy danych\n",
    "df.dtypes"
   ]
  },
  {
   "cell_type": "code",
   "execution_count": 390,
   "id": "58c06140",
   "metadata": {},
   "outputs": [
    {
     "name": "stdout",
     "output_type": "stream",
     "text": [
      "time: 15 ms (started: 2022-10-23 15:47:30 +02:00)\n"
     ]
    }
   ],
   "source": [
    "#zmieńmy typ object na string\n",
    "df[\"Name\"] = df[\"Name\"].astype(\"string\")\n",
    "df[\"Sex\"] = df[\"Sex\"].astype(\"string\")\n",
    "df[\"Ticket\"] = df[\"Ticket\"].astype(\"string\")\n",
    "df[\"Cabin\"] = df[\"Cabin\"].astype(\"string\")\n",
    "df[\"Embarked\"] = df[\"Embarked\"].astype(\"string\")"
   ]
  },
  {
   "cell_type": "code",
   "execution_count": 391,
   "id": "32630a14",
   "metadata": {},
   "outputs": [
    {
     "name": "stdout",
     "output_type": "stream",
     "text": [
      "time: 16 ms (started: 2022-10-23 15:47:30 +02:00)\n"
     ]
    }
   ],
   "source": [
    "#zmieńmy kolejność kolumn w zbiorze\n",
    "df = df[['PassengerId', 'Name', 'Pclass', 'Sex', 'Age', 'SibSp', 'Parch', 'Ticket', 'Fare', 'Cabin', 'Embarked', 'Survived']]"
   ]
  },
  {
   "cell_type": "code",
   "execution_count": 392,
   "id": "c7806b48",
   "metadata": {},
   "outputs": [
    {
     "name": "stdout",
     "output_type": "stream",
     "text": [
      "time: 0 ns (started: 2022-10-23 15:47:30 +02:00)\n"
     ]
    }
   ],
   "source": [
    "#ustawmy PassengerId jako indeks\n",
    "df = df.set_index(\"PassengerId\")"
   ]
  },
  {
   "cell_type": "markdown",
   "id": "f31c418e",
   "metadata": {},
   "source": [
    "# Weryfikacja czy są duplikaty"
   ]
  },
  {
   "cell_type": "code",
   "execution_count": 393,
   "id": "7521ac9a",
   "metadata": {},
   "outputs": [
    {
     "data": {
      "text/plain": [
       "{False}"
      ]
     },
     "execution_count": 393,
     "metadata": {},
     "output_type": "execute_result"
    },
    {
     "name": "stdout",
     "output_type": "stream",
     "text": [
      "time: 15 ms (started: 2022-10-23 15:47:30 +02:00)\n"
     ]
    }
   ],
   "source": [
    "set(df[['Name', 'Pclass', 'Sex', 'Age', 'SibSp', 'Parch', 'Ticket', 'Fare',\n",
    "       'Cabin', 'Embarked', 'Survived']].duplicated()) #brak duplikatów"
   ]
  },
  {
   "cell_type": "markdown",
   "id": "38e93990",
   "metadata": {},
   "source": [
    "# Analiza zmiennych, które nie są numeryczne"
   ]
  },
  {
   "cell_type": "code",
   "execution_count": 394,
   "id": "123b3ff6",
   "metadata": {},
   "outputs": [
    {
     "name": "stdout",
     "output_type": "stream",
     "text": [
      "time: 0 ns (started: 2022-10-23 15:47:30 +02:00)\n"
     ]
    }
   ],
   "source": [
    "#Pomoże to uniknąć niedogodności w danych"
   ]
  },
  {
   "cell_type": "markdown",
   "id": "9ea54322",
   "metadata": {},
   "source": [
    "Kolumna Embarked"
   ]
  },
  {
   "cell_type": "code",
   "execution_count": 395,
   "id": "fe6dd4bd",
   "metadata": {},
   "outputs": [
    {
     "data": {
      "text/plain": [
       "{<NA>, 'C', 'Q', 'S'}"
      ]
     },
     "execution_count": 395,
     "metadata": {},
     "output_type": "execute_result"
    },
    {
     "name": "stdout",
     "output_type": "stream",
     "text": [
      "time: 16 ms (started: 2022-10-23 15:47:30 +02:00)\n"
     ]
    }
   ],
   "source": [
    "set(df.Embarked)\n",
    "\n",
    "#Embarked czyli z jakiego portu dany pasażer rozpoczął podróż\n",
    "#C - Cherbourg\n",
    "#S -Southampton\n",
    "#Q - Queenstown"
   ]
  },
  {
   "cell_type": "code",
   "execution_count": 396,
   "id": "dea2eba7",
   "metadata": {},
   "outputs": [
    {
     "name": "stdout",
     "output_type": "stream",
     "text": [
      "time: 15 ms (started: 2022-10-23 15:47:30 +02:00)\n"
     ]
    }
   ],
   "source": [
    "#Zamiana skrótów na pełne nazwy dla przejrzystości\n",
    "df[\"Embarked\"][df.Embarked == \"C\"] = \"Cherbourg\"\n",
    "df[\"Embarked\"][df.Embarked == \"S\"] = \"Southampton\"\n",
    "df[\"Embarked\"][df.Embarked == \"Q\"] = \"Queenstown\""
   ]
  },
  {
   "cell_type": "code",
   "execution_count": 397,
   "id": "4c9f894d",
   "metadata": {},
   "outputs": [
    {
     "data": {
      "text/plain": [
       "Southampton    644\n",
       "Cherbourg      168\n",
       "Queenstown      77\n",
       "<NA>             2\n",
       "Name: Embarked, dtype: Int64"
      ]
     },
     "execution_count": 397,
     "metadata": {},
     "output_type": "execute_result"
    },
    {
     "name": "stdout",
     "output_type": "stream",
     "text": [
      "time: 16 ms (started: 2022-10-23 15:47:30 +02:00)\n"
     ]
    }
   ],
   "source": [
    "df[\"Embarked\"].value_counts(dropna=False)"
   ]
  },
  {
   "cell_type": "markdown",
   "id": "a197e521",
   "metadata": {},
   "source": [
    "Kolumna Sex"
   ]
  },
  {
   "cell_type": "code",
   "execution_count": 398,
   "id": "c7d025e1",
   "metadata": {},
   "outputs": [
    {
     "data": {
      "text/plain": [
       "male      577\n",
       "female    314\n",
       "Name: Sex, dtype: Int64"
      ]
     },
     "execution_count": 398,
     "metadata": {},
     "output_type": "execute_result"
    },
    {
     "name": "stdout",
     "output_type": "stream",
     "text": [
      "time: 0 ns (started: 2022-10-23 15:47:30 +02:00)\n"
     ]
    }
   ],
   "source": [
    "df[\"Sex\"].value_counts(dropna=False)"
   ]
  },
  {
   "cell_type": "markdown",
   "id": "4994f9cf",
   "metadata": {},
   "source": [
    "Kolumna Ticket"
   ]
  },
  {
   "cell_type": "code",
   "execution_count": 399,
   "id": "33542479",
   "metadata": {},
   "outputs": [
    {
     "data": {
      "text/plain": [
       "347082              7\n",
       "1601                7\n",
       "CA. 2343            7\n",
       "3101295             6\n",
       "CA 2144             6\n",
       "                   ..\n",
       "2683                1\n",
       "SOTON/O2 3101287    1\n",
       "11774               1\n",
       "392092              1\n",
       "370376              1\n",
       "Name: Ticket, Length: 681, dtype: Int64"
      ]
     },
     "execution_count": 399,
     "metadata": {},
     "output_type": "execute_result"
    },
    {
     "name": "stdout",
     "output_type": "stream",
     "text": [
      "time: 0 ns (started: 2022-10-23 15:47:31 +02:00)\n"
     ]
    }
   ],
   "source": [
    "df[\"Ticket\"].value_counts() #za dużo kategorii, aby stworzyć z niej zmienną kategoryczną\n",
    "#może warto pobawić się w text mining i znaleźć coś co się powtarza w danych\n",
    "#na pierwszy rzut oka widać np. słowo CA na początku niektórych biletów"
   ]
  },
  {
   "cell_type": "code",
   "execution_count": 400,
   "id": "fdb6fc1e",
   "metadata": {
    "scrolled": true
   },
   "outputs": [
    {
     "data": {
      "text/html": [
       "<div>\n",
       "<style scoped>\n",
       "    .dataframe tbody tr th:only-of-type {\n",
       "        vertical-align: middle;\n",
       "    }\n",
       "\n",
       "    .dataframe tbody tr th {\n",
       "        vertical-align: top;\n",
       "    }\n",
       "\n",
       "    .dataframe thead th {\n",
       "        text-align: right;\n",
       "    }\n",
       "</style>\n",
       "<table border=\"1\" class=\"dataframe\">\n",
       "  <thead>\n",
       "    <tr style=\"text-align: right;\">\n",
       "      <th></th>\n",
       "      <th>Name</th>\n",
       "      <th>Pclass</th>\n",
       "      <th>Sex</th>\n",
       "      <th>Age</th>\n",
       "      <th>SibSp</th>\n",
       "      <th>Parch</th>\n",
       "      <th>Ticket</th>\n",
       "      <th>Fare</th>\n",
       "      <th>Cabin</th>\n",
       "      <th>Embarked</th>\n",
       "      <th>Survived</th>\n",
       "    </tr>\n",
       "    <tr>\n",
       "      <th>PassengerId</th>\n",
       "      <th></th>\n",
       "      <th></th>\n",
       "      <th></th>\n",
       "      <th></th>\n",
       "      <th></th>\n",
       "      <th></th>\n",
       "      <th></th>\n",
       "      <th></th>\n",
       "      <th></th>\n",
       "      <th></th>\n",
       "      <th></th>\n",
       "    </tr>\n",
       "  </thead>\n",
       "  <tbody>\n",
       "    <tr>\n",
       "      <th>14</th>\n",
       "      <td>Andersson, Mr. Anders Johan</td>\n",
       "      <td>3</td>\n",
       "      <td>male</td>\n",
       "      <td>39.0</td>\n",
       "      <td>1</td>\n",
       "      <td>5</td>\n",
       "      <td>347082</td>\n",
       "      <td>31.275</td>\n",
       "      <td>&lt;NA&gt;</td>\n",
       "      <td>Southampton</td>\n",
       "      <td>0</td>\n",
       "    </tr>\n",
       "    <tr>\n",
       "      <th>120</th>\n",
       "      <td>Andersson, Miss. Ellis Anna Maria</td>\n",
       "      <td>3</td>\n",
       "      <td>female</td>\n",
       "      <td>2.0</td>\n",
       "      <td>4</td>\n",
       "      <td>2</td>\n",
       "      <td>347082</td>\n",
       "      <td>31.275</td>\n",
       "      <td>&lt;NA&gt;</td>\n",
       "      <td>Southampton</td>\n",
       "      <td>0</td>\n",
       "    </tr>\n",
       "    <tr>\n",
       "      <th>542</th>\n",
       "      <td>Andersson, Miss. Ingeborg Constanzia</td>\n",
       "      <td>3</td>\n",
       "      <td>female</td>\n",
       "      <td>9.0</td>\n",
       "      <td>4</td>\n",
       "      <td>2</td>\n",
       "      <td>347082</td>\n",
       "      <td>31.275</td>\n",
       "      <td>&lt;NA&gt;</td>\n",
       "      <td>Southampton</td>\n",
       "      <td>0</td>\n",
       "    </tr>\n",
       "    <tr>\n",
       "      <th>543</th>\n",
       "      <td>Andersson, Miss. Sigrid Elisabeth</td>\n",
       "      <td>3</td>\n",
       "      <td>female</td>\n",
       "      <td>11.0</td>\n",
       "      <td>4</td>\n",
       "      <td>2</td>\n",
       "      <td>347082</td>\n",
       "      <td>31.275</td>\n",
       "      <td>&lt;NA&gt;</td>\n",
       "      <td>Southampton</td>\n",
       "      <td>0</td>\n",
       "    </tr>\n",
       "    <tr>\n",
       "      <th>611</th>\n",
       "      <td>Andersson, Mrs. Anders Johan (Alfrida Konstant...</td>\n",
       "      <td>3</td>\n",
       "      <td>female</td>\n",
       "      <td>39.0</td>\n",
       "      <td>1</td>\n",
       "      <td>5</td>\n",
       "      <td>347082</td>\n",
       "      <td>31.275</td>\n",
       "      <td>&lt;NA&gt;</td>\n",
       "      <td>Southampton</td>\n",
       "      <td>0</td>\n",
       "    </tr>\n",
       "    <tr>\n",
       "      <th>814</th>\n",
       "      <td>Andersson, Miss. Ebba Iris Alfrida</td>\n",
       "      <td>3</td>\n",
       "      <td>female</td>\n",
       "      <td>6.0</td>\n",
       "      <td>4</td>\n",
       "      <td>2</td>\n",
       "      <td>347082</td>\n",
       "      <td>31.275</td>\n",
       "      <td>&lt;NA&gt;</td>\n",
       "      <td>Southampton</td>\n",
       "      <td>0</td>\n",
       "    </tr>\n",
       "    <tr>\n",
       "      <th>851</th>\n",
       "      <td>Andersson, Master. Sigvard Harald Elias</td>\n",
       "      <td>3</td>\n",
       "      <td>male</td>\n",
       "      <td>4.0</td>\n",
       "      <td>4</td>\n",
       "      <td>2</td>\n",
       "      <td>347082</td>\n",
       "      <td>31.275</td>\n",
       "      <td>&lt;NA&gt;</td>\n",
       "      <td>Southampton</td>\n",
       "      <td>0</td>\n",
       "    </tr>\n",
       "  </tbody>\n",
       "</table>\n",
       "</div>"
      ],
      "text/plain": [
       "                                                          Name  Pclass  \\\n",
       "PassengerId                                                              \n",
       "14                                 Andersson, Mr. Anders Johan       3   \n",
       "120                          Andersson, Miss. Ellis Anna Maria       3   \n",
       "542                       Andersson, Miss. Ingeborg Constanzia       3   \n",
       "543                          Andersson, Miss. Sigrid Elisabeth       3   \n",
       "611          Andersson, Mrs. Anders Johan (Alfrida Konstant...       3   \n",
       "814                         Andersson, Miss. Ebba Iris Alfrida       3   \n",
       "851                    Andersson, Master. Sigvard Harald Elias       3   \n",
       "\n",
       "                Sex   Age  SibSp  Parch  Ticket    Fare Cabin     Embarked  \\\n",
       "PassengerId                                                                  \n",
       "14             male  39.0      1      5  347082  31.275  <NA>  Southampton   \n",
       "120          female   2.0      4      2  347082  31.275  <NA>  Southampton   \n",
       "542          female   9.0      4      2  347082  31.275  <NA>  Southampton   \n",
       "543          female  11.0      4      2  347082  31.275  <NA>  Southampton   \n",
       "611          female  39.0      1      5  347082  31.275  <NA>  Southampton   \n",
       "814          female   6.0      4      2  347082  31.275  <NA>  Southampton   \n",
       "851            male   4.0      4      2  347082  31.275  <NA>  Southampton   \n",
       "\n",
       "             Survived  \n",
       "PassengerId            \n",
       "14                  0  \n",
       "120                 0  \n",
       "542                 0  \n",
       "543                 0  \n",
       "611                 0  \n",
       "814                 0  \n",
       "851                 0  "
      ]
     },
     "execution_count": 400,
     "metadata": {},
     "output_type": "execute_result"
    },
    {
     "name": "stdout",
     "output_type": "stream",
     "text": [
      "time: 15 ms (started: 2022-10-23 15:47:31 +02:00)\n"
     ]
    }
   ],
   "source": [
    "df[df.Ticket == \"347082\"] #duplikat w nazwie biletu oznacza to, że nazwiska kilku osób są na jednym bilecie\n",
    "#W oczy rzuczają się także kolumny SibSp (liczba rodzeństwa i partnerów na statku) oraz Parch (liczbę rodziców/dzieci na statkui) \n",
    "#i Fare (opłata za rejs)"
   ]
  },
  {
   "cell_type": "code",
   "execution_count": 401,
   "id": "3504aebc",
   "metadata": {},
   "outputs": [
    {
     "data": {
      "text/html": [
       "<div>\n",
       "<style scoped>\n",
       "    .dataframe tbody tr th:only-of-type {\n",
       "        vertical-align: middle;\n",
       "    }\n",
       "\n",
       "    .dataframe tbody tr th {\n",
       "        vertical-align: top;\n",
       "    }\n",
       "\n",
       "    .dataframe thead th {\n",
       "        text-align: right;\n",
       "    }\n",
       "</style>\n",
       "<table border=\"1\" class=\"dataframe\">\n",
       "  <thead>\n",
       "    <tr style=\"text-align: right;\">\n",
       "      <th></th>\n",
       "      <th>Name</th>\n",
       "      <th>Pclass</th>\n",
       "      <th>Sex</th>\n",
       "      <th>Age</th>\n",
       "      <th>SibSp</th>\n",
       "      <th>Parch</th>\n",
       "      <th>Ticket</th>\n",
       "      <th>Fare</th>\n",
       "      <th>Cabin</th>\n",
       "      <th>Embarked</th>\n",
       "      <th>Survived</th>\n",
       "    </tr>\n",
       "    <tr>\n",
       "      <th>PassengerId</th>\n",
       "      <th></th>\n",
       "      <th></th>\n",
       "      <th></th>\n",
       "      <th></th>\n",
       "      <th></th>\n",
       "      <th></th>\n",
       "      <th></th>\n",
       "      <th></th>\n",
       "      <th></th>\n",
       "      <th></th>\n",
       "      <th></th>\n",
       "    </tr>\n",
       "  </thead>\n",
       "  <tbody>\n",
       "    <tr>\n",
       "      <th>75</th>\n",
       "      <td>Bing, Mr. Lee</td>\n",
       "      <td>3</td>\n",
       "      <td>male</td>\n",
       "      <td>32.0</td>\n",
       "      <td>0</td>\n",
       "      <td>0</td>\n",
       "      <td>1601</td>\n",
       "      <td>56.4958</td>\n",
       "      <td>&lt;NA&gt;</td>\n",
       "      <td>Southampton</td>\n",
       "      <td>1</td>\n",
       "    </tr>\n",
       "    <tr>\n",
       "      <th>170</th>\n",
       "      <td>Ling, Mr. Lee</td>\n",
       "      <td>3</td>\n",
       "      <td>male</td>\n",
       "      <td>28.0</td>\n",
       "      <td>0</td>\n",
       "      <td>0</td>\n",
       "      <td>1601</td>\n",
       "      <td>56.4958</td>\n",
       "      <td>&lt;NA&gt;</td>\n",
       "      <td>Southampton</td>\n",
       "      <td>0</td>\n",
       "    </tr>\n",
       "    <tr>\n",
       "      <th>510</th>\n",
       "      <td>Lang, Mr. Fang</td>\n",
       "      <td>3</td>\n",
       "      <td>male</td>\n",
       "      <td>26.0</td>\n",
       "      <td>0</td>\n",
       "      <td>0</td>\n",
       "      <td>1601</td>\n",
       "      <td>56.4958</td>\n",
       "      <td>&lt;NA&gt;</td>\n",
       "      <td>Southampton</td>\n",
       "      <td>1</td>\n",
       "    </tr>\n",
       "    <tr>\n",
       "      <th>644</th>\n",
       "      <td>Foo, Mr. Choong</td>\n",
       "      <td>3</td>\n",
       "      <td>male</td>\n",
       "      <td>NaN</td>\n",
       "      <td>0</td>\n",
       "      <td>0</td>\n",
       "      <td>1601</td>\n",
       "      <td>56.4958</td>\n",
       "      <td>&lt;NA&gt;</td>\n",
       "      <td>Southampton</td>\n",
       "      <td>1</td>\n",
       "    </tr>\n",
       "    <tr>\n",
       "      <th>693</th>\n",
       "      <td>Lam, Mr. Ali</td>\n",
       "      <td>3</td>\n",
       "      <td>male</td>\n",
       "      <td>NaN</td>\n",
       "      <td>0</td>\n",
       "      <td>0</td>\n",
       "      <td>1601</td>\n",
       "      <td>56.4958</td>\n",
       "      <td>&lt;NA&gt;</td>\n",
       "      <td>Southampton</td>\n",
       "      <td>1</td>\n",
       "    </tr>\n",
       "    <tr>\n",
       "      <th>827</th>\n",
       "      <td>Lam, Mr. Len</td>\n",
       "      <td>3</td>\n",
       "      <td>male</td>\n",
       "      <td>NaN</td>\n",
       "      <td>0</td>\n",
       "      <td>0</td>\n",
       "      <td>1601</td>\n",
       "      <td>56.4958</td>\n",
       "      <td>&lt;NA&gt;</td>\n",
       "      <td>Southampton</td>\n",
       "      <td>0</td>\n",
       "    </tr>\n",
       "    <tr>\n",
       "      <th>839</th>\n",
       "      <td>Chip, Mr. Chang</td>\n",
       "      <td>3</td>\n",
       "      <td>male</td>\n",
       "      <td>32.0</td>\n",
       "      <td>0</td>\n",
       "      <td>0</td>\n",
       "      <td>1601</td>\n",
       "      <td>56.4958</td>\n",
       "      <td>&lt;NA&gt;</td>\n",
       "      <td>Southampton</td>\n",
       "      <td>1</td>\n",
       "    </tr>\n",
       "  </tbody>\n",
       "</table>\n",
       "</div>"
      ],
      "text/plain": [
       "                        Name  Pclass   Sex   Age  SibSp  Parch Ticket  \\\n",
       "PassengerId                                                             \n",
       "75             Bing, Mr. Lee       3  male  32.0      0      0   1601   \n",
       "170            Ling, Mr. Lee       3  male  28.0      0      0   1601   \n",
       "510           Lang, Mr. Fang       3  male  26.0      0      0   1601   \n",
       "644          Foo, Mr. Choong       3  male   NaN      0      0   1601   \n",
       "693             Lam, Mr. Ali       3  male   NaN      0      0   1601   \n",
       "827             Lam, Mr. Len       3  male   NaN      0      0   1601   \n",
       "839          Chip, Mr. Chang       3  male  32.0      0      0   1601   \n",
       "\n",
       "                Fare Cabin     Embarked  Survived  \n",
       "PassengerId                                        \n",
       "75           56.4958  <NA>  Southampton         1  \n",
       "170          56.4958  <NA>  Southampton         0  \n",
       "510          56.4958  <NA>  Southampton         1  \n",
       "644          56.4958  <NA>  Southampton         1  \n",
       "693          56.4958  <NA>  Southampton         1  \n",
       "827          56.4958  <NA>  Southampton         0  \n",
       "839          56.4958  <NA>  Southampton         1  "
      ]
     },
     "execution_count": 401,
     "metadata": {},
     "output_type": "execute_result"
    },
    {
     "name": "stdout",
     "output_type": "stream",
     "text": [
      "time: 15 ms (started: 2022-10-23 15:47:31 +02:00)\n"
     ]
    }
   ],
   "source": [
    "df[df.Ticket == \"1601\"]\n",
    "#osoby, które mają ten sam numer biletu, a mają 0 w SibSp i Parch - dziwna sytuacja"
   ]
  },
  {
   "cell_type": "code",
   "execution_count": 402,
   "id": "bdb096b6",
   "metadata": {},
   "outputs": [
    {
     "data": {
      "text/html": [
       "<div>\n",
       "<style scoped>\n",
       "    .dataframe tbody tr th:only-of-type {\n",
       "        vertical-align: middle;\n",
       "    }\n",
       "\n",
       "    .dataframe tbody tr th {\n",
       "        vertical-align: top;\n",
       "    }\n",
       "\n",
       "    .dataframe thead th {\n",
       "        text-align: right;\n",
       "    }\n",
       "</style>\n",
       "<table border=\"1\" class=\"dataframe\">\n",
       "  <thead>\n",
       "    <tr style=\"text-align: right;\">\n",
       "      <th></th>\n",
       "      <th>Name</th>\n",
       "      <th>Pclass</th>\n",
       "      <th>Sex</th>\n",
       "      <th>Age</th>\n",
       "      <th>SibSp</th>\n",
       "      <th>Parch</th>\n",
       "      <th>Ticket</th>\n",
       "      <th>Fare</th>\n",
       "      <th>Cabin</th>\n",
       "      <th>Embarked</th>\n",
       "      <th>Survived</th>\n",
       "    </tr>\n",
       "    <tr>\n",
       "      <th>PassengerId</th>\n",
       "      <th></th>\n",
       "      <th></th>\n",
       "      <th></th>\n",
       "      <th></th>\n",
       "      <th></th>\n",
       "      <th></th>\n",
       "      <th></th>\n",
       "      <th></th>\n",
       "      <th></th>\n",
       "      <th></th>\n",
       "      <th></th>\n",
       "    </tr>\n",
       "  </thead>\n",
       "  <tbody>\n",
       "    <tr>\n",
       "      <th>51</th>\n",
       "      <td>Panula, Master. Juha Niilo</td>\n",
       "      <td>3</td>\n",
       "      <td>male</td>\n",
       "      <td>7.0</td>\n",
       "      <td>4</td>\n",
       "      <td>1</td>\n",
       "      <td>3101295</td>\n",
       "      <td>39.6875</td>\n",
       "      <td>&lt;NA&gt;</td>\n",
       "      <td>Southampton</td>\n",
       "      <td>0</td>\n",
       "    </tr>\n",
       "    <tr>\n",
       "      <th>165</th>\n",
       "      <td>Panula, Master. Eino Viljami</td>\n",
       "      <td>3</td>\n",
       "      <td>male</td>\n",
       "      <td>1.0</td>\n",
       "      <td>4</td>\n",
       "      <td>1</td>\n",
       "      <td>3101295</td>\n",
       "      <td>39.6875</td>\n",
       "      <td>&lt;NA&gt;</td>\n",
       "      <td>Southampton</td>\n",
       "      <td>0</td>\n",
       "    </tr>\n",
       "    <tr>\n",
       "      <th>267</th>\n",
       "      <td>Panula, Mr. Ernesti Arvid</td>\n",
       "      <td>3</td>\n",
       "      <td>male</td>\n",
       "      <td>16.0</td>\n",
       "      <td>4</td>\n",
       "      <td>1</td>\n",
       "      <td>3101295</td>\n",
       "      <td>39.6875</td>\n",
       "      <td>&lt;NA&gt;</td>\n",
       "      <td>Southampton</td>\n",
       "      <td>0</td>\n",
       "    </tr>\n",
       "    <tr>\n",
       "      <th>639</th>\n",
       "      <td>Panula, Mrs. Juha (Maria Emilia Ojala)</td>\n",
       "      <td>3</td>\n",
       "      <td>female</td>\n",
       "      <td>41.0</td>\n",
       "      <td>0</td>\n",
       "      <td>5</td>\n",
       "      <td>3101295</td>\n",
       "      <td>39.6875</td>\n",
       "      <td>&lt;NA&gt;</td>\n",
       "      <td>Southampton</td>\n",
       "      <td>0</td>\n",
       "    </tr>\n",
       "    <tr>\n",
       "      <th>687</th>\n",
       "      <td>Panula, Mr. Jaako Arnold</td>\n",
       "      <td>3</td>\n",
       "      <td>male</td>\n",
       "      <td>14.0</td>\n",
       "      <td>4</td>\n",
       "      <td>1</td>\n",
       "      <td>3101295</td>\n",
       "      <td>39.6875</td>\n",
       "      <td>&lt;NA&gt;</td>\n",
       "      <td>Southampton</td>\n",
       "      <td>0</td>\n",
       "    </tr>\n",
       "    <tr>\n",
       "      <th>825</th>\n",
       "      <td>Panula, Master. Urho Abraham</td>\n",
       "      <td>3</td>\n",
       "      <td>male</td>\n",
       "      <td>2.0</td>\n",
       "      <td>4</td>\n",
       "      <td>1</td>\n",
       "      <td>3101295</td>\n",
       "      <td>39.6875</td>\n",
       "      <td>&lt;NA&gt;</td>\n",
       "      <td>Southampton</td>\n",
       "      <td>0</td>\n",
       "    </tr>\n",
       "  </tbody>\n",
       "</table>\n",
       "</div>"
      ],
      "text/plain": [
       "                                               Name  Pclass     Sex   Age  \\\n",
       "PassengerId                                                                 \n",
       "51                       Panula, Master. Juha Niilo       3    male   7.0   \n",
       "165                    Panula, Master. Eino Viljami       3    male   1.0   \n",
       "267                       Panula, Mr. Ernesti Arvid       3    male  16.0   \n",
       "639          Panula, Mrs. Juha (Maria Emilia Ojala)       3  female  41.0   \n",
       "687                        Panula, Mr. Jaako Arnold       3    male  14.0   \n",
       "825                    Panula, Master. Urho Abraham       3    male   2.0   \n",
       "\n",
       "             SibSp  Parch   Ticket     Fare Cabin     Embarked  Survived  \n",
       "PassengerId                                                               \n",
       "51               4      1  3101295  39.6875  <NA>  Southampton         0  \n",
       "165              4      1  3101295  39.6875  <NA>  Southampton         0  \n",
       "267              4      1  3101295  39.6875  <NA>  Southampton         0  \n",
       "639              0      5  3101295  39.6875  <NA>  Southampton         0  \n",
       "687              4      1  3101295  39.6875  <NA>  Southampton         0  \n",
       "825              4      1  3101295  39.6875  <NA>  Southampton         0  "
      ]
     },
     "execution_count": 402,
     "metadata": {},
     "output_type": "execute_result"
    },
    {
     "name": "stdout",
     "output_type": "stream",
     "text": [
      "time: 16 ms (started: 2022-10-23 15:47:31 +02:00)\n"
     ]
    }
   ],
   "source": [
    "df[df.Ticket == \"3101295\"]"
   ]
  },
  {
   "cell_type": "code",
   "execution_count": 403,
   "id": "47f0ac12",
   "metadata": {},
   "outputs": [
    {
     "data": {
      "text/html": [
       "<div>\n",
       "<style scoped>\n",
       "    .dataframe tbody tr th:only-of-type {\n",
       "        vertical-align: middle;\n",
       "    }\n",
       "\n",
       "    .dataframe tbody tr th {\n",
       "        vertical-align: top;\n",
       "    }\n",
       "\n",
       "    .dataframe thead th {\n",
       "        text-align: right;\n",
       "    }\n",
       "</style>\n",
       "<table border=\"1\" class=\"dataframe\">\n",
       "  <thead>\n",
       "    <tr style=\"text-align: right;\">\n",
       "      <th></th>\n",
       "      <th>Name</th>\n",
       "      <th>Pclass</th>\n",
       "      <th>Sex</th>\n",
       "      <th>Age</th>\n",
       "      <th>SibSp</th>\n",
       "      <th>Parch</th>\n",
       "      <th>Ticket</th>\n",
       "      <th>Fare</th>\n",
       "      <th>Cabin</th>\n",
       "      <th>Embarked</th>\n",
       "      <th>Survived</th>\n",
       "    </tr>\n",
       "    <tr>\n",
       "      <th>PassengerId</th>\n",
       "      <th></th>\n",
       "      <th></th>\n",
       "      <th></th>\n",
       "      <th></th>\n",
       "      <th></th>\n",
       "      <th></th>\n",
       "      <th></th>\n",
       "      <th></th>\n",
       "      <th></th>\n",
       "      <th></th>\n",
       "      <th></th>\n",
       "    </tr>\n",
       "  </thead>\n",
       "  <tbody>\n",
       "    <tr>\n",
       "      <th>160</th>\n",
       "      <td>Sage, Master. Thomas Henry</td>\n",
       "      <td>3</td>\n",
       "      <td>male</td>\n",
       "      <td>NaN</td>\n",
       "      <td>8</td>\n",
       "      <td>2</td>\n",
       "      <td>CA. 2343</td>\n",
       "      <td>69.55</td>\n",
       "      <td>&lt;NA&gt;</td>\n",
       "      <td>Southampton</td>\n",
       "      <td>0</td>\n",
       "    </tr>\n",
       "    <tr>\n",
       "      <th>181</th>\n",
       "      <td>Sage, Miss. Constance Gladys</td>\n",
       "      <td>3</td>\n",
       "      <td>female</td>\n",
       "      <td>NaN</td>\n",
       "      <td>8</td>\n",
       "      <td>2</td>\n",
       "      <td>CA. 2343</td>\n",
       "      <td>69.55</td>\n",
       "      <td>&lt;NA&gt;</td>\n",
       "      <td>Southampton</td>\n",
       "      <td>0</td>\n",
       "    </tr>\n",
       "    <tr>\n",
       "      <th>202</th>\n",
       "      <td>Sage, Mr. Frederick</td>\n",
       "      <td>3</td>\n",
       "      <td>male</td>\n",
       "      <td>NaN</td>\n",
       "      <td>8</td>\n",
       "      <td>2</td>\n",
       "      <td>CA. 2343</td>\n",
       "      <td>69.55</td>\n",
       "      <td>&lt;NA&gt;</td>\n",
       "      <td>Southampton</td>\n",
       "      <td>0</td>\n",
       "    </tr>\n",
       "    <tr>\n",
       "      <th>325</th>\n",
       "      <td>Sage, Mr. George John Jr</td>\n",
       "      <td>3</td>\n",
       "      <td>male</td>\n",
       "      <td>NaN</td>\n",
       "      <td>8</td>\n",
       "      <td>2</td>\n",
       "      <td>CA. 2343</td>\n",
       "      <td>69.55</td>\n",
       "      <td>&lt;NA&gt;</td>\n",
       "      <td>Southampton</td>\n",
       "      <td>0</td>\n",
       "    </tr>\n",
       "    <tr>\n",
       "      <th>793</th>\n",
       "      <td>Sage, Miss. Stella Anna</td>\n",
       "      <td>3</td>\n",
       "      <td>female</td>\n",
       "      <td>NaN</td>\n",
       "      <td>8</td>\n",
       "      <td>2</td>\n",
       "      <td>CA. 2343</td>\n",
       "      <td>69.55</td>\n",
       "      <td>&lt;NA&gt;</td>\n",
       "      <td>Southampton</td>\n",
       "      <td>0</td>\n",
       "    </tr>\n",
       "    <tr>\n",
       "      <th>847</th>\n",
       "      <td>Sage, Mr. Douglas Bullen</td>\n",
       "      <td>3</td>\n",
       "      <td>male</td>\n",
       "      <td>NaN</td>\n",
       "      <td>8</td>\n",
       "      <td>2</td>\n",
       "      <td>CA. 2343</td>\n",
       "      <td>69.55</td>\n",
       "      <td>&lt;NA&gt;</td>\n",
       "      <td>Southampton</td>\n",
       "      <td>0</td>\n",
       "    </tr>\n",
       "    <tr>\n",
       "      <th>864</th>\n",
       "      <td>Sage, Miss. Dorothy Edith \"Dolly\"</td>\n",
       "      <td>3</td>\n",
       "      <td>female</td>\n",
       "      <td>NaN</td>\n",
       "      <td>8</td>\n",
       "      <td>2</td>\n",
       "      <td>CA. 2343</td>\n",
       "      <td>69.55</td>\n",
       "      <td>&lt;NA&gt;</td>\n",
       "      <td>Southampton</td>\n",
       "      <td>0</td>\n",
       "    </tr>\n",
       "  </tbody>\n",
       "</table>\n",
       "</div>"
      ],
      "text/plain": [
       "                                          Name  Pclass     Sex  Age  SibSp  \\\n",
       "PassengerId                                                                  \n",
       "160                 Sage, Master. Thomas Henry       3    male  NaN      8   \n",
       "181               Sage, Miss. Constance Gladys       3  female  NaN      8   \n",
       "202                        Sage, Mr. Frederick       3    male  NaN      8   \n",
       "325                   Sage, Mr. George John Jr       3    male  NaN      8   \n",
       "793                    Sage, Miss. Stella Anna       3  female  NaN      8   \n",
       "847                   Sage, Mr. Douglas Bullen       3    male  NaN      8   \n",
       "864          Sage, Miss. Dorothy Edith \"Dolly\"       3  female  NaN      8   \n",
       "\n",
       "             Parch    Ticket   Fare Cabin     Embarked  Survived  \n",
       "PassengerId                                                       \n",
       "160              2  CA. 2343  69.55  <NA>  Southampton         0  \n",
       "181              2  CA. 2343  69.55  <NA>  Southampton         0  \n",
       "202              2  CA. 2343  69.55  <NA>  Southampton         0  \n",
       "325              2  CA. 2343  69.55  <NA>  Southampton         0  \n",
       "793              2  CA. 2343  69.55  <NA>  Southampton         0  \n",
       "847              2  CA. 2343  69.55  <NA>  Southampton         0  \n",
       "864              2  CA. 2343  69.55  <NA>  Southampton         0  "
      ]
     },
     "execution_count": 403,
     "metadata": {},
     "output_type": "execute_result"
    },
    {
     "name": "stdout",
     "output_type": "stream",
     "text": [
      "time: 16 ms (started: 2022-10-23 15:47:32 +02:00)\n"
     ]
    }
   ],
   "source": [
    "df[df.Ticket == \"CA. 2343\"]"
   ]
  },
  {
   "cell_type": "code",
   "execution_count": 404,
   "id": "5a77a314",
   "metadata": {},
   "outputs": [
    {
     "data": {
      "text/plain": [
       "{'110152',\n",
       " '110413',\n",
       " '110465',\n",
       " '110564',\n",
       " '110813',\n",
       " '111240',\n",
       " '111320',\n",
       " '111361',\n",
       " '111369',\n",
       " '111426',\n",
       " '111427',\n",
       " '111428',\n",
       " '112050',\n",
       " '112052',\n",
       " '112053',\n",
       " '112058',\n",
       " '112059',\n",
       " '112277',\n",
       " '112379',\n",
       " '113028',\n",
       " '113043',\n",
       " '113050',\n",
       " '113051',\n",
       " '113055',\n",
       " '113056',\n",
       " '113059',\n",
       " '113501',\n",
       " '113503',\n",
       " '113505',\n",
       " '113509',\n",
       " '113510',\n",
       " '113514',\n",
       " '113572',\n",
       " '113760',\n",
       " '113767',\n",
       " '113773',\n",
       " '113776',\n",
       " '113781',\n",
       " '113783',\n",
       " '113784',\n",
       " '113786',\n",
       " '113787',\n",
       " '113788',\n",
       " '113789',\n",
       " '113792',\n",
       " '113794',\n",
       " '113796',\n",
       " '113798',\n",
       " '113800',\n",
       " '113803',\n",
       " '113804',\n",
       " '113806',\n",
       " '113807',\n",
       " '11668',\n",
       " '11751',\n",
       " '11752',\n",
       " '11753',\n",
       " '11755',\n",
       " '11765',\n",
       " '11767',\n",
       " '11769',\n",
       " '11771',\n",
       " '11774',\n",
       " '11813',\n",
       " '11967',\n",
       " '12233',\n",
       " '12460',\n",
       " '12749',\n",
       " '13049',\n",
       " '13213',\n",
       " '13214',\n",
       " '13502',\n",
       " '13507',\n",
       " '13509',\n",
       " '13567',\n",
       " '13568',\n",
       " '14311',\n",
       " '14312',\n",
       " '14313',\n",
       " '14973',\n",
       " '1601',\n",
       " '16966',\n",
       " '16988',\n",
       " '17421',\n",
       " '17453',\n",
       " '17463',\n",
       " '17464',\n",
       " '17465',\n",
       " '17466',\n",
       " '17474',\n",
       " '17764',\n",
       " '19877',\n",
       " '19928',\n",
       " '19943',\n",
       " '19947',\n",
       " '19950',\n",
       " '19952',\n",
       " '19972',\n",
       " '19988',\n",
       " '19996',\n",
       " '2003',\n",
       " '211536',\n",
       " '21440',\n",
       " '218629',\n",
       " '219533',\n",
       " '220367',\n",
       " '220845',\n",
       " '2223',\n",
       " '223596',\n",
       " '226593',\n",
       " '226875',\n",
       " '228414',\n",
       " '229236',\n",
       " '230080',\n",
       " '230136',\n",
       " '230433',\n",
       " '230434',\n",
       " '231919',\n",
       " '231945',\n",
       " '233639',\n",
       " '233866',\n",
       " '234360',\n",
       " '234604',\n",
       " '234686',\n",
       " '234818',\n",
       " '236171',\n",
       " '236852',\n",
       " '236853',\n",
       " '237442',\n",
       " '237565',\n",
       " '237668',\n",
       " '237671',\n",
       " '237736',\n",
       " '237789',\n",
       " '237798',\n",
       " '239853',\n",
       " '239854',\n",
       " '239855',\n",
       " '239856',\n",
       " '239865',\n",
       " '240929',\n",
       " '24160',\n",
       " '243847',\n",
       " '243880',\n",
       " '244252',\n",
       " '244270',\n",
       " '244278',\n",
       " '244310',\n",
       " '244358',\n",
       " '244361',\n",
       " '244367',\n",
       " '244373',\n",
       " '248698',\n",
       " '248706',\n",
       " '248723',\n",
       " '248727',\n",
       " '248731',\n",
       " '248733',\n",
       " '248738',\n",
       " '248740',\n",
       " '248747',\n",
       " '250643',\n",
       " '250644',\n",
       " '250646',\n",
       " '250647',\n",
       " '250648',\n",
       " '250649',\n",
       " '250651',\n",
       " '250652',\n",
       " '250653',\n",
       " '250655',\n",
       " '2620',\n",
       " '2623',\n",
       " '2624',\n",
       " '2625',\n",
       " '2626',\n",
       " '2627',\n",
       " '2628',\n",
       " '2629',\n",
       " '2631',\n",
       " '26360',\n",
       " '2641',\n",
       " '2647',\n",
       " '2648',\n",
       " '2649',\n",
       " '2650',\n",
       " '2651',\n",
       " '2653',\n",
       " '2659',\n",
       " '2661',\n",
       " '2662',\n",
       " '2663',\n",
       " '2664',\n",
       " '2665',\n",
       " '2666',\n",
       " '2667',\n",
       " '2668',\n",
       " '2669',\n",
       " '26707',\n",
       " '2671',\n",
       " '2672',\n",
       " '2674',\n",
       " '2677',\n",
       " '2678',\n",
       " '2680',\n",
       " '2683',\n",
       " '2685',\n",
       " '2686',\n",
       " '2687',\n",
       " '2689',\n",
       " '2690',\n",
       " '2691',\n",
       " '2693',\n",
       " '2694',\n",
       " '2695',\n",
       " '2697',\n",
       " '2699',\n",
       " '2700',\n",
       " '27042',\n",
       " '27267',\n",
       " '27849',\n",
       " '28134',\n",
       " '28206',\n",
       " '28213',\n",
       " '28220',\n",
       " '28228',\n",
       " '28403',\n",
       " '28424',\n",
       " '28425',\n",
       " '28551',\n",
       " '28664',\n",
       " '28665',\n",
       " '29011',\n",
       " '2908',\n",
       " '29103',\n",
       " '29104',\n",
       " '29105',\n",
       " '29106',\n",
       " '29108',\n",
       " '2926',\n",
       " '29750',\n",
       " '29751',\n",
       " '3101264',\n",
       " '3101265',\n",
       " '3101267',\n",
       " '3101276',\n",
       " '3101277',\n",
       " '3101278',\n",
       " '3101281',\n",
       " '3101295',\n",
       " '3101296',\n",
       " '3101298',\n",
       " '31027',\n",
       " '31028',\n",
       " '312991',\n",
       " '312992',\n",
       " '312993',\n",
       " '31418',\n",
       " '315037',\n",
       " '315082',\n",
       " '315084',\n",
       " '315086',\n",
       " '315088',\n",
       " '315089',\n",
       " '315090',\n",
       " '315093',\n",
       " '315094',\n",
       " '315096',\n",
       " '315097',\n",
       " '315098',\n",
       " '315151',\n",
       " '315153',\n",
       " '323592',\n",
       " '323951',\n",
       " '324669',\n",
       " '330877',\n",
       " '330909',\n",
       " '330919',\n",
       " '330923',\n",
       " '330931',\n",
       " '330932',\n",
       " '330935',\n",
       " '330958',\n",
       " '330959',\n",
       " '330979',\n",
       " '330980',\n",
       " '334912',\n",
       " '335097',\n",
       " '335677',\n",
       " '33638',\n",
       " '336439',\n",
       " '3411',\n",
       " '341826',\n",
       " '34218',\n",
       " '342826',\n",
       " '343095',\n",
       " '343120',\n",
       " '343275',\n",
       " '343276',\n",
       " '345364',\n",
       " '345572',\n",
       " '345763',\n",
       " '345764',\n",
       " '345765',\n",
       " '345767',\n",
       " '345769',\n",
       " '345770',\n",
       " '345773',\n",
       " '345774',\n",
       " '345777',\n",
       " '345778',\n",
       " '345779',\n",
       " '345780',\n",
       " '345781',\n",
       " '345783',\n",
       " '3460',\n",
       " '347054',\n",
       " '347060',\n",
       " '347061',\n",
       " '347062',\n",
       " '347063',\n",
       " '347064',\n",
       " '347067',\n",
       " '347068',\n",
       " '347069',\n",
       " '347071',\n",
       " '347073',\n",
       " '347074',\n",
       " '347076',\n",
       " '347077',\n",
       " '347078',\n",
       " '347080',\n",
       " '347081',\n",
       " '347082',\n",
       " '347083',\n",
       " '347085',\n",
       " '347087',\n",
       " '347088',\n",
       " '347089',\n",
       " '3474',\n",
       " '347464',\n",
       " '347466',\n",
       " '347468',\n",
       " '347470',\n",
       " '347742',\n",
       " '347743',\n",
       " '348121',\n",
       " '348123',\n",
       " '348124',\n",
       " '349201',\n",
       " '349203',\n",
       " '349204',\n",
       " '349205',\n",
       " '349206',\n",
       " '349207',\n",
       " '349208',\n",
       " '349209',\n",
       " '349210',\n",
       " '349212',\n",
       " '349213',\n",
       " '349214',\n",
       " '349215',\n",
       " '349216',\n",
       " '349217',\n",
       " '349218',\n",
       " '349219',\n",
       " '349221',\n",
       " '349222',\n",
       " '349223',\n",
       " '349224',\n",
       " '349225',\n",
       " '349227',\n",
       " '349228',\n",
       " '349231',\n",
       " '349233',\n",
       " '349234',\n",
       " '349236',\n",
       " '349237',\n",
       " '349239',\n",
       " '349240',\n",
       " '349241',\n",
       " '349242',\n",
       " '349243',\n",
       " '349244',\n",
       " '349245',\n",
       " '349246',\n",
       " '349247',\n",
       " '349248',\n",
       " '349249',\n",
       " '349251',\n",
       " '349252',\n",
       " '349253',\n",
       " '349254',\n",
       " '349256',\n",
       " '349257',\n",
       " '349909',\n",
       " '349910',\n",
       " '349912',\n",
       " '350025',\n",
       " '350026',\n",
       " '350029',\n",
       " '350034',\n",
       " '350035',\n",
       " '350036',\n",
       " '350042',\n",
       " '350043',\n",
       " '350046',\n",
       " '350047',\n",
       " '350048',\n",
       " '350050',\n",
       " '350052',\n",
       " '350060',\n",
       " '350404',\n",
       " '350406',\n",
       " '350407',\n",
       " '350417',\n",
       " '35273',\n",
       " '35281',\n",
       " '35851',\n",
       " '35852',\n",
       " '358585',\n",
       " '36209',\n",
       " '362316',\n",
       " '363291',\n",
       " '363294',\n",
       " '363592',\n",
       " '364498',\n",
       " '364499',\n",
       " '364500',\n",
       " '364506',\n",
       " '364511',\n",
       " '364512',\n",
       " '364516',\n",
       " '364846',\n",
       " '364848',\n",
       " '364849',\n",
       " '364850',\n",
       " '364851',\n",
       " '365222',\n",
       " '365226',\n",
       " '36568',\n",
       " '367226',\n",
       " '367228',\n",
       " '367229',\n",
       " '367230',\n",
       " '367231',\n",
       " '367232',\n",
       " '367655',\n",
       " '368323',\n",
       " '36864',\n",
       " '36865',\n",
       " '36866',\n",
       " '368703',\n",
       " '36928',\n",
       " '36947',\n",
       " '36963',\n",
       " '36967',\n",
       " '36973',\n",
       " '370129',\n",
       " '370365',\n",
       " '370369',\n",
       " '370370',\n",
       " '370371',\n",
       " '370372',\n",
       " '370373',\n",
       " '370375',\n",
       " '370376',\n",
       " '370377',\n",
       " '371060',\n",
       " '371110',\n",
       " '371362',\n",
       " '372622',\n",
       " '373450',\n",
       " '374746',\n",
       " '374887',\n",
       " '374910',\n",
       " '376564',\n",
       " '376566',\n",
       " '382649',\n",
       " '382651',\n",
       " '382652',\n",
       " '383121',\n",
       " '384461',\n",
       " '386525',\n",
       " '392091',\n",
       " '392092',\n",
       " '392096',\n",
       " '394140',\n",
       " '4133',\n",
       " '4134',\n",
       " '4135',\n",
       " '4136',\n",
       " '4137',\n",
       " '4138',\n",
       " '4579',\n",
       " '54636',\n",
       " '5727',\n",
       " '65303',\n",
       " '65304',\n",
       " '65306',\n",
       " '6563',\n",
       " '693',\n",
       " '695',\n",
       " '7267',\n",
       " '7534',\n",
       " '7540',\n",
       " '7545',\n",
       " '7546',\n",
       " '7552',\n",
       " '7553',\n",
       " '7598',\n",
       " '8471',\n",
       " '8475',\n",
       " '9234',\n",
       " 'A./5. 2152',\n",
       " 'A./5. 3235',\n",
       " 'A.5. 11206',\n",
       " 'A.5. 18509',\n",
       " 'A/4 45380',\n",
       " 'A/4 48871',\n",
       " 'A/4. 20589',\n",
       " 'A/4. 34244',\n",
       " 'A/4. 39886',\n",
       " 'A/5 21171',\n",
       " 'A/5 21172',\n",
       " 'A/5 21173',\n",
       " 'A/5 21174',\n",
       " 'A/5 2466',\n",
       " 'A/5 2817',\n",
       " 'A/5 3536',\n",
       " 'A/5 3540',\n",
       " 'A/5 3594',\n",
       " 'A/5 3902',\n",
       " 'A/5. 10482',\n",
       " 'A/5. 13032',\n",
       " 'A/5. 2151',\n",
       " 'A/5. 3336',\n",
       " 'A/5. 3337',\n",
       " 'A/5. 851',\n",
       " 'A/S 2816',\n",
       " 'A4. 54510',\n",
       " 'C 17369',\n",
       " 'C 4001',\n",
       " 'C 7075',\n",
       " 'C 7076',\n",
       " 'C 7077',\n",
       " 'C.A. 17248',\n",
       " 'C.A. 18723',\n",
       " 'C.A. 2315',\n",
       " 'C.A. 24579',\n",
       " 'C.A. 24580',\n",
       " 'C.A. 2673',\n",
       " 'C.A. 29178',\n",
       " 'C.A. 29395',\n",
       " 'C.A. 29566',\n",
       " 'C.A. 31026',\n",
       " 'C.A. 31921',\n",
       " 'C.A. 33111',\n",
       " 'C.A. 33112',\n",
       " 'C.A. 33595',\n",
       " 'C.A. 34260',\n",
       " 'C.A. 34651',\n",
       " 'C.A. 37671',\n",
       " 'C.A. 5547',\n",
       " 'C.A. 6212',\n",
       " 'C.A./SOTON 34068',\n",
       " 'CA 2144',\n",
       " 'CA. 2314',\n",
       " 'CA. 2343',\n",
       " 'F.C. 12750',\n",
       " 'F.C.C. 13528',\n",
       " 'F.C.C. 13529',\n",
       " 'F.C.C. 13531',\n",
       " 'Fa 265302',\n",
       " 'LINE',\n",
       " 'P/PP 3381',\n",
       " 'PC 17318',\n",
       " 'PC 17473',\n",
       " 'PC 17474',\n",
       " 'PC 17475',\n",
       " 'PC 17476',\n",
       " 'PC 17477',\n",
       " 'PC 17482',\n",
       " 'PC 17483',\n",
       " 'PC 17485',\n",
       " 'PC 17558',\n",
       " 'PC 17569',\n",
       " 'PC 17572',\n",
       " 'PC 17582',\n",
       " 'PC 17585',\n",
       " 'PC 17590',\n",
       " 'PC 17592',\n",
       " 'PC 17593',\n",
       " 'PC 17595',\n",
       " 'PC 17596',\n",
       " 'PC 17597',\n",
       " 'PC 17599',\n",
       " 'PC 17600',\n",
       " 'PC 17601',\n",
       " 'PC 17603',\n",
       " 'PC 17604',\n",
       " 'PC 17605',\n",
       " 'PC 17608',\n",
       " 'PC 17609',\n",
       " 'PC 17610',\n",
       " 'PC 17611',\n",
       " 'PC 17612',\n",
       " 'PC 17754',\n",
       " 'PC 17755',\n",
       " 'PC 17756',\n",
       " 'PC 17757',\n",
       " 'PC 17758',\n",
       " 'PC 17759',\n",
       " 'PC 17760',\n",
       " 'PC 17761',\n",
       " 'PP 4348',\n",
       " 'PP 9549',\n",
       " 'S.C./A.4. 23567',\n",
       " 'S.C./PARIS 2079',\n",
       " 'S.O./P.P. 3',\n",
       " 'S.O./P.P. 751',\n",
       " 'S.O.C. 14879',\n",
       " 'S.O.P. 1166',\n",
       " 'S.P. 3464',\n",
       " 'S.W./PP 752',\n",
       " 'SC 1748',\n",
       " 'SC/AH 29037',\n",
       " 'SC/AH 3085',\n",
       " 'SC/AH Basle 541',\n",
       " 'SC/PARIS 2131',\n",
       " 'SC/PARIS 2133',\n",
       " 'SC/PARIS 2146',\n",
       " 'SC/PARIS 2149',\n",
       " 'SC/PARIS 2167',\n",
       " 'SC/Paris 2123',\n",
       " 'SC/Paris 2163',\n",
       " 'SCO/W 1585',\n",
       " 'SO/C 14885',\n",
       " 'SOTON/O.Q. 3101305',\n",
       " 'SOTON/O.Q. 3101306',\n",
       " 'SOTON/O.Q. 3101307',\n",
       " 'SOTON/O.Q. 3101310',\n",
       " 'SOTON/O.Q. 3101311',\n",
       " 'SOTON/O.Q. 3101312',\n",
       " 'SOTON/O.Q. 392078',\n",
       " 'SOTON/O.Q. 392087',\n",
       " 'SOTON/O2 3101272',\n",
       " 'SOTON/O2 3101287',\n",
       " 'SOTON/OQ 3101316',\n",
       " 'SOTON/OQ 3101317',\n",
       " 'SOTON/OQ 392076',\n",
       " 'SOTON/OQ 392082',\n",
       " 'SOTON/OQ 392086',\n",
       " 'SOTON/OQ 392089',\n",
       " 'SOTON/OQ 392090',\n",
       " 'STON/O 2. 3101269',\n",
       " 'STON/O 2. 3101273',\n",
       " 'STON/O 2. 3101274',\n",
       " 'STON/O 2. 3101275',\n",
       " 'STON/O 2. 3101280',\n",
       " 'STON/O 2. 3101285',\n",
       " 'STON/O 2. 3101286',\n",
       " 'STON/O 2. 3101288',\n",
       " 'STON/O 2. 3101289',\n",
       " 'STON/O 2. 3101292',\n",
       " 'STON/O 2. 3101293',\n",
       " 'STON/O 2. 3101294',\n",
       " 'STON/O2. 3101271',\n",
       " 'STON/O2. 3101279',\n",
       " 'STON/O2. 3101282',\n",
       " 'STON/O2. 3101283',\n",
       " 'STON/O2. 3101290',\n",
       " 'SW/PP 751',\n",
       " 'W./C. 14258',\n",
       " 'W./C. 14263',\n",
       " 'W./C. 6607',\n",
       " 'W./C. 6608',\n",
       " 'W./C. 6609',\n",
       " 'W.E.P. 5734',\n",
       " 'W/C 14208',\n",
       " 'WE/P 5735'}"
      ]
     },
     "execution_count": 404,
     "metadata": {},
     "output_type": "execute_result"
    },
    {
     "name": "stdout",
     "output_type": "stream",
     "text": [
      "time: 0 ns (started: 2022-10-23 15:47:32 +02:00)\n"
     ]
    }
   ],
   "source": [
    "set(df[\"Ticket\"]) \n",
    "#Można wykonać łączenie kategorii ze sobą i odbywałoby się to na kilka sposobow: branie pod uwagi długości stringa,\n",
    "#podobieństwa wartości, czy podobieństwa pierwszych znaków ale byłoby to czasochłonne."
   ]
  },
  {
   "cell_type": "markdown",
   "id": "babb7757",
   "metadata": {},
   "source": [
    "Kolumna Cabin"
   ]
  },
  {
   "cell_type": "code",
   "execution_count": 405,
   "id": "61bb58c5",
   "metadata": {},
   "outputs": [
    {
     "data": {
      "text/plain": [
       "<NA>           687\n",
       "G6               4\n",
       "B96 B98          4\n",
       "C23 C25 C27      4\n",
       "F33              3\n",
       "              ... \n",
       "C95              1\n",
       "B101             1\n",
       "B3               1\n",
       "E77              1\n",
       "C148             1\n",
       "Name: Cabin, Length: 148, dtype: Int64"
      ]
     },
     "execution_count": 405,
     "metadata": {},
     "output_type": "execute_result"
    },
    {
     "name": "stdout",
     "output_type": "stream",
     "text": [
      "time: 0 ns (started: 2022-10-23 15:47:32 +02:00)\n"
     ]
    }
   ],
   "source": [
    "df[\"Cabin\"].value_counts(dropna=False)\n",
    "#dominującą kategorią są braki danych\n",
    "#kolumna-kandydat do usunięcia z modelu"
   ]
  },
  {
   "cell_type": "markdown",
   "id": "c5f25fc7",
   "metadata": {},
   "source": [
    "# Analiza braków danych"
   ]
  },
  {
   "cell_type": "markdown",
   "id": "32502d87",
   "metadata": {},
   "source": [
    "#### Pierwszą rzeczą jaką należy zrobić jest analiza braków danych"
   ]
  },
  {
   "cell_type": "code",
   "execution_count": 406,
   "id": "349e72ad",
   "metadata": {},
   "outputs": [
    {
     "data": {
      "text/plain": [
       "Name          0\n",
       "Pclass        0\n",
       "Sex           0\n",
       "Age         177\n",
       "SibSp         0\n",
       "Parch         0\n",
       "Ticket        0\n",
       "Fare          0\n",
       "Cabin       687\n",
       "Embarked      2\n",
       "Survived      0\n",
       "dtype: int64"
      ]
     },
     "execution_count": 406,
     "metadata": {},
     "output_type": "execute_result"
    },
    {
     "name": "stdout",
     "output_type": "stream",
     "text": [
      "time: 0 ns (started: 2022-10-23 15:47:32 +02:00)\n"
     ]
    }
   ],
   "source": [
    "df.isna().sum()"
   ]
  },
  {
   "cell_type": "markdown",
   "id": "b3194f9b",
   "metadata": {},
   "source": [
    "Mamy 3 kolumny z brakami danych, ale nie sprawdziliśmy czy 687 braków danych w kolumnie Cabin to dużo\n"
   ]
  },
  {
   "cell_type": "code",
   "execution_count": 407,
   "id": "abb70a9f",
   "metadata": {},
   "outputs": [
    {
     "data": {
      "text/plain": [
       "(891, 11)"
      ]
     },
     "execution_count": 407,
     "metadata": {},
     "output_type": "execute_result"
    },
    {
     "name": "stdout",
     "output_type": "stream",
     "text": [
      "time: 0 ns (started: 2022-10-23 15:47:33 +02:00)\n"
     ]
    }
   ],
   "source": [
    "df.shape #wymiary tabeli - 891 to liczba wierszy, a 11 to liczba kolumna"
   ]
  },
  {
   "cell_type": "code",
   "execution_count": 408,
   "id": "7e9dc530",
   "metadata": {},
   "outputs": [
    {
     "data": {
      "text/plain": [
       "Name        0.000000\n",
       "Pclass      0.000000\n",
       "Sex         0.000000\n",
       "Age         0.198653\n",
       "SibSp       0.000000\n",
       "Parch       0.000000\n",
       "Ticket      0.000000\n",
       "Fare        0.000000\n",
       "Cabin       0.771044\n",
       "Embarked    0.002245\n",
       "Survived    0.000000\n",
       "dtype: float64"
      ]
     },
     "execution_count": 408,
     "metadata": {},
     "output_type": "execute_result"
    },
    {
     "name": "stdout",
     "output_type": "stream",
     "text": [
      "time: 0 ns (started: 2022-10-23 15:47:33 +02:00)\n"
     ]
    }
   ],
   "source": [
    "df.isna().sum()/df.shape[0]"
   ]
  },
  {
   "cell_type": "markdown",
   "id": "b43fbb96",
   "metadata": {},
   "source": [
    "Uzupełnienie braków danych dla kolumny Cabin będzie i trudne i istnieje duże prawdopodobieństwo, że robiąc imputację będziemy się mylić, więc usunę tę kolumnę. \n",
    "Age i Embarked zostanie poddany procesowi imputacji. "
   ]
  },
  {
   "cell_type": "code",
   "execution_count": 409,
   "id": "075cb675",
   "metadata": {},
   "outputs": [
    {
     "name": "stdout",
     "output_type": "stream",
     "text": [
      "time: 0 ns (started: 2022-10-23 15:47:33 +02:00)\n"
     ]
    }
   ],
   "source": [
    "del df[\"Cabin\"]"
   ]
  },
  {
   "cell_type": "markdown",
   "id": "c9ec733a",
   "metadata": {},
   "source": [
    "# Imputacja braków danych"
   ]
  },
  {
   "cell_type": "markdown",
   "id": "2383c7f5",
   "metadata": {},
   "source": [
    "Kolumna Age"
   ]
  },
  {
   "cell_type": "code",
   "execution_count": 410,
   "id": "4d5b2366",
   "metadata": {},
   "outputs": [
    {
     "data": {
      "text/plain": [
       "count    714.000000\n",
       "mean      29.699118\n",
       "std       14.526497\n",
       "min        0.420000\n",
       "25%       20.125000\n",
       "50%       28.000000\n",
       "75%       38.000000\n",
       "max       80.000000\n",
       "Name: Age, dtype: float64"
      ]
     },
     "execution_count": 410,
     "metadata": {},
     "output_type": "execute_result"
    },
    {
     "name": "stdout",
     "output_type": "stream",
     "text": [
      "time: 0 ns (started: 2022-10-23 15:47:34 +02:00)\n"
     ]
    }
   ],
   "source": [
    "df[\"Age\"].describe()"
   ]
  },
  {
   "cell_type": "code",
   "execution_count": 411,
   "id": "a0ccc603",
   "metadata": {},
   "outputs": [
    {
     "data": {
      "text/plain": [
       "<AxesSubplot: >"
      ]
     },
     "execution_count": 411,
     "metadata": {},
     "output_type": "execute_result"
    },
    {
     "data": {
      "image/png": "[encoded data removed]",
      "text/plain": [
       "<Figure size 432x288 with 1 Axes>"
      ]
     },
     "metadata": {
      "needs_background": "light"
     },
     "output_type": "display_data"
    },
    {
     "name": "stdout",
     "output_type": "stream",
     "text": [
      "time: 156 ms (started: 2022-10-23 15:47:34 +02:00)\n"
     ]
    }
   ],
   "source": [
    "df[\"Age\"].hist()"
   ]
  },
  {
   "cell_type": "code",
   "execution_count": 412,
   "id": "32273171",
   "metadata": {},
   "outputs": [
    {
     "data": {
      "text/plain": [
       "Sex\n",
       "female    AxesSubplot(0.125,0.125;0.775x0.755)\n",
       "male      AxesSubplot(0.125,0.125;0.775x0.755)\n",
       "Name: Age, dtype: object"
      ]
     },
     "execution_count": 412,
     "metadata": {},
     "output_type": "execute_result"
    },
    {
     "data": {
      "image/png": "[encoded data removed]",
      "text/plain": [
       "<Figure size 432x288 with 1 Axes>"
      ]
     },
     "metadata": {
      "needs_background": "light"
     },
     "output_type": "display_data"
    },
    {
     "name": "stdout",
     "output_type": "stream",
     "text": [
      "time: 156 ms (started: 2022-10-23 15:47:34 +02:00)\n"
     ]
    }
   ],
   "source": [
    "#df.groupby(\"Sex\")[\"Age\"].hist()\n",
    "df.groupby('Sex').Age.plot(kind='kde')"
   ]
  },
  {
   "cell_type": "code",
   "execution_count": 413,
   "id": "b02c01d3",
   "metadata": {},
   "outputs": [
    {
     "name": "stdout",
     "output_type": "stream",
     "text": [
      "time: 0 ns (started: 2022-10-23 15:47:34 +02:00)\n"
     ]
    }
   ],
   "source": [
    "#Z powyższych informacji wynika, że średnia wieku jest nieznacznie większa niż mediana, a rozkłady wieku w podziale na płeć nie \n",
    "#różnią się znacząco. "
   ]
  },
  {
   "cell_type": "markdown",
   "id": "484c72d1",
   "metadata": {},
   "source": [
    "Braki danych zostaną uzupełnione średnią w podziale na płeć. Będzie ingerowało w rozkład, ale jest to szybka i prosta metoda."
   ]
  },
  {
   "cell_type": "code",
   "execution_count": 414,
   "id": "ea106682",
   "metadata": {},
   "outputs": [
    {
     "name": "stdout",
     "output_type": "stream",
     "text": [
      "time: 0 ns (started: 2022-10-23 15:47:35 +02:00)\n"
     ]
    }
   ],
   "source": [
    "df[\"Age\"] = df[\"Age\"].fillna(df.groupby(\"Sex\")[\"Age\"].transform(\"mean\"))"
   ]
  },
  {
   "cell_type": "code",
   "execution_count": 415,
   "id": "dc53200d",
   "metadata": {},
   "outputs": [
    {
     "data": {
      "text/plain": [
       "Sex\n",
       "female    AxesSubplot(0.125,0.125;0.775x0.755)\n",
       "male      AxesSubplot(0.125,0.125;0.775x0.755)\n",
       "Name: Age, dtype: object"
      ]
     },
     "execution_count": 415,
     "metadata": {},
     "output_type": "execute_result"
    },
    {
     "data": {
      "image/png": "[encoded data removed]",
      "text/plain": [
       "<Figure size 432x288 with 1 Axes>"
      ]
     },
     "metadata": {
      "needs_background": "light"
     },
     "output_type": "display_data"
    },
    {
     "name": "stdout",
     "output_type": "stream",
     "text": [
      "time: 125 ms (started: 2022-10-23 15:47:35 +02:00)\n"
     ]
    }
   ],
   "source": [
    "df.groupby('Sex').Age.plot(kind='kde')\n",
    "#Zmiana rozkładów dla wieku w podziale na płeć jest widoczna."
   ]
  },
  {
   "cell_type": "markdown",
   "id": "e4e2e0ff",
   "metadata": {},
   "source": [
    "Kolumna Embarked"
   ]
  },
  {
   "cell_type": "code",
   "execution_count": 416,
   "id": "afaa2ac1",
   "metadata": {},
   "outputs": [
    {
     "data": {
      "text/plain": [
       "Southampton    644\n",
       "Cherbourg      168\n",
       "Queenstown      77\n",
       "<NA>             2\n",
       "Name: Embarked, dtype: Int64"
      ]
     },
     "execution_count": 416,
     "metadata": {},
     "output_type": "execute_result"
    },
    {
     "name": "stdout",
     "output_type": "stream",
     "text": [
      "time: 0 ns (started: 2022-10-23 15:47:35 +02:00)\n"
     ]
    }
   ],
   "source": [
    "df[\"Embarked\"].value_counts(dropna=False)"
   ]
  },
  {
   "cell_type": "code",
   "execution_count": 417,
   "id": "5db734e3",
   "metadata": {},
   "outputs": [
    {
     "data": {
      "text/html": [
       "<div>\n",
       "<style scoped>\n",
       "    .dataframe tbody tr th:only-of-type {\n",
       "        vertical-align: middle;\n",
       "    }\n",
       "\n",
       "    .dataframe tbody tr th {\n",
       "        vertical-align: top;\n",
       "    }\n",
       "\n",
       "    .dataframe thead th {\n",
       "        text-align: right;\n",
       "    }\n",
       "</style>\n",
       "<table border=\"1\" class=\"dataframe\">\n",
       "  <thead>\n",
       "    <tr style=\"text-align: right;\">\n",
       "      <th></th>\n",
       "      <th>Name</th>\n",
       "      <th>Pclass</th>\n",
       "      <th>Sex</th>\n",
       "      <th>Age</th>\n",
       "      <th>SibSp</th>\n",
       "      <th>Parch</th>\n",
       "      <th>Ticket</th>\n",
       "      <th>Fare</th>\n",
       "      <th>Embarked</th>\n",
       "      <th>Survived</th>\n",
       "    </tr>\n",
       "    <tr>\n",
       "      <th>PassengerId</th>\n",
       "      <th></th>\n",
       "      <th></th>\n",
       "      <th></th>\n",
       "      <th></th>\n",
       "      <th></th>\n",
       "      <th></th>\n",
       "      <th></th>\n",
       "      <th></th>\n",
       "      <th></th>\n",
       "      <th></th>\n",
       "    </tr>\n",
       "  </thead>\n",
       "  <tbody>\n",
       "    <tr>\n",
       "      <th>62</th>\n",
       "      <td>Icard, Miss. Amelie</td>\n",
       "      <td>1</td>\n",
       "      <td>female</td>\n",
       "      <td>38.0</td>\n",
       "      <td>0</td>\n",
       "      <td>0</td>\n",
       "      <td>113572</td>\n",
       "      <td>80.0</td>\n",
       "      <td>&lt;NA&gt;</td>\n",
       "      <td>1</td>\n",
       "    </tr>\n",
       "    <tr>\n",
       "      <th>830</th>\n",
       "      <td>Stone, Mrs. George Nelson (Martha Evelyn)</td>\n",
       "      <td>1</td>\n",
       "      <td>female</td>\n",
       "      <td>62.0</td>\n",
       "      <td>0</td>\n",
       "      <td>0</td>\n",
       "      <td>113572</td>\n",
       "      <td>80.0</td>\n",
       "      <td>&lt;NA&gt;</td>\n",
       "      <td>1</td>\n",
       "    </tr>\n",
       "  </tbody>\n",
       "</table>\n",
       "</div>"
      ],
      "text/plain": [
       "                                                  Name  Pclass     Sex   Age  \\\n",
       "PassengerId                                                                    \n",
       "62                                 Icard, Miss. Amelie       1  female  38.0   \n",
       "830          Stone, Mrs. George Nelson (Martha Evelyn)       1  female  62.0   \n",
       "\n",
       "             SibSp  Parch  Ticket  Fare Embarked  Survived  \n",
       "PassengerId                                                 \n",
       "62               0      0  113572  80.0     <NA>         1  \n",
       "830              0      0  113572  80.0     <NA>         1  "
      ]
     },
     "execution_count": 417,
     "metadata": {},
     "output_type": "execute_result"
    },
    {
     "name": "stdout",
     "output_type": "stream",
     "text": [
      "time: 0 ns (started: 2022-10-23 15:47:35 +02:00)\n"
     ]
    }
   ],
   "source": [
    "df[df.Embarked.isnull() == True]"
   ]
  },
  {
   "cell_type": "code",
   "execution_count": 418,
   "id": "1fcfb5ae",
   "metadata": {},
   "outputs": [
    {
     "name": "stdout",
     "output_type": "stream",
     "text": [
      "time: 15 ms (started: 2022-10-23 15:47:35 +02:00)\n"
     ]
    }
   ],
   "source": [
    "#Uzupełnijmy brak danych dla tych dwóch obserwacji najczęściej występującą kategorią, czyli Southampton\n",
    "df[\"Embarked\"][df.Embarked.isnull() == True] = df[\"Embarked\"].value_counts(dropna=False).index[0]"
   ]
  },
  {
   "cell_type": "markdown",
   "id": "b223575a",
   "metadata": {},
   "source": [
    "# Feature engineering"
   ]
  },
  {
   "cell_type": "markdown",
   "id": "0843effa",
   "metadata": {},
   "source": [
    "Nazwisko"
   ]
  },
  {
   "cell_type": "code",
   "execution_count": 419,
   "id": "ac1e43f2",
   "metadata": {},
   "outputs": [
    {
     "name": "stdout",
     "output_type": "stream",
     "text": [
      "time: 0 ns (started: 2022-10-23 15:47:36 +02:00)\n"
     ]
    }
   ],
   "source": [
    "#Spróbujemy wyciągnąć nazwisko do nowej kolumny. Pomoże nam to weryfikować pewne rzeczy, o których napiszę później.\n",
    "df[\"Nazwisko\"] = [x.split(\",\")[0] for x in df.Name]\n",
    "#df[\"Name\"].str.split(\",\")[0]"
   ]
  },
  {
   "cell_type": "code",
   "execution_count": 420,
   "id": "4974938b",
   "metadata": {},
   "outputs": [
    {
     "data": {
      "text/html": [
       "<div>\n",
       "<style scoped>\n",
       "    .dataframe tbody tr th:only-of-type {\n",
       "        vertical-align: middle;\n",
       "    }\n",
       "\n",
       "    .dataframe tbody tr th {\n",
       "        vertical-align: top;\n",
       "    }\n",
       "\n",
       "    .dataframe thead th {\n",
       "        text-align: right;\n",
       "    }\n",
       "</style>\n",
       "<table border=\"1\" class=\"dataframe\">\n",
       "  <thead>\n",
       "    <tr style=\"text-align: right;\">\n",
       "      <th></th>\n",
       "      <th>Name</th>\n",
       "      <th>Pclass</th>\n",
       "      <th>Sex</th>\n",
       "      <th>Age</th>\n",
       "      <th>SibSp</th>\n",
       "      <th>Parch</th>\n",
       "      <th>Ticket</th>\n",
       "      <th>Fare</th>\n",
       "      <th>Embarked</th>\n",
       "      <th>Survived</th>\n",
       "      <th>Nazwisko</th>\n",
       "    </tr>\n",
       "    <tr>\n",
       "      <th>PassengerId</th>\n",
       "      <th></th>\n",
       "      <th></th>\n",
       "      <th></th>\n",
       "      <th></th>\n",
       "      <th></th>\n",
       "      <th></th>\n",
       "      <th></th>\n",
       "      <th></th>\n",
       "      <th></th>\n",
       "      <th></th>\n",
       "      <th></th>\n",
       "    </tr>\n",
       "  </thead>\n",
       "  <tbody>\n",
       "    <tr>\n",
       "      <th>1</th>\n",
       "      <td>Braund, Mr. Owen Harris</td>\n",
       "      <td>3</td>\n",
       "      <td>male</td>\n",
       "      <td>22.0</td>\n",
       "      <td>1</td>\n",
       "      <td>0</td>\n",
       "      <td>A/5 21171</td>\n",
       "      <td>7.2500</td>\n",
       "      <td>Southampton</td>\n",
       "      <td>0</td>\n",
       "      <td>Braund</td>\n",
       "    </tr>\n",
       "    <tr>\n",
       "      <th>2</th>\n",
       "      <td>Cumings, Mrs. John Bradley (Florence Briggs Th...</td>\n",
       "      <td>1</td>\n",
       "      <td>female</td>\n",
       "      <td>38.0</td>\n",
       "      <td>1</td>\n",
       "      <td>0</td>\n",
       "      <td>PC 17599</td>\n",
       "      <td>71.2833</td>\n",
       "      <td>Cherbourg</td>\n",
       "      <td>1</td>\n",
       "      <td>Cumings</td>\n",
       "    </tr>\n",
       "    <tr>\n",
       "      <th>3</th>\n",
       "      <td>Heikkinen, Miss. Laina</td>\n",
       "      <td>3</td>\n",
       "      <td>female</td>\n",
       "      <td>26.0</td>\n",
       "      <td>0</td>\n",
       "      <td>0</td>\n",
       "      <td>STON/O2. 3101282</td>\n",
       "      <td>7.9250</td>\n",
       "      <td>Southampton</td>\n",
       "      <td>1</td>\n",
       "      <td>Heikkinen</td>\n",
       "    </tr>\n",
       "    <tr>\n",
       "      <th>4</th>\n",
       "      <td>Futrelle, Mrs. Jacques Heath (Lily May Peel)</td>\n",
       "      <td>1</td>\n",
       "      <td>female</td>\n",
       "      <td>35.0</td>\n",
       "      <td>1</td>\n",
       "      <td>0</td>\n",
       "      <td>113803</td>\n",
       "      <td>53.1000</td>\n",
       "      <td>Southampton</td>\n",
       "      <td>1</td>\n",
       "      <td>Futrelle</td>\n",
       "    </tr>\n",
       "    <tr>\n",
       "      <th>5</th>\n",
       "      <td>Allen, Mr. William Henry</td>\n",
       "      <td>3</td>\n",
       "      <td>male</td>\n",
       "      <td>35.0</td>\n",
       "      <td>0</td>\n",
       "      <td>0</td>\n",
       "      <td>373450</td>\n",
       "      <td>8.0500</td>\n",
       "      <td>Southampton</td>\n",
       "      <td>0</td>\n",
       "      <td>Allen</td>\n",
       "    </tr>\n",
       "  </tbody>\n",
       "</table>\n",
       "</div>"
      ],
      "text/plain": [
       "                                                          Name  Pclass  \\\n",
       "PassengerId                                                              \n",
       "1                                      Braund, Mr. Owen Harris       3   \n",
       "2            Cumings, Mrs. John Bradley (Florence Briggs Th...       1   \n",
       "3                                       Heikkinen, Miss. Laina       3   \n",
       "4                 Futrelle, Mrs. Jacques Heath (Lily May Peel)       1   \n",
       "5                                     Allen, Mr. William Henry       3   \n",
       "\n",
       "                Sex   Age  SibSp  Parch            Ticket     Fare  \\\n",
       "PassengerId                                                          \n",
       "1              male  22.0      1      0         A/5 21171   7.2500   \n",
       "2            female  38.0      1      0          PC 17599  71.2833   \n",
       "3            female  26.0      0      0  STON/O2. 3101282   7.9250   \n",
       "4            female  35.0      1      0            113803  53.1000   \n",
       "5              male  35.0      0      0            373450   8.0500   \n",
       "\n",
       "                Embarked  Survived   Nazwisko  \n",
       "PassengerId                                    \n",
       "1            Southampton         0     Braund  \n",
       "2              Cherbourg         1    Cumings  \n",
       "3            Southampton         1  Heikkinen  \n",
       "4            Southampton         1   Futrelle  \n",
       "5            Southampton         0      Allen  "
      ]
     },
     "execution_count": 420,
     "metadata": {},
     "output_type": "execute_result"
    },
    {
     "name": "stdout",
     "output_type": "stream",
     "text": [
      "time: 16 ms (started: 2022-10-23 15:47:36 +02:00)\n"
     ]
    }
   ],
   "source": [
    "df.head()"
   ]
  },
  {
   "cell_type": "markdown",
   "id": "ba8d235e",
   "metadata": {},
   "source": [
    "SibSp oraz Parch"
   ]
  },
  {
   "cell_type": "code",
   "execution_count": 421,
   "id": "b150cb16",
   "metadata": {},
   "outputs": [
    {
     "data": {
      "text/html": [
       "<div>\n",
       "<style scoped>\n",
       "    .dataframe tbody tr th:only-of-type {\n",
       "        vertical-align: middle;\n",
       "    }\n",
       "\n",
       "    .dataframe tbody tr th {\n",
       "        vertical-align: top;\n",
       "    }\n",
       "\n",
       "    .dataframe thead th {\n",
       "        text-align: right;\n",
       "    }\n",
       "</style>\n",
       "<table border=\"1\" class=\"dataframe\">\n",
       "  <thead>\n",
       "    <tr style=\"text-align: right;\">\n",
       "      <th></th>\n",
       "      <th>Ticket</th>\n",
       "      <th>Ticket_freq</th>\n",
       "    </tr>\n",
       "  </thead>\n",
       "  <tbody>\n",
       "    <tr>\n",
       "      <th>0</th>\n",
       "      <td>347082</td>\n",
       "      <td>7</td>\n",
       "    </tr>\n",
       "    <tr>\n",
       "      <th>1</th>\n",
       "      <td>1601</td>\n",
       "      <td>7</td>\n",
       "    </tr>\n",
       "    <tr>\n",
       "      <th>2</th>\n",
       "      <td>CA. 2343</td>\n",
       "      <td>7</td>\n",
       "    </tr>\n",
       "    <tr>\n",
       "      <th>3</th>\n",
       "      <td>3101295</td>\n",
       "      <td>6</td>\n",
       "    </tr>\n",
       "    <tr>\n",
       "      <th>4</th>\n",
       "      <td>CA 2144</td>\n",
       "      <td>6</td>\n",
       "    </tr>\n",
       "  </tbody>\n",
       "</table>\n",
       "</div>"
      ],
      "text/plain": [
       "     Ticket  Ticket_freq\n",
       "0    347082            7\n",
       "1      1601            7\n",
       "2  CA. 2343            7\n",
       "3   3101295            6\n",
       "4   CA 2144            6"
      ]
     },
     "execution_count": 421,
     "metadata": {},
     "output_type": "execute_result"
    },
    {
     "name": "stdout",
     "output_type": "stream",
     "text": [
      "time: 16 ms (started: 2022-10-23 15:47:36 +02:00)\n"
     ]
    }
   ],
   "source": [
    "#Zmienne SibSp oraz Parch powinny zostać zsumowane i stworzyć jedną zmienną, ponieważ gdy rodzina jest w niebezpiezceństwie\n",
    "#każdy myśli o każdym. Tak podpowiada logika (tym razem niebiznesowa). Pojedynczo te zmienne nie mają sensu, więc zostaną\n",
    "#usunięte, lecz wcześniej zauważyłem, że ludzie, którzy mają wspólny bilet też mogą być w jakiś sposób związani.\n",
    "#Wyliczenie częstości występowania biletu pozwoli stworzyć lepszą zmienną niż suma SibSp i Parch\n",
    "\n",
    "ticket = df[\"Ticket\"].value_counts().reset_index().rename(columns={\"Ticket\":\"Ticket_freq\",\"index\":\"Ticket\"})\n",
    "ticket.head()"
   ]
  },
  {
   "cell_type": "code",
   "execution_count": 422,
   "id": "5ee5df4b",
   "metadata": {},
   "outputs": [
    {
     "name": "stdout",
     "output_type": "stream",
     "text": [
      "time: 0 ns (started: 2022-10-23 15:47:37 +02:00)\n"
     ]
    }
   ],
   "source": [
    "df = pd.merge(df.reset_index(), ticket, how=\"left\", on=\"Ticket\")\n",
    "df = df.set_index(\"PassengerId\")"
   ]
  },
  {
   "cell_type": "code",
   "execution_count": 423,
   "id": "5a90466b",
   "metadata": {},
   "outputs": [
    {
     "name": "stdout",
     "output_type": "stream",
     "text": [
      "time: 15 ms (started: 2022-10-23 15:47:37 +02:00)\n"
     ]
    }
   ],
   "source": [
    "#Od zmiennej Ticket_freq należy odjąć 1, ponieważ ma ona ukazywać ile osób związanych z daną osobą jest na pokładzie.\n",
    "df[\"Ticket_freq\"] = df[\"Ticket_freq\"]-1"
   ]
  },
  {
   "cell_type": "code",
   "execution_count": 424,
   "id": "883f071f",
   "metadata": {},
   "outputs": [
    {
     "data": {
      "text/html": [
       "<div>\n",
       "<style scoped>\n",
       "    .dataframe tbody tr th:only-of-type {\n",
       "        vertical-align: middle;\n",
       "    }\n",
       "\n",
       "    .dataframe tbody tr th {\n",
       "        vertical-align: top;\n",
       "    }\n",
       "\n",
       "    .dataframe thead th {\n",
       "        text-align: right;\n",
       "    }\n",
       "</style>\n",
       "<table border=\"1\" class=\"dataframe\">\n",
       "  <thead>\n",
       "    <tr style=\"text-align: right;\">\n",
       "      <th></th>\n",
       "      <th>Name</th>\n",
       "      <th>Pclass</th>\n",
       "      <th>Sex</th>\n",
       "      <th>Age</th>\n",
       "      <th>SibSp</th>\n",
       "      <th>Parch</th>\n",
       "      <th>Ticket</th>\n",
       "      <th>Fare</th>\n",
       "      <th>Embarked</th>\n",
       "      <th>Survived</th>\n",
       "      <th>Nazwisko</th>\n",
       "      <th>Ticket_freq</th>\n",
       "    </tr>\n",
       "    <tr>\n",
       "      <th>PassengerId</th>\n",
       "      <th></th>\n",
       "      <th></th>\n",
       "      <th></th>\n",
       "      <th></th>\n",
       "      <th></th>\n",
       "      <th></th>\n",
       "      <th></th>\n",
       "      <th></th>\n",
       "      <th></th>\n",
       "      <th></th>\n",
       "      <th></th>\n",
       "      <th></th>\n",
       "    </tr>\n",
       "  </thead>\n",
       "  <tbody>\n",
       "    <tr>\n",
       "      <th>1</th>\n",
       "      <td>Braund, Mr. Owen Harris</td>\n",
       "      <td>3</td>\n",
       "      <td>male</td>\n",
       "      <td>22.0</td>\n",
       "      <td>1</td>\n",
       "      <td>0</td>\n",
       "      <td>A/5 21171</td>\n",
       "      <td>7.2500</td>\n",
       "      <td>Southampton</td>\n",
       "      <td>0</td>\n",
       "      <td>Braund</td>\n",
       "      <td>0</td>\n",
       "    </tr>\n",
       "    <tr>\n",
       "      <th>2</th>\n",
       "      <td>Cumings, Mrs. John Bradley (Florence Briggs Th...</td>\n",
       "      <td>1</td>\n",
       "      <td>female</td>\n",
       "      <td>38.0</td>\n",
       "      <td>1</td>\n",
       "      <td>0</td>\n",
       "      <td>PC 17599</td>\n",
       "      <td>71.2833</td>\n",
       "      <td>Cherbourg</td>\n",
       "      <td>1</td>\n",
       "      <td>Cumings</td>\n",
       "      <td>0</td>\n",
       "    </tr>\n",
       "    <tr>\n",
       "      <th>3</th>\n",
       "      <td>Heikkinen, Miss. Laina</td>\n",
       "      <td>3</td>\n",
       "      <td>female</td>\n",
       "      <td>26.0</td>\n",
       "      <td>0</td>\n",
       "      <td>0</td>\n",
       "      <td>STON/O2. 3101282</td>\n",
       "      <td>7.9250</td>\n",
       "      <td>Southampton</td>\n",
       "      <td>1</td>\n",
       "      <td>Heikkinen</td>\n",
       "      <td>0</td>\n",
       "    </tr>\n",
       "    <tr>\n",
       "      <th>4</th>\n",
       "      <td>Futrelle, Mrs. Jacques Heath (Lily May Peel)</td>\n",
       "      <td>1</td>\n",
       "      <td>female</td>\n",
       "      <td>35.0</td>\n",
       "      <td>1</td>\n",
       "      <td>0</td>\n",
       "      <td>113803</td>\n",
       "      <td>53.1000</td>\n",
       "      <td>Southampton</td>\n",
       "      <td>1</td>\n",
       "      <td>Futrelle</td>\n",
       "      <td>1</td>\n",
       "    </tr>\n",
       "    <tr>\n",
       "      <th>5</th>\n",
       "      <td>Allen, Mr. William Henry</td>\n",
       "      <td>3</td>\n",
       "      <td>male</td>\n",
       "      <td>35.0</td>\n",
       "      <td>0</td>\n",
       "      <td>0</td>\n",
       "      <td>373450</td>\n",
       "      <td>8.0500</td>\n",
       "      <td>Southampton</td>\n",
       "      <td>0</td>\n",
       "      <td>Allen</td>\n",
       "      <td>0</td>\n",
       "    </tr>\n",
       "  </tbody>\n",
       "</table>\n",
       "</div>"
      ],
      "text/plain": [
       "                                                          Name  Pclass  \\\n",
       "PassengerId                                                              \n",
       "1                                      Braund, Mr. Owen Harris       3   \n",
       "2            Cumings, Mrs. John Bradley (Florence Briggs Th...       1   \n",
       "3                                       Heikkinen, Miss. Laina       3   \n",
       "4                 Futrelle, Mrs. Jacques Heath (Lily May Peel)       1   \n",
       "5                                     Allen, Mr. William Henry       3   \n",
       "\n",
       "                Sex   Age  SibSp  Parch            Ticket     Fare  \\\n",
       "PassengerId                                                          \n",
       "1              male  22.0      1      0         A/5 21171   7.2500   \n",
       "2            female  38.0      1      0          PC 17599  71.2833   \n",
       "3            female  26.0      0      0  STON/O2. 3101282   7.9250   \n",
       "4            female  35.0      1      0            113803  53.1000   \n",
       "5              male  35.0      0      0            373450   8.0500   \n",
       "\n",
       "                Embarked  Survived   Nazwisko  Ticket_freq  \n",
       "PassengerId                                                 \n",
       "1            Southampton         0     Braund            0  \n",
       "2              Cherbourg         1    Cumings            0  \n",
       "3            Southampton         1  Heikkinen            0  \n",
       "4            Southampton         1   Futrelle            1  \n",
       "5            Southampton         0      Allen            0  "
      ]
     },
     "execution_count": 424,
     "metadata": {},
     "output_type": "execute_result"
    },
    {
     "name": "stdout",
     "output_type": "stream",
     "text": [
      "time: 0 ns (started: 2022-10-23 15:47:37 +02:00)\n"
     ]
    }
   ],
   "source": [
    "df.head()"
   ]
  },
  {
   "cell_type": "code",
   "execution_count": 425,
   "id": "28facba0",
   "metadata": {},
   "outputs": [
    {
     "name": "stdout",
     "output_type": "stream",
     "text": [
      "time: 0 ns (started: 2022-10-23 15:47:37 +02:00)\n"
     ]
    }
   ],
   "source": [
    "#Może wystąpić także sytuacja, w której członkowie rodziny mają bilety nabyte indywiudualnie.\n",
    "#Z tego też powodu jednak stworzę zmienną, która jest sumą SibSp oraz Parch.\n",
    "df[\"family_members\"] = df[\"SibSp\"] + df[\"Parch\"]\n",
    "del df[\"SibSp\"]\n",
    "del df[\"Parch\"]"
   ]
  },
  {
   "cell_type": "code",
   "execution_count": 426,
   "id": "f715f01f",
   "metadata": {},
   "outputs": [
    {
     "name": "stdout",
     "output_type": "stream",
     "text": [
      "time: 0 ns (started: 2022-10-23 15:47:37 +02:00)\n"
     ]
    }
   ],
   "source": [
    "#Na podstawie familiy_members i Ticket_freq stworzę zmienną\n",
    "df[\"rodzina_na_pokładzie\"] = [max(family_members,Ticket_freq)\n",
    "                              for family_members,Ticket_freq in zip(df[\"family_members\"],df[\"Ticket_freq\"])]"
   ]
  },
  {
   "cell_type": "code",
   "execution_count": 427,
   "id": "4550e819",
   "metadata": {},
   "outputs": [
    {
     "name": "stdout",
     "output_type": "stream",
     "text": [
      "time: 0 ns (started: 2022-10-23 15:47:38 +02:00)\n"
     ]
    }
   ],
   "source": [
    "del df[\"family_members\"]\n",
    "del df[\"Ticket_freq\"]"
   ]
  },
  {
   "cell_type": "markdown",
   "id": "b3dd6a51",
   "metadata": {},
   "source": [
    "Embarked"
   ]
  },
  {
   "cell_type": "code",
   "execution_count": 428,
   "id": "968f007e",
   "metadata": {},
   "outputs": [
    {
     "data": {
      "text/plain": [
       "Southampton    646\n",
       "Cherbourg      168\n",
       "Queenstown      77\n",
       "Name: Embarked, dtype: Int64"
      ]
     },
     "execution_count": 428,
     "metadata": {},
     "output_type": "execute_result"
    },
    {
     "name": "stdout",
     "output_type": "stream",
     "text": [
      "time: 0 ns (started: 2022-10-23 15:47:38 +02:00)\n"
     ]
    }
   ],
   "source": [
    "#Dla zmiennej Embarked widzimy 3 kategorie, które różnią się częstością wystąpień.\n",
    "#Wykorzystam frequency encoding, ponieważ zamierzam wykorzystać model bazujący na drzewie decyzyjnym\n",
    "#który powinien dobrze sobie poradzić z odróżnieniem tych zmiennych. \n",
    "df[\"Embarked\"].value_counts(dropna=False)"
   ]
  },
  {
   "cell_type": "code",
   "execution_count": 429,
   "id": "5a376130",
   "metadata": {},
   "outputs": [
    {
     "name": "stdout",
     "output_type": "stream",
     "text": [
      "time: 62 ms (started: 2022-10-23 15:47:38 +02:00)\n"
     ]
    }
   ],
   "source": [
    "df[\"Embarked_fe\"] = np.nan\n",
    "df[\"Embarked_fe\"][df.Embarked == \"Southampton\"] = 646\n",
    "df[\"Embarked_fe\"][df.Embarked == \"Cherbourg\"] = 168\n",
    "df[\"Embarked_fe\"][df.Embarked == \"Queenstown\"] = 77"
   ]
  },
  {
   "cell_type": "code",
   "execution_count": 430,
   "id": "a00c21b3",
   "metadata": {
    "scrolled": true
   },
   "outputs": [
    {
     "name": "stdout",
     "output_type": "stream",
     "text": [
      "time: 31 ms (started: 2022-10-23 15:47:38 +02:00)\n"
     ]
    }
   ],
   "source": [
    "#Z kolumny Name można wydobyć stan cywilny pasażera\n",
    "df[\"Marital_Status\"] = np.nan\n",
    "df[\"Marital_Status\"][df.Name.str.contains(\"Mr.\")] = \"Mr.\"\n",
    "df[\"Marital_Status\"][df.Name.str.contains(\"Mrs.\")] = \"Mrs.\"\n",
    "df[\"Marital_Status\"][df.Name.str.contains(\"Miss.\")] = \"Miss.\"\n",
    "df[\"Marital_Status\"][df.Name.str.contains(\"Master.\")] = \"Master.\"\n",
    "df[\"Marital_Status\"][df.Name.str.contains(\"Don.\")] = \"Don.\"\n",
    "df[\"Marital_Status\"][df.Name.str.contains(\"Rev.\")] = \"Rev.\"\n",
    "df[\"Marital_Status\"][df.Name.str.contains(\"Dr.\")] = \"Dr.\"\n",
    "df[\"Marital_Status\"][df.Name.str.contains(\"Major.\")] = \"Major.\"\n",
    "df[\"Marital_Status\"] = df[\"Marital_Status\"].fillna(\"reszta\")"
   ]
  },
  {
   "cell_type": "code",
   "execution_count": 431,
   "id": "3b8d45ee",
   "metadata": {},
   "outputs": [
    {
     "data": {
      "text/plain": [
       "Mr.        515\n",
       "Miss.      181\n",
       "Mrs.       126\n",
       "Master.     40\n",
       "Dr.         11\n",
       "reszta       8\n",
       "Rev.         6\n",
       "Don.         2\n",
       "Major.       2\n",
       "Name: Marital_Status, dtype: int64"
      ]
     },
     "execution_count": 431,
     "metadata": {},
     "output_type": "execute_result"
    },
    {
     "name": "stdout",
     "output_type": "stream",
     "text": [
      "time: 0 ns (started: 2022-10-23 15:47:39 +02:00)\n"
     ]
    }
   ],
   "source": [
    "df.Marital_Status.value_counts()\n",
    "#Kategorie od Master. do Major. mogą zostać połączone ze sobą i nazwane jako \"reszta\""
   ]
  },
  {
   "cell_type": "code",
   "execution_count": 432,
   "id": "ac7218db",
   "metadata": {},
   "outputs": [
    {
     "name": "stdout",
     "output_type": "stream",
     "text": [
      "time: 15 ms (started: 2022-10-23 15:47:39 +02:00)\n"
     ]
    }
   ],
   "source": [
    "df[\"Marital_Status\"][df.Marital_Status.isin([\"Master.\", \"Dr.\", \"reszta\", \"Rev.\", \"Don.\", \"Major.\"])] = \"reszta\""
   ]
  },
  {
   "cell_type": "code",
   "execution_count": 433,
   "id": "c36f96c9",
   "metadata": {},
   "outputs": [
    {
     "data": {
      "text/plain": [
       "Mr.       515\n",
       "Miss.     181\n",
       "Mrs.      126\n",
       "reszta     69\n",
       "Name: Marital_Status, dtype: int64"
      ]
     },
     "execution_count": 433,
     "metadata": {},
     "output_type": "execute_result"
    },
    {
     "name": "stdout",
     "output_type": "stream",
     "text": [
      "time: 0 ns (started: 2022-10-23 15:47:39 +02:00)\n"
     ]
    }
   ],
   "source": [
    "df.Marital_Status.value_counts(dropna=False)\n",
    "#Kategorie od Master. do Major. mogą zostać połączone ze sobą i nazwane jako \"reszta\""
   ]
  },
  {
   "cell_type": "code",
   "execution_count": 434,
   "id": "99ab3eac",
   "metadata": {},
   "outputs": [
    {
     "name": "stdout",
     "output_type": "stream",
     "text": [
      "time: 47 ms (started: 2022-10-23 15:47:39 +02:00)\n"
     ]
    }
   ],
   "source": [
    "#Ponownie można wykorzystać frequency encoding\n",
    "df[\"Marital_Status_fe\"] = np.nan\n",
    "df[\"Marital_Status_fe\"][df.Marital_Status == \"Mr.\"] = 515\n",
    "df[\"Marital_Status_fe\"][df.Marital_Status == \"Miss.\"] = 181\n",
    "df[\"Marital_Status_fe\"][df.Marital_Status == \"Mrs.\"] = 126\n",
    "df[\"Marital_Status_fe\"][df.Marital_Status == \"reszta\"] = 69"
   ]
  },
  {
   "cell_type": "code",
   "execution_count": 435,
   "id": "1bb65fe7",
   "metadata": {},
   "outputs": [
    {
     "data": {
      "text/html": [
       "<div>\n",
       "<style scoped>\n",
       "    .dataframe tbody tr th:only-of-type {\n",
       "        vertical-align: middle;\n",
       "    }\n",
       "\n",
       "    .dataframe tbody tr th {\n",
       "        vertical-align: top;\n",
       "    }\n",
       "\n",
       "    .dataframe thead th {\n",
       "        text-align: right;\n",
       "    }\n",
       "</style>\n",
       "<table border=\"1\" class=\"dataframe\">\n",
       "  <thead>\n",
       "    <tr style=\"text-align: right;\">\n",
       "      <th></th>\n",
       "      <th>Name</th>\n",
       "      <th>Pclass</th>\n",
       "      <th>Sex</th>\n",
       "      <th>Age</th>\n",
       "      <th>Ticket</th>\n",
       "      <th>Fare</th>\n",
       "      <th>Embarked</th>\n",
       "      <th>Survived</th>\n",
       "      <th>Nazwisko</th>\n",
       "      <th>rodzina_na_pokładzie</th>\n",
       "      <th>Embarked_fe</th>\n",
       "      <th>Marital_Status</th>\n",
       "      <th>Marital_Status_fe</th>\n",
       "    </tr>\n",
       "    <tr>\n",
       "      <th>PassengerId</th>\n",
       "      <th></th>\n",
       "      <th></th>\n",
       "      <th></th>\n",
       "      <th></th>\n",
       "      <th></th>\n",
       "      <th></th>\n",
       "      <th></th>\n",
       "      <th></th>\n",
       "      <th></th>\n",
       "      <th></th>\n",
       "      <th></th>\n",
       "      <th></th>\n",
       "      <th></th>\n",
       "    </tr>\n",
       "  </thead>\n",
       "  <tbody>\n",
       "    <tr>\n",
       "      <th>1</th>\n",
       "      <td>Braund, Mr. Owen Harris</td>\n",
       "      <td>3</td>\n",
       "      <td>male</td>\n",
       "      <td>22.0</td>\n",
       "      <td>A/5 21171</td>\n",
       "      <td>7.2500</td>\n",
       "      <td>Southampton</td>\n",
       "      <td>0</td>\n",
       "      <td>Braund</td>\n",
       "      <td>1</td>\n",
       "      <td>646.0</td>\n",
       "      <td>Mr.</td>\n",
       "      <td>515.0</td>\n",
       "    </tr>\n",
       "    <tr>\n",
       "      <th>2</th>\n",
       "      <td>Cumings, Mrs. John Bradley (Florence Briggs Th...</td>\n",
       "      <td>1</td>\n",
       "      <td>female</td>\n",
       "      <td>38.0</td>\n",
       "      <td>PC 17599</td>\n",
       "      <td>71.2833</td>\n",
       "      <td>Cherbourg</td>\n",
       "      <td>1</td>\n",
       "      <td>Cumings</td>\n",
       "      <td>1</td>\n",
       "      <td>168.0</td>\n",
       "      <td>Mrs.</td>\n",
       "      <td>126.0</td>\n",
       "    </tr>\n",
       "    <tr>\n",
       "      <th>3</th>\n",
       "      <td>Heikkinen, Miss. Laina</td>\n",
       "      <td>3</td>\n",
       "      <td>female</td>\n",
       "      <td>26.0</td>\n",
       "      <td>STON/O2. 3101282</td>\n",
       "      <td>7.9250</td>\n",
       "      <td>Southampton</td>\n",
       "      <td>1</td>\n",
       "      <td>Heikkinen</td>\n",
       "      <td>0</td>\n",
       "      <td>646.0</td>\n",
       "      <td>Miss.</td>\n",
       "      <td>181.0</td>\n",
       "    </tr>\n",
       "    <tr>\n",
       "      <th>4</th>\n",
       "      <td>Futrelle, Mrs. Jacques Heath (Lily May Peel)</td>\n",
       "      <td>1</td>\n",
       "      <td>female</td>\n",
       "      <td>35.0</td>\n",
       "      <td>113803</td>\n",
       "      <td>53.1000</td>\n",
       "      <td>Southampton</td>\n",
       "      <td>1</td>\n",
       "      <td>Futrelle</td>\n",
       "      <td>1</td>\n",
       "      <td>646.0</td>\n",
       "      <td>Mrs.</td>\n",
       "      <td>126.0</td>\n",
       "    </tr>\n",
       "    <tr>\n",
       "      <th>5</th>\n",
       "      <td>Allen, Mr. William Henry</td>\n",
       "      <td>3</td>\n",
       "      <td>male</td>\n",
       "      <td>35.0</td>\n",
       "      <td>373450</td>\n",
       "      <td>8.0500</td>\n",
       "      <td>Southampton</td>\n",
       "      <td>0</td>\n",
       "      <td>Allen</td>\n",
       "      <td>0</td>\n",
       "      <td>646.0</td>\n",
       "      <td>Mr.</td>\n",
       "      <td>515.0</td>\n",
       "    </tr>\n",
       "  </tbody>\n",
       "</table>\n",
       "</div>"
      ],
      "text/plain": [
       "                                                          Name  Pclass  \\\n",
       "PassengerId                                                              \n",
       "1                                      Braund, Mr. Owen Harris       3   \n",
       "2            Cumings, Mrs. John Bradley (Florence Briggs Th...       1   \n",
       "3                                       Heikkinen, Miss. Laina       3   \n",
       "4                 Futrelle, Mrs. Jacques Heath (Lily May Peel)       1   \n",
       "5                                     Allen, Mr. William Henry       3   \n",
       "\n",
       "                Sex   Age            Ticket     Fare     Embarked  Survived  \\\n",
       "PassengerId                                                                   \n",
       "1              male  22.0         A/5 21171   7.2500  Southampton         0   \n",
       "2            female  38.0          PC 17599  71.2833    Cherbourg         1   \n",
       "3            female  26.0  STON/O2. 3101282   7.9250  Southampton         1   \n",
       "4            female  35.0            113803  53.1000  Southampton         1   \n",
       "5              male  35.0            373450   8.0500  Southampton         0   \n",
       "\n",
       "              Nazwisko  rodzina_na_pokładzie  Embarked_fe Marital_Status  \\\n",
       "PassengerId                                                                \n",
       "1               Braund                     1        646.0            Mr.   \n",
       "2              Cumings                     1        168.0           Mrs.   \n",
       "3            Heikkinen                     0        646.0          Miss.   \n",
       "4             Futrelle                     1        646.0           Mrs.   \n",
       "5                Allen                     0        646.0            Mr.   \n",
       "\n",
       "             Marital_Status_fe  \n",
       "PassengerId                     \n",
       "1                        515.0  \n",
       "2                        126.0  \n",
       "3                        181.0  \n",
       "4                        126.0  \n",
       "5                        515.0  "
      ]
     },
     "execution_count": 435,
     "metadata": {},
     "output_type": "execute_result"
    },
    {
     "name": "stdout",
     "output_type": "stream",
     "text": [
      "time: 16 ms (started: 2022-10-23 15:47:39 +02:00)\n"
     ]
    }
   ],
   "source": [
    "df.head()"
   ]
  },
  {
   "cell_type": "code",
   "execution_count": 436,
   "id": "8c0b18b7",
   "metadata": {},
   "outputs": [
    {
     "data": {
      "text/plain": [
       "3    491\n",
       "1    216\n",
       "2    184\n",
       "Name: Pclass, dtype: int64"
      ]
     },
     "execution_count": 436,
     "metadata": {},
     "output_type": "execute_result"
    },
    {
     "name": "stdout",
     "output_type": "stream",
     "text": [
      "time: 0 ns (started: 2022-10-23 15:47:40 +02:00)\n"
     ]
    }
   ],
   "source": [
    "df[\"Pclass\"].value_counts()"
   ]
  },
  {
   "cell_type": "markdown",
   "id": "4d1c91e2",
   "metadata": {},
   "source": [
    "# Przygotowanie zbioru pod modelowanie"
   ]
  },
  {
   "cell_type": "code",
   "execution_count": 437,
   "id": "e00315ec",
   "metadata": {
    "scrolled": true
   },
   "outputs": [
    {
     "name": "stdout",
     "output_type": "stream",
     "text": [
      "time: 0 ns (started: 2022-10-23 15:47:40 +02:00)\n"
     ]
    }
   ],
   "source": [
    "df_new = df[['Pclass', 'Sex', 'Age', 'Fare', 'rodzina_na_pokładzie', 'Embarked_fe', 'Marital_Status_fe', 'Survived']]"
   ]
  },
  {
   "cell_type": "code",
   "execution_count": 438,
   "id": "972e2813",
   "metadata": {},
   "outputs": [
    {
     "data": {
      "text/html": [
       "<div>\n",
       "<style scoped>\n",
       "    .dataframe tbody tr th:only-of-type {\n",
       "        vertical-align: middle;\n",
       "    }\n",
       "\n",
       "    .dataframe tbody tr th {\n",
       "        vertical-align: top;\n",
       "    }\n",
       "\n",
       "    .dataframe thead th {\n",
       "        text-align: right;\n",
       "    }\n",
       "</style>\n",
       "<table border=\"1\" class=\"dataframe\">\n",
       "  <thead>\n",
       "    <tr style=\"text-align: right;\">\n",
       "      <th></th>\n",
       "      <th>Pclass</th>\n",
       "      <th>Sex</th>\n",
       "      <th>Age</th>\n",
       "      <th>Fare</th>\n",
       "      <th>rodzina_na_pokładzie</th>\n",
       "      <th>Embarked_fe</th>\n",
       "      <th>Marital_Status_fe</th>\n",
       "      <th>Survived</th>\n",
       "    </tr>\n",
       "    <tr>\n",
       "      <th>PassengerId</th>\n",
       "      <th></th>\n",
       "      <th></th>\n",
       "      <th></th>\n",
       "      <th></th>\n",
       "      <th></th>\n",
       "      <th></th>\n",
       "      <th></th>\n",
       "      <th></th>\n",
       "    </tr>\n",
       "  </thead>\n",
       "  <tbody>\n",
       "    <tr>\n",
       "      <th>1</th>\n",
       "      <td>3</td>\n",
       "      <td>male</td>\n",
       "      <td>22.0</td>\n",
       "      <td>7.2500</td>\n",
       "      <td>1</td>\n",
       "      <td>646.0</td>\n",
       "      <td>515.0</td>\n",
       "      <td>0</td>\n",
       "    </tr>\n",
       "    <tr>\n",
       "      <th>2</th>\n",
       "      <td>1</td>\n",
       "      <td>female</td>\n",
       "      <td>38.0</td>\n",
       "      <td>71.2833</td>\n",
       "      <td>1</td>\n",
       "      <td>168.0</td>\n",
       "      <td>126.0</td>\n",
       "      <td>1</td>\n",
       "    </tr>\n",
       "    <tr>\n",
       "      <th>3</th>\n",
       "      <td>3</td>\n",
       "      <td>female</td>\n",
       "      <td>26.0</td>\n",
       "      <td>7.9250</td>\n",
       "      <td>0</td>\n",
       "      <td>646.0</td>\n",
       "      <td>181.0</td>\n",
       "      <td>1</td>\n",
       "    </tr>\n",
       "    <tr>\n",
       "      <th>4</th>\n",
       "      <td>1</td>\n",
       "      <td>female</td>\n",
       "      <td>35.0</td>\n",
       "      <td>53.1000</td>\n",
       "      <td>1</td>\n",
       "      <td>646.0</td>\n",
       "      <td>126.0</td>\n",
       "      <td>1</td>\n",
       "    </tr>\n",
       "    <tr>\n",
       "      <th>5</th>\n",
       "      <td>3</td>\n",
       "      <td>male</td>\n",
       "      <td>35.0</td>\n",
       "      <td>8.0500</td>\n",
       "      <td>0</td>\n",
       "      <td>646.0</td>\n",
       "      <td>515.0</td>\n",
       "      <td>0</td>\n",
       "    </tr>\n",
       "  </tbody>\n",
       "</table>\n",
       "</div>"
      ],
      "text/plain": [
       "             Pclass     Sex   Age     Fare  rodzina_na_pokładzie  Embarked_fe  \\\n",
       "PassengerId                                                                     \n",
       "1                 3    male  22.0   7.2500                     1        646.0   \n",
       "2                 1  female  38.0  71.2833                     1        168.0   \n",
       "3                 3  female  26.0   7.9250                     0        646.0   \n",
       "4                 1  female  35.0  53.1000                     1        646.0   \n",
       "5                 3    male  35.0   8.0500                     0        646.0   \n",
       "\n",
       "             Marital_Status_fe  Survived  \n",
       "PassengerId                               \n",
       "1                        515.0         0  \n",
       "2                        126.0         1  \n",
       "3                        181.0         1  \n",
       "4                        126.0         1  \n",
       "5                        515.0         0  "
      ]
     },
     "execution_count": 438,
     "metadata": {},
     "output_type": "execute_result"
    },
    {
     "name": "stdout",
     "output_type": "stream",
     "text": [
      "time: 0 ns (started: 2022-10-23 15:47:40 +02:00)\n"
     ]
    }
   ],
   "source": [
    "df_new.head()"
   ]
  },
  {
   "cell_type": "markdown",
   "id": "ef0a1c57",
   "metadata": {},
   "source": [
    "##### One hot encoding"
   ]
  },
  {
   "cell_type": "code",
   "execution_count": 439,
   "id": "e2439bab",
   "metadata": {},
   "outputs": [
    {
     "name": "stdout",
     "output_type": "stream",
     "text": [
      "time: 47 ms (started: 2022-10-23 15:47:41 +02:00)\n"
     ]
    }
   ],
   "source": [
    "#zmiennych kategorycznych uporządkowanych - Pclass nie trzeba odkodować na zmienne zero-jedynkowe\n",
    "#drzewo poradzi sobie z takim przypadkiem. Ale stringi już trzeba.\n",
    "df_new[\"Sex\"][df_new.Sex == \"male\"] = 1 \n",
    "df_new[\"Sex\"][df_new.Sex == \"female\"] = 0\n",
    "df_new[\"Sex\"] = df_new[\"Sex\"].astype(int)"
   ]
  },
  {
   "cell_type": "code",
   "execution_count": 440,
   "id": "f1397549",
   "metadata": {
    "scrolled": true
   },
   "outputs": [
    {
     "data": {
      "text/html": [
       "<div>\n",
       "<style scoped>\n",
       "    .dataframe tbody tr th:only-of-type {\n",
       "        vertical-align: middle;\n",
       "    }\n",
       "\n",
       "    .dataframe tbody tr th {\n",
       "        vertical-align: top;\n",
       "    }\n",
       "\n",
       "    .dataframe thead th {\n",
       "        text-align: right;\n",
       "    }\n",
       "</style>\n",
       "<table border=\"1\" class=\"dataframe\">\n",
       "  <thead>\n",
       "    <tr style=\"text-align: right;\">\n",
       "      <th></th>\n",
       "      <th>Pclass</th>\n",
       "      <th>Sex</th>\n",
       "      <th>Age</th>\n",
       "      <th>Fare</th>\n",
       "      <th>rodzina_na_pokładzie</th>\n",
       "      <th>Embarked_fe</th>\n",
       "      <th>Marital_Status_fe</th>\n",
       "      <th>Survived</th>\n",
       "    </tr>\n",
       "    <tr>\n",
       "      <th>PassengerId</th>\n",
       "      <th></th>\n",
       "      <th></th>\n",
       "      <th></th>\n",
       "      <th></th>\n",
       "      <th></th>\n",
       "      <th></th>\n",
       "      <th></th>\n",
       "      <th></th>\n",
       "    </tr>\n",
       "  </thead>\n",
       "  <tbody>\n",
       "    <tr>\n",
       "      <th>1</th>\n",
       "      <td>3</td>\n",
       "      <td>1</td>\n",
       "      <td>22.0</td>\n",
       "      <td>7.2500</td>\n",
       "      <td>1</td>\n",
       "      <td>646.0</td>\n",
       "      <td>515.0</td>\n",
       "      <td>0</td>\n",
       "    </tr>\n",
       "    <tr>\n",
       "      <th>2</th>\n",
       "      <td>1</td>\n",
       "      <td>0</td>\n",
       "      <td>38.0</td>\n",
       "      <td>71.2833</td>\n",
       "      <td>1</td>\n",
       "      <td>168.0</td>\n",
       "      <td>126.0</td>\n",
       "      <td>1</td>\n",
       "    </tr>\n",
       "    <tr>\n",
       "      <th>3</th>\n",
       "      <td>3</td>\n",
       "      <td>0</td>\n",
       "      <td>26.0</td>\n",
       "      <td>7.9250</td>\n",
       "      <td>0</td>\n",
       "      <td>646.0</td>\n",
       "      <td>181.0</td>\n",
       "      <td>1</td>\n",
       "    </tr>\n",
       "    <tr>\n",
       "      <th>4</th>\n",
       "      <td>1</td>\n",
       "      <td>0</td>\n",
       "      <td>35.0</td>\n",
       "      <td>53.1000</td>\n",
       "      <td>1</td>\n",
       "      <td>646.0</td>\n",
       "      <td>126.0</td>\n",
       "      <td>1</td>\n",
       "    </tr>\n",
       "    <tr>\n",
       "      <th>5</th>\n",
       "      <td>3</td>\n",
       "      <td>1</td>\n",
       "      <td>35.0</td>\n",
       "      <td>8.0500</td>\n",
       "      <td>0</td>\n",
       "      <td>646.0</td>\n",
       "      <td>515.0</td>\n",
       "      <td>0</td>\n",
       "    </tr>\n",
       "  </tbody>\n",
       "</table>\n",
       "</div>"
      ],
      "text/plain": [
       "             Pclass  Sex   Age     Fare  rodzina_na_pokładzie  Embarked_fe  \\\n",
       "PassengerId                                                                  \n",
       "1                 3    1  22.0   7.2500                     1        646.0   \n",
       "2                 1    0  38.0  71.2833                     1        168.0   \n",
       "3                 3    0  26.0   7.9250                     0        646.0   \n",
       "4                 1    0  35.0  53.1000                     1        646.0   \n",
       "5                 3    1  35.0   8.0500                     0        646.0   \n",
       "\n",
       "             Marital_Status_fe  Survived  \n",
       "PassengerId                               \n",
       "1                        515.0         0  \n",
       "2                        126.0         1  \n",
       "3                        181.0         1  \n",
       "4                        126.0         1  \n",
       "5                        515.0         0  "
      ]
     },
     "execution_count": 440,
     "metadata": {},
     "output_type": "execute_result"
    },
    {
     "name": "stdout",
     "output_type": "stream",
     "text": [
      "time: 16 ms (started: 2022-10-23 15:47:41 +02:00)\n"
     ]
    }
   ],
   "source": [
    "df_new.head()"
   ]
  },
  {
   "cell_type": "code",
   "execution_count": 441,
   "id": "ecb7a1ea",
   "metadata": {},
   "outputs": [
    {
     "name": "stdout",
     "output_type": "stream",
     "text": [
      "time: 0 ns (started: 2022-10-23 15:47:41 +02:00)\n"
     ]
    }
   ],
   "source": [
    "#podział na zbiór treningowy i testowy 75% - 25%\n",
    "from sklearn.model_selection import train_test_split\n",
    "X_train, X_test, y_train, y_test = train_test_split(\n",
    "    df_new[['Pclass', 'Sex', 'Age', 'Fare', 'rodzina_na_pokładzie',\n",
    "       'Embarked_fe', 'Marital_Status_fe']], df_new[\"Survived\"], test_size=0.25, random_state=42)"
   ]
  },
  {
   "cell_type": "code",
   "execution_count": 442,
   "id": "ca1e4d97",
   "metadata": {},
   "outputs": [
    {
     "data": {
      "text/plain": [
       "0    0.616162\n",
       "1    0.383838\n",
       "Name: Survived, dtype: float64"
      ]
     },
     "execution_count": 442,
     "metadata": {},
     "output_type": "execute_result"
    },
    {
     "name": "stdout",
     "output_type": "stream",
     "text": [
      "time: 15 ms (started: 2022-10-23 15:47:42 +02:00)\n"
     ]
    }
   ],
   "source": [
    "df_new.Survived.value_counts(normalize=True)"
   ]
  },
  {
   "cell_type": "code",
   "execution_count": 443,
   "id": "b40ae70e",
   "metadata": {},
   "outputs": [
    {
     "data": {
      "text/plain": [
       "0    0.621257\n",
       "1    0.378743\n",
       "Name: Survived, dtype: float64"
      ]
     },
     "execution_count": 443,
     "metadata": {},
     "output_type": "execute_result"
    },
    {
     "name": "stdout",
     "output_type": "stream",
     "text": [
      "time: 0 ns (started: 2022-10-23 15:47:43 +02:00)\n"
     ]
    }
   ],
   "source": [
    "y_train.value_counts(normalize=True)"
   ]
  },
  {
   "cell_type": "code",
   "execution_count": 444,
   "id": "a907ab72",
   "metadata": {},
   "outputs": [
    {
     "data": {
      "text/plain": [
       "0    0.600897\n",
       "1    0.399103\n",
       "Name: Survived, dtype: float64"
      ]
     },
     "execution_count": 444,
     "metadata": {},
     "output_type": "execute_result"
    },
    {
     "name": "stdout",
     "output_type": "stream",
     "text": [
      "time: 0 ns (started: 2022-10-23 15:47:44 +02:00)\n"
     ]
    }
   ],
   "source": [
    "y_test.value_counts(normalize=True) \n",
    "#podział zbioru został wykonany dobrze\n",
    "#stosunek zer do jedynek w każdym ze zbiorów jest podobny"
   ]
  },
  {
   "cell_type": "code",
   "execution_count": 445,
   "id": "f9b7ba18",
   "metadata": {},
   "outputs": [
    {
     "data": {
      "text/html": [
       "<div>\n",
       "<style scoped>\n",
       "    .dataframe tbody tr th:only-of-type {\n",
       "        vertical-align: middle;\n",
       "    }\n",
       "\n",
       "    .dataframe tbody tr th {\n",
       "        vertical-align: top;\n",
       "    }\n",
       "\n",
       "    .dataframe thead th {\n",
       "        text-align: right;\n",
       "    }\n",
       "</style>\n",
       "<table border=\"1\" class=\"dataframe\">\n",
       "  <thead>\n",
       "    <tr style=\"text-align: right;\">\n",
       "      <th></th>\n",
       "      <th>Pclass</th>\n",
       "      <th>Sex</th>\n",
       "      <th>Age</th>\n",
       "      <th>Fare</th>\n",
       "      <th>rodzina_na_pokładzie</th>\n",
       "      <th>Embarked_fe</th>\n",
       "      <th>Marital_Status_fe</th>\n",
       "    </tr>\n",
       "    <tr>\n",
       "      <th>PassengerId</th>\n",
       "      <th></th>\n",
       "      <th></th>\n",
       "      <th></th>\n",
       "      <th></th>\n",
       "      <th></th>\n",
       "      <th></th>\n",
       "      <th></th>\n",
       "    </tr>\n",
       "  </thead>\n",
       "  <tbody>\n",
       "    <tr>\n",
       "      <th>299</th>\n",
       "      <td>1</td>\n",
       "      <td>1</td>\n",
       "      <td>30.726645</td>\n",
       "      <td>30.5000</td>\n",
       "      <td>0</td>\n",
       "      <td>646.0</td>\n",
       "      <td>515.0</td>\n",
       "    </tr>\n",
       "    <tr>\n",
       "      <th>885</th>\n",
       "      <td>3</td>\n",
       "      <td>1</td>\n",
       "      <td>25.000000</td>\n",
       "      <td>7.0500</td>\n",
       "      <td>0</td>\n",
       "      <td>646.0</td>\n",
       "      <td>515.0</td>\n",
       "    </tr>\n",
       "    <tr>\n",
       "      <th>248</th>\n",
       "      <td>2</td>\n",
       "      <td>0</td>\n",
       "      <td>24.000000</td>\n",
       "      <td>14.5000</td>\n",
       "      <td>2</td>\n",
       "      <td>646.0</td>\n",
       "      <td>126.0</td>\n",
       "    </tr>\n",
       "    <tr>\n",
       "      <th>479</th>\n",
       "      <td>3</td>\n",
       "      <td>1</td>\n",
       "      <td>22.000000</td>\n",
       "      <td>7.5208</td>\n",
       "      <td>0</td>\n",
       "      <td>646.0</td>\n",
       "      <td>515.0</td>\n",
       "    </tr>\n",
       "    <tr>\n",
       "      <th>306</th>\n",
       "      <td>1</td>\n",
       "      <td>1</td>\n",
       "      <td>0.920000</td>\n",
       "      <td>151.5500</td>\n",
       "      <td>3</td>\n",
       "      <td>646.0</td>\n",
       "      <td>69.0</td>\n",
       "    </tr>\n",
       "  </tbody>\n",
       "</table>\n",
       "</div>"
      ],
      "text/plain": [
       "             Pclass  Sex        Age      Fare  rodzina_na_pokładzie  \\\n",
       "PassengerId                                                           \n",
       "299               1    1  30.726645   30.5000                     0   \n",
       "885               3    1  25.000000    7.0500                     0   \n",
       "248               2    0  24.000000   14.5000                     2   \n",
       "479               3    1  22.000000    7.5208                     0   \n",
       "306               1    1   0.920000  151.5500                     3   \n",
       "\n",
       "             Embarked_fe  Marital_Status_fe  \n",
       "PassengerId                                  \n",
       "299                646.0              515.0  \n",
       "885                646.0              515.0  \n",
       "248                646.0              126.0  \n",
       "479                646.0              515.0  \n",
       "306                646.0               69.0  "
      ]
     },
     "execution_count": 445,
     "metadata": {},
     "output_type": "execute_result"
    },
    {
     "name": "stdout",
     "output_type": "stream",
     "text": [
      "time: 0 ns (started: 2022-10-23 15:47:45 +02:00)\n"
     ]
    }
   ],
   "source": [
    "X_train.head()"
   ]
  },
  {
   "cell_type": "markdown",
   "id": "97757d2b",
   "metadata": {},
   "source": [
    "Zbiór jest gotowy do modelowania"
   ]
  },
  {
   "cell_type": "markdown",
   "id": "8073662e",
   "metadata": {},
   "source": [
    "# Hipotezy badawcze"
   ]
  },
  {
   "cell_type": "markdown",
   "id": "c1cc595d",
   "metadata": {},
   "source": [
    "## 1. Podejrzewam, że osoby z pierwszej klasy mają większe szanse na przeżycie niż osoby w niższych klasach."
   ]
  },
  {
   "cell_type": "markdown",
   "id": "3fefcf89",
   "metadata": {},
   "source": [
    "## 2. Osoby, które mają wiele powiązanych ze sobą osób na pokładzie mają mniejsze szanse na przeżycie niż osoby, które mają mniej takich osób."
   ]
  },
  {
   "cell_type": "markdown",
   "id": "b5f76636",
   "metadata": {},
   "source": [
    "## 3. Osoby skrajnie młode i skrajnie stare mają miejsze szanse na przeżycie niż osoby w sile wieku."
   ]
  },
  {
   "cell_type": "markdown",
   "id": "5bfa1422",
   "metadata": {},
   "source": [
    "# Modelowanie"
   ]
  },
  {
   "cell_type": "markdown",
   "id": "d62c0eb6",
   "metadata": {},
   "source": [
    "Wykorzystam drzewo decyzyjne i postaram znaleźć się takie wartości hiperparametrów, które nie doporowadzą do przeuczenia modelu"
   ]
  },
  {
   "cell_type": "code",
   "execution_count": 446,
   "id": "18309e27",
   "metadata": {},
   "outputs": [
    {
     "name": "stdout",
     "output_type": "stream",
     "text": [
      "time: 0 ns (started: 2022-10-23 15:47:47 +02:00)\n"
     ]
    }
   ],
   "source": [
    "from sklearn.tree import DecisionTreeClassifier\n",
    "from sklearn.metrics import balanced_accuracy_score \n",
    "from tqdm import tqdm"
   ]
  },
  {
   "cell_type": "code",
   "execution_count": 447,
   "id": "b74fef33",
   "metadata": {
    "scrolled": false
   },
   "outputs": [
    {
     "name": "stdout",
     "output_type": "stream",
     "text": [
      "criterion: entropy max_depth: 30 min_samples_leaf: 10 ccp_alpha: 0.01\n",
      "Train: Balanced accuracy = 0.816\n",
      "Test : Balanced accuracy = 0.811\n",
      "\n",
      "criterion: gini max_depth: 30 min_samples_leaf: 10 ccp_alpha: 0.001\n",
      "Train: Balanced accuracy = 0.848\n",
      "Test : Balanced accuracy = 0.811\n",
      "\n",
      "criterion: gini max_depth: 30 min_samples_leaf: 10 ccp_alpha: 0.0001\n",
      "Train: Balanced accuracy = 0.848\n",
      "Test : Balanced accuracy = 0.811\n",
      "\n",
      "criterion: gini max_depth: 30 min_samples_leaf: 10 ccp_alpha: 0\n",
      "Train: Balanced accuracy = 0.848\n",
      "Test : Balanced accuracy = 0.811\n",
      "\n",
      "criterion: entropy max_depth: 30 min_samples_leaf: 5 ccp_alpha: 0.01\n",
      "Train: Balanced accuracy = 0.816\n",
      "Test : Balanced accuracy = 0.811\n",
      "\n",
      "criterion: gini max_depth: 30 min_samples_leaf: 5 ccp_alpha: 0.001\n",
      "Train: Balanced accuracy = 0.866\n",
      "Test : Balanced accuracy = 0.828\n",
      "\n",
      "criterion: entropy max_depth: 30 min_samples_leaf: 2 ccp_alpha: 0.01\n",
      "Train: Balanced accuracy = 0.816\n",
      "Test : Balanced accuracy = 0.811\n",
      "\n",
      "criterion: entropy max_depth: 30 min_samples_leaf: 1 ccp_alpha: 0.01\n",
      "Train: Balanced accuracy = 0.816\n",
      "Test : Balanced accuracy = 0.811\n",
      "\n",
      "criterion: entropy max_depth: 20 min_samples_leaf: 10 ccp_alpha: 0.01\n",
      "Train: Balanced accuracy = 0.816\n",
      "Test : Balanced accuracy = 0.811\n",
      "\n",
      "criterion: gini max_depth: 20 min_samples_leaf: 10 ccp_alpha: 0.001\n",
      "Train: Balanced accuracy = 0.848\n",
      "Test : Balanced accuracy = 0.811\n",
      "\n",
      "criterion: gini max_depth: 20 min_samples_leaf: 10 ccp_alpha: 0.0001\n",
      "Train: Balanced accuracy = 0.848\n",
      "Test : Balanced accuracy = 0.811\n",
      "\n",
      "criterion: gini max_depth: 20 min_samples_leaf: 10 ccp_alpha: 0\n",
      "Train: Balanced accuracy = 0.848\n",
      "Test : Balanced accuracy = 0.811\n",
      "\n",
      "criterion: entropy max_depth: 20 min_samples_leaf: 5 ccp_alpha: 0.01\n",
      "Train: Balanced accuracy = 0.816\n",
      "Test : Balanced accuracy = 0.811\n",
      "\n",
      "criterion: gini max_depth: 20 min_samples_leaf: 5 ccp_alpha: 0.001\n",
      "Train: Balanced accuracy = 0.866\n",
      "Test : Balanced accuracy = 0.828\n",
      "\n",
      "criterion: entropy max_depth: 20 min_samples_leaf: 2 ccp_alpha: 0.01\n",
      "Train: Balanced accuracy = 0.816\n",
      "Test : Balanced accuracy = 0.811\n",
      "\n",
      "criterion: entropy max_depth: 20 min_samples_leaf: 1 ccp_alpha: 0.01\n",
      "Train: Balanced accuracy = 0.816\n",
      "Test : Balanced accuracy = 0.811\n",
      "\n",
      "criterion: entropy max_depth: 10 min_samples_leaf: 10 ccp_alpha: 0.01\n",
      "Train: Balanced accuracy = 0.816\n",
      "Test : Balanced accuracy = 0.811\n",
      "\n",
      "criterion: gini max_depth: 10 min_samples_leaf: 10 ccp_alpha: 0.001\n",
      "Train: Balanced accuracy = 0.848\n",
      "Test : Balanced accuracy = 0.811\n",
      "\n",
      "criterion: gini max_depth: 10 min_samples_leaf: 10 ccp_alpha: 0.0001\n",
      "Train: Balanced accuracy = 0.848\n",
      "Test : Balanced accuracy = 0.811\n",
      "\n",
      "criterion: gini max_depth: 10 min_samples_leaf: 10 ccp_alpha: 0\n",
      "Train: Balanced accuracy = 0.848\n",
      "Test : Balanced accuracy = 0.811\n",
      "\n",
      "criterion: entropy max_depth: 10 min_samples_leaf: 5 ccp_alpha: 0.01\n",
      "Train: Balanced accuracy = 0.816\n",
      "Test : Balanced accuracy = 0.811\n",
      "\n",
      "criterion: gini max_depth: 10 min_samples_leaf: 5 ccp_alpha: 0.001\n",
      "Train: Balanced accuracy = 0.866\n",
      "Test : Balanced accuracy = 0.828\n",
      "\n",
      "criterion: entropy max_depth: 10 min_samples_leaf: 5 ccp_alpha: 0.001\n",
      "Train: Balanced accuracy = 0.863\n",
      "Test : Balanced accuracy = 0.834\n",
      "\n",
      "criterion: entropy max_depth: 10 min_samples_leaf: 5 ccp_alpha: 0.0001\n",
      "Train: Balanced accuracy = 0.867\n",
      "Test : Balanced accuracy = 0.834\n",
      "\n",
      "criterion: entropy max_depth: 10 min_samples_leaf: 5 ccp_alpha: 0\n",
      "Train: Balanced accuracy = 0.867\n",
      "Test : Balanced accuracy = 0.834\n",
      "\n",
      "criterion: entropy max_depth: 10 min_samples_leaf: 2 ccp_alpha: 0.01\n",
      "Train: Balanced accuracy = 0.816\n",
      "Test : Balanced accuracy = 0.811\n",
      "\n",
      "criterion: entropy max_depth: 10 min_samples_leaf: 1 ccp_alpha: 0.01\n",
      "Train: Balanced accuracy = 0.816\n",
      "Test : Balanced accuracy = 0.811\n",
      "\n",
      "criterion: entropy max_depth: 5 min_samples_leaf: 10 ccp_alpha: 0.01\n",
      "Train: Balanced accuracy = 0.816\n",
      "Test : Balanced accuracy = 0.811\n",
      "\n",
      "criterion: entropy max_depth: 5 min_samples_leaf: 5 ccp_alpha: 0.01\n",
      "Train: Balanced accuracy = 0.816\n",
      "Test : Balanced accuracy = 0.811\n",
      "\n",
      "criterion: entropy max_depth: 5 min_samples_leaf: 5 ccp_alpha: 0.001\n",
      "Train: Balanced accuracy = 0.832\n",
      "Test : Balanced accuracy = 0.841\n",
      "\n",
      "criterion: entropy max_depth: 5 min_samples_leaf: 5 ccp_alpha: 0.0001\n",
      "Train: Balanced accuracy = 0.832\n",
      "Test : Balanced accuracy = 0.841\n",
      "\n",
      "criterion: entropy max_depth: 5 min_samples_leaf: 5 ccp_alpha: 0\n",
      "Train: Balanced accuracy = 0.832\n",
      "Test : Balanced accuracy = 0.841\n",
      "\n",
      "criterion: entropy max_depth: 5 min_samples_leaf: 2 ccp_alpha: 0.01\n",
      "Train: Balanced accuracy = 0.816\n",
      "Test : Balanced accuracy = 0.811\n",
      "\n",
      "criterion: gini max_depth: 5 min_samples_leaf: 2 ccp_alpha: 0.001\n",
      "Train: Balanced accuracy = 0.839\n",
      "Test : Balanced accuracy = 0.837\n",
      "\n",
      "criterion: entropy max_depth: 5 min_samples_leaf: 2 ccp_alpha: 0.001\n",
      "Train: Balanced accuracy = 0.835\n",
      "Test : Balanced accuracy = 0.837\n",
      "\n",
      "criterion: gini max_depth: 5 min_samples_leaf: 2 ccp_alpha: 0.0001\n",
      "Train: Balanced accuracy = 0.839\n",
      "Test : Balanced accuracy = 0.837\n",
      "\n",
      "criterion: entropy max_depth: 5 min_samples_leaf: 2 ccp_alpha: 0.0001\n",
      "Train: Balanced accuracy = 0.835\n",
      "Test : Balanced accuracy = 0.837\n",
      "\n",
      "criterion: gini max_depth: 5 min_samples_leaf: 2 ccp_alpha: 0\n",
      "Train: Balanced accuracy = 0.839\n",
      "Test : Balanced accuracy = 0.837\n",
      "\n",
      "criterion: entropy max_depth: 5 min_samples_leaf: 2 ccp_alpha: 0\n",
      "Train: Balanced accuracy = 0.835\n",
      "Test : Balanced accuracy = 0.837\n",
      "\n",
      "criterion: entropy max_depth: 5 min_samples_leaf: 1 ccp_alpha: 0.01\n",
      "Train: Balanced accuracy = 0.816\n",
      "Test : Balanced accuracy = 0.811\n",
      "\n",
      "criterion: gini max_depth: 5 min_samples_leaf: 1 ccp_alpha: 0.001\n",
      "Train: Balanced accuracy = 0.845\n",
      "Test : Balanced accuracy = 0.834\n",
      "\n",
      "criterion: entropy max_depth: 5 min_samples_leaf: 1 ccp_alpha: 0.001\n",
      "Train: Balanced accuracy = 0.837\n",
      "Test : Balanced accuracy = 0.837\n",
      "\n",
      "criterion: gini max_depth: 5 min_samples_leaf: 1 ccp_alpha: 0.0001\n",
      "Train: Balanced accuracy = 0.845\n",
      "Test : Balanced accuracy = 0.834\n",
      "\n",
      "criterion: entropy max_depth: 5 min_samples_leaf: 1 ccp_alpha: 0.0001\n",
      "Train: Balanced accuracy = 0.837\n",
      "Test : Balanced accuracy = 0.837\n",
      "\n",
      "criterion: gini max_depth: 5 min_samples_leaf: 1 ccp_alpha: 0\n",
      "Train: Balanced accuracy = 0.845\n",
      "Test : Balanced accuracy = 0.834\n",
      "\n",
      "criterion: entropy max_depth: 5 min_samples_leaf: 1 ccp_alpha: 0\n",
      "Train: Balanced accuracy = 0.837\n",
      "Test : Balanced accuracy = 0.837\n",
      "\n",
      "time: 1.11 s (started: 2022-10-23 15:47:50 +02:00)\n"
     ]
    }
   ],
   "source": [
    "for max_depth in [30,20,10,5,2]:\n",
    "    for min_samples_leaf in [50, 10, 5, 2,1]:\n",
    "        for ccp_alpha in [0.1, 0.01, 0.001, 0.0001, 0]:\n",
    "            for criterion in [\"gini\", \"entropy\"]:\n",
    "                model = DecisionTreeClassifier(criterion=criterion, max_depth=max_depth, \n",
    "                                           min_samples_leaf=min_samples_leaf, \n",
    "                                           random_state=123, ccp_alpha=ccp_alpha).fit(X_train, y_train)\n",
    "            \n",
    "                y_pred_train = model.predict(X_train)\n",
    "                balanced_accuracy_train = round(balanced_accuracy_score(y_train, y_pred_train), 3)\n",
    "           \n",
    "        \n",
    "                y_pred_test = model.predict(X_test)\n",
    "                balanced_accuracy_test = round(balanced_accuracy_score(y_test, y_pred_test), 3)\n",
    "                różnica = abs(balanced_accuracy_test-balanced_accuracy_train)\n",
    "                \n",
    "                #jeśli różnica w wynikach dla zbioru trenngowego i testowego jest mniejsza niż 0.05\n",
    "                #i wyniki na zbiorze treningowym i testwoym większe niż 0.8  to printuje wyniki\n",
    "                if różnica < 0.05 and balanced_accuracy_test > 0.8 and balanced_accuracy_train > 0.8:\n",
    "                    print(\"criterion: \"+criterion, \"max_depth: \"+str(max_depth), \"min_samples_leaf: \"+str(min_samples_leaf), \"ccp_alpha: \"+str(ccp_alpha))\n",
    "                    print(\"Train: Balanced accuracy = \"+str(balanced_accuracy_train))\n",
    "                    print(\"Test : Balanced accuracy = \"+str(balanced_accuracy_test))\n",
    "                    print(\"\")"
   ]
  },
  {
   "cell_type": "code",
   "execution_count": 452,
   "id": "0b716067",
   "metadata": {},
   "outputs": [
    {
     "name": "stdout",
     "output_type": "stream",
     "text": [
      "criterion: gini max_depth: 7 min_samples_leaf: 5 ccp_alpha: 0.001\n",
      "Train: Balanced accuracy = 0.863\n",
      "Test : Balanced accuracy = 0.835\n",
      "\n",
      "criterion: entropy max_depth: 5 min_samples_leaf: 5 ccp_alpha: 0.001\n",
      "Train: Balanced accuracy = 0.832\n",
      "Test : Balanced accuracy = 0.841\n",
      "\n",
      "criterion: entropy max_depth: 5 min_samples_leaf: 5 ccp_alpha: 0.0001\n",
      "Train: Balanced accuracy = 0.832\n",
      "Test : Balanced accuracy = 0.841\n",
      "\n",
      "criterion: entropy max_depth: 5 min_samples_leaf: 5 ccp_alpha: 0\n",
      "Train: Balanced accuracy = 0.832\n",
      "Test : Balanced accuracy = 0.841\n",
      "\n",
      "criterion: gini max_depth: 5 min_samples_leaf: 2 ccp_alpha: 0.001\n",
      "Train: Balanced accuracy = 0.839\n",
      "Test : Balanced accuracy = 0.837\n",
      "\n",
      "criterion: entropy max_depth: 5 min_samples_leaf: 2 ccp_alpha: 0.001\n",
      "Train: Balanced accuracy = 0.835\n",
      "Test : Balanced accuracy = 0.837\n",
      "\n",
      "criterion: gini max_depth: 5 min_samples_leaf: 2 ccp_alpha: 0.0001\n",
      "Train: Balanced accuracy = 0.839\n",
      "Test : Balanced accuracy = 0.837\n",
      "\n",
      "criterion: entropy max_depth: 5 min_samples_leaf: 2 ccp_alpha: 0.0001\n",
      "Train: Balanced accuracy = 0.835\n",
      "Test : Balanced accuracy = 0.837\n",
      "\n",
      "criterion: gini max_depth: 5 min_samples_leaf: 2 ccp_alpha: 0\n",
      "Train: Balanced accuracy = 0.839\n",
      "Test : Balanced accuracy = 0.837\n",
      "\n",
      "criterion: entropy max_depth: 5 min_samples_leaf: 2 ccp_alpha: 0\n",
      "Train: Balanced accuracy = 0.835\n",
      "Test : Balanced accuracy = 0.837\n",
      "\n",
      "criterion: gini max_depth: 5 min_samples_leaf: 1 ccp_alpha: 0.001\n",
      "Train: Balanced accuracy = 0.845\n",
      "Test : Balanced accuracy = 0.834\n",
      "\n",
      "criterion: entropy max_depth: 5 min_samples_leaf: 1 ccp_alpha: 0.001\n",
      "Train: Balanced accuracy = 0.837\n",
      "Test : Balanced accuracy = 0.837\n",
      "\n",
      "criterion: gini max_depth: 5 min_samples_leaf: 1 ccp_alpha: 0.0001\n",
      "Train: Balanced accuracy = 0.845\n",
      "Test : Balanced accuracy = 0.834\n",
      "\n",
      "criterion: entropy max_depth: 5 min_samples_leaf: 1 ccp_alpha: 0.0001\n",
      "Train: Balanced accuracy = 0.837\n",
      "Test : Balanced accuracy = 0.837\n",
      "\n",
      "criterion: gini max_depth: 5 min_samples_leaf: 1 ccp_alpha: 0\n",
      "Train: Balanced accuracy = 0.845\n",
      "Test : Balanced accuracy = 0.834\n",
      "\n",
      "criterion: entropy max_depth: 5 min_samples_leaf: 1 ccp_alpha: 0\n",
      "Train: Balanced accuracy = 0.837\n",
      "Test : Balanced accuracy = 0.837\n",
      "\n",
      "time: 2.47 s (started: 2022-10-23 15:57:12 +02:00)\n"
     ]
    }
   ],
   "source": [
    "#Najlepsze wyniki drzewo osiąga dla głębokości 5, dlatego warto sprawdzić inne głębokości drzewa\n",
    "#w pobliżu 5\n",
    "for max_depth in [8,7,6,5,4,3,2]:\n",
    "    for min_samples_leaf in [50, 10, 5, 2,1]:\n",
    "        for ccp_alpha in [0.1, 0.01, 0.001, 0.0001, 0]:\n",
    "            for criterion in [\"gini\", \"entropy\"]:\n",
    "                model = DecisionTreeClassifier(criterion=criterion, max_depth=max_depth, \n",
    "                                           min_samples_leaf=min_samples_leaf, \n",
    "                                           random_state=123, ccp_alpha=ccp_alpha).fit(X_train, y_train)\n",
    "            \n",
    "                y_pred_train = model.predict(X_train)\n",
    "                balanced_accuracy_train = round(balanced_accuracy_score(y_train, y_pred_train), 3)\n",
    "           \n",
    "                y_pred_test = model.predict(X_test)\n",
    "                balanced_accuracy_test = round(balanced_accuracy_score(y_test, y_pred_test), 3)\n",
    "                \n",
    "                \n",
    "                różnica = abs(balanced_accuracy_test-balanced_accuracy_train)\n",
    "                #jeśli różnica w wynikach dla zbioru trenngowego i testowego jest mniejsza niż 0.05\n",
    "                #i wyniki na zbiorze treningowym i testwoym większe niż 0.83 to printuje wyniki\n",
    "                if różnica < 0.05 and balanced_accuracy_test > 0.83 and balanced_accuracy_train > 0.83:\n",
    "                    print(\"criterion: \"+criterion, \"max_depth: \"+str(max_depth), \"min_samples_leaf: \"+str(min_samples_leaf), \"ccp_alpha: \"+str(ccp_alpha))\n",
    "                    print(\"Train: Balanced accuracy = \"+str(balanced_accuracy_train))\n",
    "                    print(\"Test : Balanced accuracy = \"+str(balanced_accuracy_test))\n",
    "                    print(\"\")"
   ]
  },
  {
   "cell_type": "markdown",
   "id": "84ae8791",
   "metadata": {},
   "source": [
    "##### Najlepszy model ma takie hiperparametry: criterion: entropy, max_depth: 5, min_samples_leaf: 5, ccp_alpha: 0,\n",
    "##### Wartość zbalansowanej dokładności na zbiorze treningowym równa jest 0,832, a na zbiorze testowym 0,841."
   ]
  },
  {
   "cell_type": "markdown",
   "id": "b7839a6a",
   "metadata": {},
   "source": [
    "# Ocena jakości modelu"
   ]
  },
  {
   "cell_type": "markdown",
   "id": "9b55fabe",
   "metadata": {},
   "source": [
    "Model nie jest przetrenowany, ewentualnie można użyć innych statystyk, aby sprawdzić czy model lepiej klasyfikuje zera czy jedynki."
   ]
  },
  {
   "cell_type": "markdown",
   "id": "d568c0f7",
   "metadata": {},
   "source": [
    "# Wizualizacja"
   ]
  },
  {
   "cell_type": "code",
   "execution_count": 470,
   "id": "1251e255",
   "metadata": {},
   "outputs": [
    {
     "name": "stdout",
     "output_type": "stream",
     "text": [
      "time: 16 ms (started: 2022-10-23 16:09:38 +02:00)\n"
     ]
    }
   ],
   "source": [
    "model = DecisionTreeClassifier(criterion=\"entropy\", max_depth=5, min_samples_leaf=5, \n",
    "                               random_state=123, ccp_alpha=0).fit(X_train, y_train)"
   ]
  },
  {
   "cell_type": "code",
   "execution_count": 475,
   "id": "4c5b2050",
   "metadata": {},
   "outputs": [
    {
     "data": {
      "image/png": "[encoded data removed]",
      "text/plain": [
       "<Figure size 3600x1440 with 1 Axes>"
      ]
     },
     "metadata": {
      "needs_background": "light"
     },
     "output_type": "display_data"
    },
    {
     "name": "stdout",
     "output_type": "stream",
     "text": [
      "time: 3.94 s (started: 2022-10-23 16:23:46 +02:00)\n"
     ]
    }
   ],
   "source": [
    "from sklearn import tree\n",
    "import matplotlib.pyplot as plt\n",
    "\n",
    "fig = plt.figure(figsize=(50,20))\n",
    "_ = tree.plot_tree(model, filled=True, feature_names=model.feature_names_in_)"
   ]
  },
  {
   "cell_type": "markdown",
   "id": "c3c57889",
   "metadata": {},
   "source": [
    "# Odpowiedź na hipotezy badawcze"
   ]
  },
  {
   "cell_type": "markdown",
   "id": "02e6e30f",
   "metadata": {},
   "source": [
    "1. Nie ma jednoznaczego zaprzeczenia czy też potwierdzenia hipotezy, że bycie w pierwszej klasie zwiększało prawdopodbieństwo\n",
    "przeżycia, ponieważ nie da się porównać ceteris paribus osób z lepszej klasy z osobą z gorszej klasy. Posłużyłbym się regresją logistyczną\n",
    "do odopowiedzi na to pytanie"
   ]
  },
  {
   "cell_type": "markdown",
   "id": "5fb3a534",
   "metadata": {},
   "source": [
    "Niestety problem porównania ceteris paribus tyczy się też kolejnych hipotez. \n",
    "Zamiast tego opiszę jakie cechy trzeba było mieć, aby miej jak największe prawdopodobieństwo na przeżycie.\n",
    "Należało mieć status Pan (Mr.), mieć więcej lat niż 32,5 oraz zapłacić za bilet nie więcej niż 7,91 dolarów. Osób w tej grupie\n",
    "było 28 i wszystkie przeżyły.\n",
    "\n",
    "Aby miej jak najmniejsze prawdopodobieństwo na przeżycie należało nie mieć statusu Pan (Mr.), \n",
    "być w klasie pierwszej lub drugiej, być kobietą oraz zapłacić za bilet między 29,36 dolarów a 149,04 dolarów. Osób w tej grupie\n",
    "było 53 i wszystkie zginęły.\n"
   ]
  },
  {
   "cell_type": "markdown",
   "id": "682bfa64",
   "metadata": {},
   "source": [
    "# Potencjalne kroki, które poprawiłyby możliwości predykcyjne modelu"
   ]
  },
  {
   "cell_type": "markdown",
   "id": "7c6b8cda",
   "metadata": {},
   "source": [
    "1. Poświęcenie więcej czasu na eksploracyjną analizę danych"
   ]
  },
  {
   "cell_type": "markdown",
   "id": "f252819d",
   "metadata": {},
   "source": [
    "2. Oversampling danych, aby zwiększyć kategorię 0 dla targetu. Na pewno nie undersampling, bo mamy mało danych"
   ]
  },
  {
   "cell_type": "markdown",
   "id": "27297ca8",
   "metadata": {},
   "source": [
    "3. Wykorzystanie mocniejszego modelu np. typu gradient boosting"
   ]
  },
  {
   "cell_type": "markdown",
   "id": "cf8a7747",
   "metadata": {},
   "source": [
    "4. Użycie większej liczby miar, aby ocenić skuteczność modelu"
   ]
  },
  {
   "cell_type": "markdown",
   "id": "bd017a81",
   "metadata": {},
   "source": [
    "# Dziękuję za uwagę! :D"
   ]
  }
 ],
 "metadata": {
  "kernelspec": {
   "display_name": "Python 3 (ipykernel)",
   "language": "python",
   "name": "python3"
  },
  "language_info": {
   "codemirror_mode": {
    "name": "ipython",
    "version": 3
   },
   "file_extension": ".py",
   "mimetype": "text/x-python",
   "name": "python",
   "nbconvert_exporter": "python",
   "pygments_lexer": "ipython3",
   "version": "3.9.12"
  }
 },
 "nbformat": 4,
 "nbformat_minor": 5
}
