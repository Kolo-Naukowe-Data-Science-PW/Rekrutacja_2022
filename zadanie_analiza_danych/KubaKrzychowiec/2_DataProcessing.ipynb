{
 "cells": [
  {
   "cell_type": "markdown",
   "id": "643c5cbc-7f2e-4e44-bce5-b1ee921903f6",
   "metadata": {},
   "source": [
    "# Data processing"
   ]
  },
  {
   "cell_type": "markdown",
   "id": "6031b01b-d3c4-462c-b144-813a13fa2255",
   "metadata": {},
   "source": [
    "# Table of contents\n",
    "\n",
    "- [1. Data exploration](#1.-Data-exploration)\n",
    "- [2. Data extraction](#2.-Data-extraction)\n",
    "- [3. Data cleaning](#3.-Data-cleaning-process)"
   ]
  },
  {
   "cell_type": "markdown",
   "id": "e02f4e55-3542-4499-ad0f-666b8ea1aee2",
   "metadata": {},
   "source": [
    "#### Importing the modules"
   ]
  },
  {
   "cell_type": "code",
   "execution_count": 1,
   "id": "d75f5d06-2206-487c-964d-eea7be962375",
   "metadata": {},
   "outputs": [],
   "source": [
    "import numpy as np\n",
    "import pandas as pd\n",
    "import missingno as msno"
   ]
  },
  {
   "cell_type": "markdown",
   "id": "973737aa-5912-4c5e-953b-584eadd36805",
   "metadata": {},
   "source": [
    "# 1. Data exploration"
   ]
  },
  {
   "cell_type": "markdown",
   "id": "869b8b36-1fa1-44ea-80c9-dc59d4cf1ff1",
   "metadata": {},
   "source": [
    "#### As stated before, we will drop the columns that are not worth keeping track of. We will also drop the columns that contain information writtein in Portuguese."
   ]
  },
  {
   "cell_type": "code",
   "execution_count": 2,
   "id": "d4d4472d-65da-40bc-89b7-526cc646407f",
   "metadata": {},
   "outputs": [],
   "source": [
    "COLUMNS = ['payment_value', 'payment_installments', 'product_category_name_english', 'product_photos_qty', 'freight_value','price', \n",
    "           'shipping_limit_date', 'seller_state', 'seller_city', 'seller_zip_code_prefix', 'customer_state', 'customer_city', \n",
    "           'customer_zip_code_prefix', 'review_score', 'order_delivered_customer_date', 'order_delivered_carrier_date','order_estimated_delivery_date',\n",
    "           'order_status', 'payment_type', 'seller_id_x']"
   ]
  },
  {
   "cell_type": "code",
   "execution_count": 3,
   "id": "e4d10f92-2a97-4a7d-83b5-d194c2d76397",
   "metadata": {},
   "outputs": [],
   "source": [
    "def get_clean_df():\n",
    "    global COLUMNS\n",
    "    df = pd.read_csv('data/merged.csv', parse_dates=['order_delivered_customer_date','order_estimated_delivery_date', 'order_delivered_carrier_date','shipping_limit_date'])    \n",
    "    df = df[COLUMNS]\n",
    "    return df"
   ]
  },
  {
   "cell_type": "code",
   "execution_count": 4,
   "id": "4ca67e33-103b-4d34-8436-6468511aadc2",
   "metadata": {},
   "outputs": [],
   "source": [
    "df = get_clean_df()"
   ]
  },
  {
   "cell_type": "code",
   "execution_count": 5,
   "id": "4184c321-e18a-450e-9bf2-03fd1200660a",
   "metadata": {},
   "outputs": [
    {
     "name": "stdout",
     "output_type": "stream",
     "text": [
      "<class 'pandas.core.frame.DataFrame'>\n",
      "RangeIndex: 139914 entries, 0 to 139913\n",
      "Data columns (total 20 columns):\n",
      " #   Column                         Non-Null Count   Dtype         \n",
      "---  ------                         --------------   -----         \n",
      " 0   payment_value                  139911 non-null  float64       \n",
      " 1   payment_installments           139911 non-null  float64       \n",
      " 2   product_category_name_english  136910 non-null  object        \n",
      " 3   product_photos_qty             136936 non-null  float64       \n",
      " 4   freight_value                  138907 non-null  float64       \n",
      " 5   price                          138907 non-null  float64       \n",
      " 6   shipping_limit_date            138907 non-null  datetime64[ns]\n",
      " 7   seller_state                   54482 non-null   object        \n",
      " 8   seller_city                    54482 non-null   object        \n",
      " 9   seller_zip_code_prefix         54482 non-null   float64       \n",
      " 10  customer_state                 139914 non-null  object        \n",
      " 11  customer_city                  139914 non-null  object        \n",
      " 12  customer_zip_code_prefix       139914 non-null  int64         \n",
      " 13  review_score                   138787 non-null  float64       \n",
      " 14  order_delivered_customer_date  135908 non-null  datetime64[ns]\n",
      " 15  order_delivered_carrier_date   137445 non-null  datetime64[ns]\n",
      " 16  order_estimated_delivery_date  139914 non-null  datetime64[ns]\n",
      " 17  order_status                   139914 non-null  object        \n",
      " 18  payment_type                   139911 non-null  object        \n",
      " 19  seller_id_x                    54482 non-null   object        \n",
      "dtypes: datetime64[ns](4), float64(7), int64(1), object(8)\n",
      "memory usage: 21.3+ MB\n"
     ]
    }
   ],
   "source": [
    "df.info()"
   ]
  },
  {
   "cell_type": "code",
   "execution_count": 6,
   "id": "e8b1f780-e2df-4bba-92fb-7fb87ba227ba",
   "metadata": {},
   "outputs": [
    {
     "data": {
      "text/html": [
       "<div>\n",
       "<style scoped>\n",
       "    .dataframe tbody tr th:only-of-type {\n",
       "        vertical-align: middle;\n",
       "    }\n",
       "\n",
       "    .dataframe tbody tr th {\n",
       "        vertical-align: top;\n",
       "    }\n",
       "\n",
       "    .dataframe thead th {\n",
       "        text-align: right;\n",
       "    }\n",
       "</style>\n",
       "<table border=\"1\" class=\"dataframe\">\n",
       "  <thead>\n",
       "    <tr style=\"text-align: right;\">\n",
       "      <th></th>\n",
       "      <th>payment_value</th>\n",
       "      <th>payment_installments</th>\n",
       "      <th>product_category_name_english</th>\n",
       "      <th>product_photos_qty</th>\n",
       "      <th>freight_value</th>\n",
       "      <th>price</th>\n",
       "      <th>shipping_limit_date</th>\n",
       "      <th>seller_state</th>\n",
       "      <th>seller_city</th>\n",
       "      <th>seller_zip_code_prefix</th>\n",
       "      <th>customer_state</th>\n",
       "      <th>customer_city</th>\n",
       "      <th>customer_zip_code_prefix</th>\n",
       "      <th>review_score</th>\n",
       "      <th>order_delivered_customer_date</th>\n",
       "      <th>order_delivered_carrier_date</th>\n",
       "      <th>order_estimated_delivery_date</th>\n",
       "      <th>order_status</th>\n",
       "      <th>payment_type</th>\n",
       "      <th>seller_id_x</th>\n",
       "    </tr>\n",
       "  </thead>\n",
       "  <tbody>\n",
       "    <tr>\n",
       "      <th>71386</th>\n",
       "      <td>46.78</td>\n",
       "      <td>1.0</td>\n",
       "      <td>computers_accessories</td>\n",
       "      <td>3.0</td>\n",
       "      <td>7.78</td>\n",
       "      <td>39.00</td>\n",
       "      <td>2018-01-11 19:57:19</td>\n",
       "      <td>NaN</td>\n",
       "      <td>NaN</td>\n",
       "      <td>NaN</td>\n",
       "      <td>SP</td>\n",
       "      <td>campinas</td>\n",
       "      <td>13061</td>\n",
       "      <td>5.0</td>\n",
       "      <td>2018-01-17 18:32:20</td>\n",
       "      <td>2018-01-08 16:30:07</td>\n",
       "      <td>2018-01-24</td>\n",
       "      <td>delivered</td>\n",
       "      <td>credit_card</td>\n",
       "      <td>NaN</td>\n",
       "    </tr>\n",
       "    <tr>\n",
       "      <th>122913</th>\n",
       "      <td>53.71</td>\n",
       "      <td>1.0</td>\n",
       "      <td>computers_accessories</td>\n",
       "      <td>1.0</td>\n",
       "      <td>8.72</td>\n",
       "      <td>44.99</td>\n",
       "      <td>2017-05-25 04:15:21</td>\n",
       "      <td>NaN</td>\n",
       "      <td>NaN</td>\n",
       "      <td>NaN</td>\n",
       "      <td>SP</td>\n",
       "      <td>itu</td>\n",
       "      <td>13309</td>\n",
       "      <td>5.0</td>\n",
       "      <td>2017-05-24 10:19:30</td>\n",
       "      <td>2017-05-22 12:57:06</td>\n",
       "      <td>2017-06-02</td>\n",
       "      <td>delivered</td>\n",
       "      <td>boleto</td>\n",
       "      <td>NaN</td>\n",
       "    </tr>\n",
       "    <tr>\n",
       "      <th>67723</th>\n",
       "      <td>114.86</td>\n",
       "      <td>1.0</td>\n",
       "      <td>bed_bath_table</td>\n",
       "      <td>1.0</td>\n",
       "      <td>19.86</td>\n",
       "      <td>95.00</td>\n",
       "      <td>2018-06-21 03:36:56</td>\n",
       "      <td>MG</td>\n",
       "      <td>juiz de fora</td>\n",
       "      <td>36015.0</td>\n",
       "      <td>MG</td>\n",
       "      <td>juiz de fora</td>\n",
       "      <td>36015</td>\n",
       "      <td>5.0</td>\n",
       "      <td>2018-06-26 19:44:26</td>\n",
       "      <td>2018-06-19 14:26:00</td>\n",
       "      <td>2018-07-16</td>\n",
       "      <td>delivered</td>\n",
       "      <td>boleto</td>\n",
       "      <td>2b2fed75b8e5ea3a052fc4c0825da485</td>\n",
       "    </tr>\n",
       "    <tr>\n",
       "      <th>87483</th>\n",
       "      <td>369.65</td>\n",
       "      <td>4.0</td>\n",
       "      <td>furniture_decor</td>\n",
       "      <td>1.0</td>\n",
       "      <td>0.03</td>\n",
       "      <td>35.00</td>\n",
       "      <td>2018-04-26 18:31:03</td>\n",
       "      <td>SP</td>\n",
       "      <td>franca</td>\n",
       "      <td>14405.0</td>\n",
       "      <td>SP</td>\n",
       "      <td>franca</td>\n",
       "      <td>14405</td>\n",
       "      <td>1.0</td>\n",
       "      <td>2018-04-26 19:48:45</td>\n",
       "      <td>2018-04-23 19:31:49</td>\n",
       "      <td>2018-05-16</td>\n",
       "      <td>delivered</td>\n",
       "      <td>credit_card</td>\n",
       "      <td>002100f778ceb8431b7a1020ff7ab48f</td>\n",
       "    </tr>\n",
       "    <tr>\n",
       "      <th>6860</th>\n",
       "      <td>141.97</td>\n",
       "      <td>1.0</td>\n",
       "      <td>housewares</td>\n",
       "      <td>2.0</td>\n",
       "      <td>46.97</td>\n",
       "      <td>95.00</td>\n",
       "      <td>2018-08-19 22:45:11</td>\n",
       "      <td>SP</td>\n",
       "      <td>limeira</td>\n",
       "      <td>13481.0</td>\n",
       "      <td>SP</td>\n",
       "      <td>limeira</td>\n",
       "      <td>13481</td>\n",
       "      <td>5.0</td>\n",
       "      <td>2018-08-20 18:07:04</td>\n",
       "      <td>2018-08-15 08:11:00</td>\n",
       "      <td>2018-08-29</td>\n",
       "      <td>delivered</td>\n",
       "      <td>debit_card</td>\n",
       "      <td>b499c00f28f4b7069ff6550af8c1348a</td>\n",
       "    </tr>\n",
       "    <tr>\n",
       "      <th>39303</th>\n",
       "      <td>92.57</td>\n",
       "      <td>4.0</td>\n",
       "      <td>stationery</td>\n",
       "      <td>2.0</td>\n",
       "      <td>13.57</td>\n",
       "      <td>79.00</td>\n",
       "      <td>2018-01-10 08:31:55</td>\n",
       "      <td>SP</td>\n",
       "      <td>sao jose dos campos</td>\n",
       "      <td>12233.0</td>\n",
       "      <td>SP</td>\n",
       "      <td>sao jose dos campos</td>\n",
       "      <td>12233</td>\n",
       "      <td>3.0</td>\n",
       "      <td>2018-01-13 01:27:54</td>\n",
       "      <td>2018-01-08 11:42:27</td>\n",
       "      <td>2018-01-29</td>\n",
       "      <td>delivered</td>\n",
       "      <td>credit_card</td>\n",
       "      <td>8e6d7754bc7e0f22c96d255ebda59eba</td>\n",
       "    </tr>\n",
       "    <tr>\n",
       "      <th>102669</th>\n",
       "      <td>206.44</td>\n",
       "      <td>5.0</td>\n",
       "      <td>health_beauty</td>\n",
       "      <td>2.0</td>\n",
       "      <td>16.54</td>\n",
       "      <td>189.90</td>\n",
       "      <td>2017-02-11 23:17:55</td>\n",
       "      <td>NaN</td>\n",
       "      <td>NaN</td>\n",
       "      <td>NaN</td>\n",
       "      <td>PR</td>\n",
       "      <td>santa mariana</td>\n",
       "      <td>86350</td>\n",
       "      <td>5.0</td>\n",
       "      <td>2017-02-15 09:32:18</td>\n",
       "      <td>2017-02-08 05:34:59</td>\n",
       "      <td>2017-03-17</td>\n",
       "      <td>delivered</td>\n",
       "      <td>credit_card</td>\n",
       "      <td>NaN</td>\n",
       "    </tr>\n",
       "    <tr>\n",
       "      <th>115201</th>\n",
       "      <td>38.23</td>\n",
       "      <td>1.0</td>\n",
       "      <td>telephony</td>\n",
       "      <td>2.0</td>\n",
       "      <td>18.24</td>\n",
       "      <td>19.99</td>\n",
       "      <td>2018-08-24 13:30:40</td>\n",
       "      <td>NaN</td>\n",
       "      <td>NaN</td>\n",
       "      <td>NaN</td>\n",
       "      <td>RJ</td>\n",
       "      <td>petropolis</td>\n",
       "      <td>25660</td>\n",
       "      <td>4.0</td>\n",
       "      <td>2018-08-27 20:54:41</td>\n",
       "      <td>2018-08-22 11:16:00</td>\n",
       "      <td>2018-09-28</td>\n",
       "      <td>delivered</td>\n",
       "      <td>credit_card</td>\n",
       "      <td>NaN</td>\n",
       "    </tr>\n",
       "    <tr>\n",
       "      <th>71481</th>\n",
       "      <td>138.62</td>\n",
       "      <td>3.0</td>\n",
       "      <td>health_beauty</td>\n",
       "      <td>1.0</td>\n",
       "      <td>18.72</td>\n",
       "      <td>119.90</td>\n",
       "      <td>2018-06-15 16:21:13</td>\n",
       "      <td>NaN</td>\n",
       "      <td>NaN</td>\n",
       "      <td>NaN</td>\n",
       "      <td>SP</td>\n",
       "      <td>sao paulo</td>\n",
       "      <td>2017</td>\n",
       "      <td>5.0</td>\n",
       "      <td>2018-06-15 16:46:49</td>\n",
       "      <td>2018-06-08 13:06:00</td>\n",
       "      <td>2018-07-04</td>\n",
       "      <td>delivered</td>\n",
       "      <td>credit_card</td>\n",
       "      <td>NaN</td>\n",
       "    </tr>\n",
       "    <tr>\n",
       "      <th>14066</th>\n",
       "      <td>24.42</td>\n",
       "      <td>2.0</td>\n",
       "      <td>furniture_decor</td>\n",
       "      <td>3.0</td>\n",
       "      <td>14.52</td>\n",
       "      <td>9.90</td>\n",
       "      <td>2017-04-27 12:10:32</td>\n",
       "      <td>SP</td>\n",
       "      <td>sao paulo</td>\n",
       "      <td>3237.0</td>\n",
       "      <td>SP</td>\n",
       "      <td>sao paulo</td>\n",
       "      <td>3237</td>\n",
       "      <td>1.0</td>\n",
       "      <td>NaT</td>\n",
       "      <td>NaT</td>\n",
       "      <td>2017-05-15</td>\n",
       "      <td>canceled</td>\n",
       "      <td>credit_card</td>\n",
       "      <td>b76dba6c951ab00dc4edf0a1aa88037e</td>\n",
       "    </tr>\n",
       "  </tbody>\n",
       "</table>\n",
       "</div>"
      ],
      "text/plain": [
       "        payment_value  payment_installments product_category_name_english  \\\n",
       "71386           46.78                   1.0         computers_accessories   \n",
       "122913          53.71                   1.0         computers_accessories   \n",
       "67723          114.86                   1.0                bed_bath_table   \n",
       "87483          369.65                   4.0               furniture_decor   \n",
       "6860           141.97                   1.0                    housewares   \n",
       "39303           92.57                   4.0                    stationery   \n",
       "102669         206.44                   5.0                 health_beauty   \n",
       "115201          38.23                   1.0                     telephony   \n",
       "71481          138.62                   3.0                 health_beauty   \n",
       "14066           24.42                   2.0               furniture_decor   \n",
       "\n",
       "        product_photos_qty  freight_value   price shipping_limit_date  \\\n",
       "71386                  3.0           7.78   39.00 2018-01-11 19:57:19   \n",
       "122913                 1.0           8.72   44.99 2017-05-25 04:15:21   \n",
       "67723                  1.0          19.86   95.00 2018-06-21 03:36:56   \n",
       "87483                  1.0           0.03   35.00 2018-04-26 18:31:03   \n",
       "6860                   2.0          46.97   95.00 2018-08-19 22:45:11   \n",
       "39303                  2.0          13.57   79.00 2018-01-10 08:31:55   \n",
       "102669                 2.0          16.54  189.90 2017-02-11 23:17:55   \n",
       "115201                 2.0          18.24   19.99 2018-08-24 13:30:40   \n",
       "71481                  1.0          18.72  119.90 2018-06-15 16:21:13   \n",
       "14066                  3.0          14.52    9.90 2017-04-27 12:10:32   \n",
       "\n",
       "       seller_state          seller_city  seller_zip_code_prefix  \\\n",
       "71386           NaN                  NaN                     NaN   \n",
       "122913          NaN                  NaN                     NaN   \n",
       "67723            MG         juiz de fora                 36015.0   \n",
       "87483            SP               franca                 14405.0   \n",
       "6860             SP              limeira                 13481.0   \n",
       "39303            SP  sao jose dos campos                 12233.0   \n",
       "102669          NaN                  NaN                     NaN   \n",
       "115201          NaN                  NaN                     NaN   \n",
       "71481           NaN                  NaN                     NaN   \n",
       "14066            SP            sao paulo                  3237.0   \n",
       "\n",
       "       customer_state        customer_city  customer_zip_code_prefix  \\\n",
       "71386              SP             campinas                     13061   \n",
       "122913             SP                  itu                     13309   \n",
       "67723              MG         juiz de fora                     36015   \n",
       "87483              SP               franca                     14405   \n",
       "6860               SP              limeira                     13481   \n",
       "39303              SP  sao jose dos campos                     12233   \n",
       "102669             PR        santa mariana                     86350   \n",
       "115201             RJ           petropolis                     25660   \n",
       "71481              SP            sao paulo                      2017   \n",
       "14066              SP            sao paulo                      3237   \n",
       "\n",
       "        review_score order_delivered_customer_date  \\\n",
       "71386            5.0           2018-01-17 18:32:20   \n",
       "122913           5.0           2017-05-24 10:19:30   \n",
       "67723            5.0           2018-06-26 19:44:26   \n",
       "87483            1.0           2018-04-26 19:48:45   \n",
       "6860             5.0           2018-08-20 18:07:04   \n",
       "39303            3.0           2018-01-13 01:27:54   \n",
       "102669           5.0           2017-02-15 09:32:18   \n",
       "115201           4.0           2018-08-27 20:54:41   \n",
       "71481            5.0           2018-06-15 16:46:49   \n",
       "14066            1.0                           NaT   \n",
       "\n",
       "       order_delivered_carrier_date order_estimated_delivery_date  \\\n",
       "71386           2018-01-08 16:30:07                    2018-01-24   \n",
       "122913          2017-05-22 12:57:06                    2017-06-02   \n",
       "67723           2018-06-19 14:26:00                    2018-07-16   \n",
       "87483           2018-04-23 19:31:49                    2018-05-16   \n",
       "6860            2018-08-15 08:11:00                    2018-08-29   \n",
       "39303           2018-01-08 11:42:27                    2018-01-29   \n",
       "102669          2017-02-08 05:34:59                    2017-03-17   \n",
       "115201          2018-08-22 11:16:00                    2018-09-28   \n",
       "71481           2018-06-08 13:06:00                    2018-07-04   \n",
       "14066                           NaT                    2017-05-15   \n",
       "\n",
       "       order_status payment_type                       seller_id_x  \n",
       "71386     delivered  credit_card                               NaN  \n",
       "122913    delivered       boleto                               NaN  \n",
       "67723     delivered       boleto  2b2fed75b8e5ea3a052fc4c0825da485  \n",
       "87483     delivered  credit_card  002100f778ceb8431b7a1020ff7ab48f  \n",
       "6860      delivered   debit_card  b499c00f28f4b7069ff6550af8c1348a  \n",
       "39303     delivered  credit_card  8e6d7754bc7e0f22c96d255ebda59eba  \n",
       "102669    delivered  credit_card                               NaN  \n",
       "115201    delivered  credit_card                               NaN  \n",
       "71481     delivered  credit_card                               NaN  \n",
       "14066      canceled  credit_card  b76dba6c951ab00dc4edf0a1aa88037e  "
      ]
     },
     "execution_count": 6,
     "metadata": {},
     "output_type": "execute_result"
    }
   ],
   "source": [
    "df.sample(10)"
   ]
  },
  {
   "cell_type": "markdown",
   "id": "8b59eb11-d617-44cc-a71a-d430b8965283",
   "metadata": {},
   "source": [
    "#### Percentage of missing values"
   ]
  },
  {
   "cell_type": "code",
   "execution_count": 7,
   "id": "bafd67d1-936f-47b0-86a2-ac7fc78a2ad4",
   "metadata": {},
   "outputs": [
    {
     "name": "stdout",
     "output_type": "stream",
     "text": [
      "payment_value                     0.00\n",
      "payment_installments              0.00\n",
      "product_category_name_english     2.15\n",
      "product_photos_qty                2.13\n",
      "freight_value                     0.72\n",
      "price                             0.72\n",
      "shipping_limit_date               0.72\n",
      "seller_state                     61.06\n",
      "seller_city                      61.06\n",
      "seller_zip_code_prefix           61.06\n",
      "customer_state                    0.00\n",
      "customer_city                     0.00\n",
      "customer_zip_code_prefix          0.00\n",
      "review_score                      0.81\n",
      "order_delivered_customer_date     2.86\n",
      "order_delivered_carrier_date      1.76\n",
      "order_estimated_delivery_date     0.00\n",
      "order_status                      0.00\n",
      "payment_type                      0.00\n",
      "seller_id_x                      61.06\n",
      "dtype: float64\n"
     ]
    }
   ],
   "source": [
    "def get_missing_as_percentage():\n",
    "    global df\n",
    "    print(np.round(df.isna().sum() / len(df) * 100, 2))\n",
    "\n",
    "get_missing_as_percentage()"
   ]
  },
  {
   "cell_type": "code",
   "execution_count": 8,
   "id": "02fb71aa-1ac4-4890-88f1-6fef23fa98db",
   "metadata": {},
   "outputs": [
    {
     "data": {
      "text/html": [
       "<div>\n",
       "<style scoped>\n",
       "    .dataframe tbody tr th:only-of-type {\n",
       "        vertical-align: middle;\n",
       "    }\n",
       "\n",
       "    .dataframe tbody tr th {\n",
       "        vertical-align: top;\n",
       "    }\n",
       "\n",
       "    .dataframe thead th {\n",
       "        text-align: right;\n",
       "    }\n",
       "</style>\n",
       "<table border=\"1\" class=\"dataframe\">\n",
       "  <thead>\n",
       "    <tr style=\"text-align: right;\">\n",
       "      <th></th>\n",
       "      <th>payment_value</th>\n",
       "      <th>review_score</th>\n",
       "    </tr>\n",
       "    <tr>\n",
       "      <th>payment_type</th>\n",
       "      <th></th>\n",
       "      <th></th>\n",
       "    </tr>\n",
       "  </thead>\n",
       "  <tbody>\n",
       "    <tr>\n",
       "      <th>boleto</th>\n",
       "      <td>182.855558</td>\n",
       "      <td>4.001275</td>\n",
       "    </tr>\n",
       "    <tr>\n",
       "      <th>credit_card</th>\n",
       "      <td>180.591413</td>\n",
       "      <td>4.028949</td>\n",
       "    </tr>\n",
       "    <tr>\n",
       "      <th>debit_card</th>\n",
       "      <td>163.685835</td>\n",
       "      <td>4.162744</td>\n",
       "    </tr>\n",
       "    <tr>\n",
       "      <th>not_defined</th>\n",
       "      <td>0.000000</td>\n",
       "      <td>1.666667</td>\n",
       "    </tr>\n",
       "    <tr>\n",
       "      <th>voucher</th>\n",
       "      <td>66.558385</td>\n",
       "      <td>3.951216</td>\n",
       "    </tr>\n",
       "  </tbody>\n",
       "</table>\n",
       "</div>"
      ],
      "text/plain": [
       "              payment_value  review_score\n",
       "payment_type                             \n",
       "boleto           182.855558      4.001275\n",
       "credit_card      180.591413      4.028949\n",
       "debit_card       163.685835      4.162744\n",
       "not_defined        0.000000      1.666667\n",
       "voucher           66.558385      3.951216"
      ]
     },
     "execution_count": 8,
     "metadata": {},
     "output_type": "execute_result"
    }
   ],
   "source": [
    "df.groupby('payment_type').agg({'payment_value':'mean', 'review_score':'mean'})"
   ]
  },
  {
   "cell_type": "markdown",
   "id": "2c5fa728-c331-44d8-b362-1f5ed71176cc",
   "metadata": {},
   "source": [
    "# 2. Data extraction"
   ]
  },
  {
   "cell_type": "code",
   "execution_count": 9,
   "id": "da06a943-de5d-4868-b967-b4c8bdeda495",
   "metadata": {},
   "outputs": [],
   "source": [
    "df['date_order_delivered_dateonly'] = df['order_delivered_customer_date'].dt.date"
   ]
  },
  {
   "cell_type": "code",
   "execution_count": 10,
   "id": "0eddc689-0887-43c1-9180-fe1c7661e415",
   "metadata": {},
   "outputs": [],
   "source": [
    "df = df.drop('order_delivered_customer_date', axis=1)"
   ]
  },
  {
   "cell_type": "markdown",
   "id": "4139b963-9dcd-4d9d-b7e3-bf0847cd7ecf",
   "metadata": {},
   "source": [
    "# 3. Data cleaning process"
   ]
  },
  {
   "cell_type": "code",
   "execution_count": 11,
   "id": "5c4c7f61-825a-4f31-ae08-49476c16a2ab",
   "metadata": {},
   "outputs": [
    {
     "data": {
      "text/plain": [
       "<AxesSubplot:>"
      ]
     },
     "execution_count": 11,
     "metadata": {},
     "output_type": "execute_result"
    },
    {
     "data": {
      "image/png": "[encoded data removed]",
      "text/plain": [
       "<Figure size 1728x720 with 3 Axes>"
      ]
     },
     "metadata": {
      "needs_background": "light"
     },
     "output_type": "display_data"
    }
   ],
   "source": [
    "msno.bar(df)"
   ]
  },
  {
   "cell_type": "markdown",
   "id": "cb2c47e5-e416-4351-bdaf-059db8ae7e5c",
   "metadata": {},
   "source": [
    "#### As we can see, most of our missing date comes from the three columns - seller_state, seller_city, seller_zip_code_prefix.\n",
    "\n",
    "#### What's more interesting is the fact, that the same percentage of values is mising for those features. This indicates, that if one value is missing the others are missing as well. Here is a proof:"
   ]
  },
  {
   "cell_type": "code",
   "execution_count": 12,
   "id": "0fdaffc4-4df2-4122-8764-2f3a05766859",
   "metadata": {},
   "outputs": [
    {
     "data": {
      "text/html": [
       "<div>\n",
       "<style scoped>\n",
       "    .dataframe tbody tr th:only-of-type {\n",
       "        vertical-align: middle;\n",
       "    }\n",
       "\n",
       "    .dataframe tbody tr th {\n",
       "        vertical-align: top;\n",
       "    }\n",
       "\n",
       "    .dataframe thead th {\n",
       "        text-align: right;\n",
       "    }\n",
       "</style>\n",
       "<table border=\"1\" class=\"dataframe\">\n",
       "  <thead>\n",
       "    <tr style=\"text-align: right;\">\n",
       "      <th></th>\n",
       "      <th>seller_city</th>\n",
       "      <th>seller_zip_code_prefix</th>\n",
       "    </tr>\n",
       "    <tr>\n",
       "      <th>seller_state</th>\n",
       "      <th></th>\n",
       "      <th></th>\n",
       "    </tr>\n",
       "  </thead>\n",
       "  <tbody>\n",
       "    <tr>\n",
       "      <th>False</th>\n",
       "      <td>0</td>\n",
       "      <td>0</td>\n",
       "    </tr>\n",
       "    <tr>\n",
       "      <th>True</th>\n",
       "      <td>85432</td>\n",
       "      <td>85432</td>\n",
       "    </tr>\n",
       "  </tbody>\n",
       "</table>\n",
       "</div>"
      ],
      "text/plain": [
       "              seller_city  seller_zip_code_prefix\n",
       "seller_state                                     \n",
       "False                   0                       0\n",
       "True                85432                   85432"
      ]
     },
     "execution_count": 12,
     "metadata": {},
     "output_type": "execute_result"
    }
   ],
   "source": [
    "df[['seller_state', 'seller_city', 'seller_zip_code_prefix']].isna().groupby('seller_state').sum()"
   ]
  },
  {
   "cell_type": "markdown",
   "id": "63eaaf1d-d9e4-4006-8f3e-c772588eac18",
   "metadata": {},
   "source": [
    "#### We are going to fill these values with _Not shared_"
   ]
  },
  {
   "cell_type": "code",
   "execution_count": 13,
   "id": "c4ee6682-783d-4122-a7e5-383629f055dd",
   "metadata": {},
   "outputs": [],
   "source": [
    "df[['seller_city', 'seller_state', 'seller_zip_code_prefix']] = df[['seller_city', 'seller_state', 'seller_zip_code_prefix']].fillna('Not shared')"
   ]
  },
  {
   "cell_type": "code",
   "execution_count": 14,
   "id": "bbf8a4c0-da62-48ae-9fe6-a1b836c8b1b2",
   "metadata": {},
   "outputs": [
    {
     "name": "stdout",
     "output_type": "stream",
     "text": [
      "payment_value                     0.00\n",
      "payment_installments              0.00\n",
      "product_category_name_english     2.15\n",
      "product_photos_qty                2.13\n",
      "freight_value                     0.72\n",
      "price                             0.72\n",
      "shipping_limit_date               0.72\n",
      "seller_state                      0.00\n",
      "seller_city                       0.00\n",
      "seller_zip_code_prefix            0.00\n",
      "customer_state                    0.00\n",
      "customer_city                     0.00\n",
      "customer_zip_code_prefix          0.00\n",
      "review_score                      0.81\n",
      "order_delivered_carrier_date      1.76\n",
      "order_estimated_delivery_date     0.00\n",
      "order_status                      0.00\n",
      "payment_type                      0.00\n",
      "seller_id_x                      61.06\n",
      "date_order_delivered_dateonly     2.86\n",
      "dtype: float64\n"
     ]
    }
   ],
   "source": [
    "get_missing_as_percentage()"
   ]
  },
  {
   "cell_type": "markdown",
   "id": "b410477b-a93f-4162-949f-b596696a64f8",
   "metadata": {},
   "source": [
    "#### We are going to fill missing values in photos quantity as a mean count of photos per category"
   ]
  },
  {
   "cell_type": "code",
   "execution_count": 15,
   "id": "c941e9a0-369a-4335-8129-b28da3b07b5d",
   "metadata": {},
   "outputs": [],
   "source": [
    "df['product_category_name_english'] = df['product_category_name_english'].fillna('Unknown')"
   ]
  },
  {
   "cell_type": "code",
   "execution_count": 16,
   "id": "b47dfb65-b5f9-4e87-a2f5-0d91333e5aea",
   "metadata": {},
   "outputs": [],
   "source": [
    "product_photoQty_dict = np.round(df.groupby('product_category_name_english').agg('mean')['product_photos_qty'])\n",
    "df['product_photos_qty'] = df['product_photos_qty'].fillna(df['product_category_name_english'].apply(lambda x: product_photoQty_dict[x]))"
   ]
  },
  {
   "cell_type": "code",
   "execution_count": 17,
   "id": "c401f80b-7be2-4e2b-b837-a9551f06b06b",
   "metadata": {},
   "outputs": [
    {
     "data": {
      "text/plain": [
       "delivered      135914\n",
       "shipped          1439\n",
       "canceled          899\n",
       "unavailable       775\n",
       "invoiced          444\n",
       "processing        433\n",
       "created             5\n",
       "approved            5\n",
       "Name: order_status, dtype: int64"
      ]
     },
     "execution_count": 17,
     "metadata": {},
     "output_type": "execute_result"
    }
   ],
   "source": [
    "df['order_status'].value_counts()"
   ]
  },
  {
   "cell_type": "code",
   "execution_count": 18,
   "id": "f602833b-ba86-462f-a16c-36933fa33268",
   "metadata": {},
   "outputs": [],
   "source": [
    "df['category'] = df.product_category_name_english\n",
    "df = df.drop('product_category_name_english',axis=1)"
   ]
  },
  {
   "cell_type": "markdown",
   "id": "823768d8-3a45-40ce-b1c4-e2c52f4d5e1d",
   "metadata": {},
   "source": [
    "#### Filling freight value based on its mean in the category"
   ]
  },
  {
   "cell_type": "code",
   "execution_count": 19,
   "id": "e80aed6a-e2c5-41fe-8516-c8a253d06163",
   "metadata": {},
   "outputs": [],
   "source": [
    "freight_per_category = np.round(df.groupby('category').mean()['freight_value'], 2)\n",
    "df['freight_value'] = df['freight_value'].fillna(df['category'].apply(lambda x: freight_per_category[x]))"
   ]
  },
  {
   "cell_type": "code",
   "execution_count": 20,
   "id": "a977246b-fd6e-4d50-add4-4672b2bd006d",
   "metadata": {},
   "outputs": [],
   "source": [
    "df = df.drop('order_delivered_carrier_date', axis = 1)\n",
    "df = df.drop('date_order_delivered_dateonly', axis = 1)"
   ]
  },
  {
   "cell_type": "markdown",
   "id": "2ff24149-5d8a-4432-953f-9e4b88a9cafa",
   "metadata": {},
   "source": [
    "#### If a review is missing, we are simply going to fill in those values with a mean review of a seller."
   ]
  },
  {
   "cell_type": "code",
   "execution_count": 21,
   "id": "f1ddddfa-32f6-4cf4-9cfc-b5a221082872",
   "metadata": {},
   "outputs": [],
   "source": [
    "df['seller_id'] = df['seller_id_x']\n",
    "df = df.drop('seller_id_x', axis=1)\n",
    "df['seller_id'] = df['seller_id'].fillna('Unidentified')"
   ]
  },
  {
   "cell_type": "code",
   "execution_count": 22,
   "id": "98000681-0840-4282-a67c-6beb4f4bcc89",
   "metadata": {},
   "outputs": [],
   "source": [
    "seller_mean_review_score = np.round(df.groupby('seller_id').mean()['review_score'])"
   ]
  },
  {
   "cell_type": "code",
   "execution_count": 23,
   "id": "b8b21194-3b3f-43b6-b443-429c1fc5ecd7",
   "metadata": {},
   "outputs": [],
   "source": [
    "df['review_score'] = df['review_score'].fillna(df['seller_id'].apply(lambda x: seller_mean_review_score[x]))"
   ]
  },
  {
   "cell_type": "code",
   "execution_count": 24,
   "id": "bad3cf25-3aab-4182-b691-ba31c28116a4",
   "metadata": {},
   "outputs": [],
   "source": [
    "df['review_scire'] = np.round(df['review_score'])"
   ]
  },
  {
   "cell_type": "markdown",
   "id": "7b728d53-a789-42db-897f-7e9e5f37a122",
   "metadata": {},
   "source": [
    "#### Shipping limit date has no impact on our analysis, so we are going to drop it."
   ]
  },
  {
   "cell_type": "code",
   "execution_count": 25,
   "id": "83a8f703-8db4-474d-80d4-b2fce6b134c9",
   "metadata": {},
   "outputs": [],
   "source": [
    "df = df.drop('shipping_limit_date', axis=1)"
   ]
  },
  {
   "cell_type": "markdown",
   "id": "b6d6d1bd-d30c-472b-b1ab-cded8832f365",
   "metadata": {},
   "source": [
    "#### We are going to fill in missing 'price' values with the price the customers paid."
   ]
  },
  {
   "cell_type": "code",
   "execution_count": 26,
   "id": "2a8bf5f6-f444-4297-9e72-e8157aa643b1",
   "metadata": {},
   "outputs": [],
   "source": [
    "df['price'] = df['price'].fillna(df['payment_value'])"
   ]
  },
  {
   "cell_type": "code",
   "execution_count": 27,
   "id": "4e9442e1-0687-4dba-86f4-f41cab6d1021",
   "metadata": {},
   "outputs": [
    {
     "name": "stdout",
     "output_type": "stream",
     "text": [
      "payment_value                    0.0\n",
      "payment_installments             0.0\n",
      "product_photos_qty               0.0\n",
      "freight_value                    0.0\n",
      "price                            0.0\n",
      "seller_state                     0.0\n",
      "seller_city                      0.0\n",
      "seller_zip_code_prefix           0.0\n",
      "customer_state                   0.0\n",
      "customer_city                    0.0\n",
      "customer_zip_code_prefix         0.0\n",
      "review_score                     0.0\n",
      "order_estimated_delivery_date    0.0\n",
      "order_status                     0.0\n",
      "payment_type                     0.0\n",
      "category                         0.0\n",
      "seller_id                        0.0\n",
      "review_scire                     0.0\n",
      "dtype: float64\n"
     ]
    }
   ],
   "source": [
    "get_missing_as_percentage()"
   ]
  },
  {
   "cell_type": "markdown",
   "id": "52720925-9fb9-455c-8d4c-b0035c5cdaf2",
   "metadata": {},
   "source": [
    "#### As we round up to two decimal places, it is acceptable for us to drop the rest of missing data."
   ]
  },
  {
   "cell_type": "code",
   "execution_count": 28,
   "id": "1af957af-8cba-4bea-9b07-971bfab6b399",
   "metadata": {},
   "outputs": [],
   "source": [
    "df = df.dropna(axis=0)"
   ]
  },
  {
   "cell_type": "code",
   "execution_count": 29,
   "id": "51ce7615-4af0-4559-b9fe-b19d4f87ba15",
   "metadata": {},
   "outputs": [],
   "source": [
    "df.to_csv('data/cleaned.csv')"
   ]
  },
  {
   "cell_type": "markdown",
   "id": "c57d5b30-a9a4-4d96-bef9-0f1320d5d1e0",
   "metadata": {},
   "source": [
    "## The analysis will be continued in _3\\_Analysis.ipynb_"
   ]
  }
 ],
 "metadata": {
  "kernelspec": {
   "display_name": "Python 3 (ipykernel)",
   "language": "python",
   "name": "python3"
  },
  "language_info": {
   "codemirror_mode": {
    "name": "ipython",
    "version": 3
   },
   "file_extension": ".py",
   "mimetype": "text/x-python",
   "name": "python",
   "nbconvert_exporter": "python",
   "pygments_lexer": "ipython3",
   "version": "3.9.12"
  }
 },
 "nbformat": 4,
 "nbformat_minor": 5
}
