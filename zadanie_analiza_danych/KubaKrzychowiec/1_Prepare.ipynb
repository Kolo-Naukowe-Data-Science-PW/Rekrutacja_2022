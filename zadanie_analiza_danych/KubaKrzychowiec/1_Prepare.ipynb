{
 "cells": [
  {
   "cell_type": "markdown",
   "id": "12b0dece-9168-4c3e-bb31-8c8d1436296e",
   "metadata": {},
   "source": [
    "# Preparation of the data and introduction to the dataset"
   ]
  },
  {
   "cell_type": "markdown",
   "id": "aa174ddf-aef7-48a2-9564-dfdaec0fd15e",
   "metadata": {},
   "source": [
    "# Table of contents\n",
    "\n",
    "- [1. Introduction](#1.-Introduction-to-the-dataset)\n",
    "- [2. Importing the data](#1.-Introduction-to-the-dataset)\n",
    "- [3. Basic information on the dataset](#1.-Introduction-to-the-dataset)\n",
    "- [4. Report on the dataset](#1.-Introduction-to-the-dataset)\n",
    "- [5. Questions on the dataset](#1.-Questions-on-the-dataset-)"
   ]
  },
  {
   "cell_type": "markdown",
   "id": "264be24c-58d2-46f7-9d33-ba5b3521de35",
   "metadata": {},
   "source": [
    "# 1. Introduction to the dataset"
   ]
  },
  {
   "cell_type": "code",
   "execution_count": null,
   "id": "5fec0a23-63b4-41f2-a117-34c549836a05",
   "metadata": {},
   "outputs": [],
   "source": [
    "# 2. Introduction to the dataset"
   ]
  },
  {
   "cell_type": "code",
   "execution_count": null,
   "id": "0a435d8a-33f2-4429-8a58-2a52cb171c28",
   "metadata": {},
   "outputs": [],
   "source": [
    "# 3. Introduction to the dataset"
   ]
  },
  {
   "cell_type": "code",
   "execution_count": null,
   "id": "e05d4cf3-5f10-4ada-8eab-ce819c825daf",
   "metadata": {},
   "outputs": [],
   "source": [
    "# 4. Introduction to the dataset"
   ]
  }
 ],
 "metadata": {
  "kernelspec": {
   "display_name": "Python 3 (ipykernel)",
   "language": "python",
   "name": "python3"
  },
  "language_info": {
   "codemirror_mode": {
    "name": "ipython",
    "version": 3
   },
   "file_extension": ".py",
   "mimetype": "text/x-python",
   "name": "python",
   "nbconvert_exporter": "python",
   "pygments_lexer": "ipython3",
   "version": "3.9.12"
  }
 },
 "nbformat": 4,
 "nbformat_minor": 5
}
