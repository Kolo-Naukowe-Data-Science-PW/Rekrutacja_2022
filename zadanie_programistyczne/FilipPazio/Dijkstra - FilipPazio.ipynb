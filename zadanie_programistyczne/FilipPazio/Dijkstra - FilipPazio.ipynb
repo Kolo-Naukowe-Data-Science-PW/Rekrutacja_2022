{
  "nbformat": 4,
  "nbformat_minor": 0,
  "metadata": {
    "colab": {
      "provenance": [],
      "collapsed_sections": []
    },
    "kernelspec": {
      "name": "python3",
      "display_name": "Python 3"
    },
    "language_info": {
      "name": "python"
    }
  },
  "cells": [
    {
      "cell_type": "markdown",
      "source": [
        "# Rekrutacja - Koło Naukowe Data Science PW - Filip Pazio"
      ],
      "metadata": {
        "id": "Fdc8INcxbAp9"
      }
    },
    {
      "cell_type": "markdown",
      "source": [
        "## Opis projektu\n",
        "\n",
        "Celem projektu jest zaimplementowanie algorytmu na znajdowanie najkrótszej ścieżki w grafie. W tej pracy skorzystam z algorytmu Dijkstry oraz porównam moją implementację algorytmu z już istniejącą."
      ],
      "metadata": {
        "id": "sMjmdB_s6IPA"
      }
    },
    {
      "cell_type": "markdown",
      "source": [
        "\n",
        "W projekcie będe zakładał, że rozpatrywane grafy są spójne i nieskierowane."
      ],
      "metadata": {
        "id": "7BVjpzD-fT2Q"
      }
    },
    {
      "cell_type": "markdown",
      "source": [
        "## Algorytm Dijkstry\n",
        "\n",
        "\n",
        "*   Tworzymy pusty graf będący drzewem, w którym każda ścieżka, wychodząca z wierzchołka uznawawnego za źródło, będzie najkrótszą ścieżką łączącą jej końcowy wierzchołek ze źródłem. Dodajemy do tego grafu źródło.\n",
        "*   Przypisujemy źródłu odległość równą 0, wierzchołkom sąsiadującym ze źródłem przypisujemy odległości równe wagom krawędzi łączących je ze źródłem, a pozostałym wierzchołkom przypisujemy odległość nieskończoną.\n",
        "*   Wybieramy nienależący do drzewa wierzchołek o najmniejszej odległości odległości od źródła. Dodajemy go dodrzewa i sprawdzamy czy nie prowadzi przez niego krótsza ścieżka do jednego z wierzchołków z nim sąsiadujących. Jeśli tak, to aktualizujemy odległość tego wierzchołka.\n",
        "*   Powtarzamy ostatni krok do momentu, gdy do drzewa będą należeć wszystkie wierzchołki grafu.\n",
        "\n",
        "\n"
      ],
      "metadata": {
        "id": "4rsm6eOOshuV"
      }
    },
    {
      "cell_type": "markdown",
      "source": [
        "## Zadanie"
      ],
      "metadata": {
        "id": "HN82mGKWP6NQ"
      }
    },
    {
      "cell_type": "code",
      "source": [
        "import networkx as nx\n",
        "import matplotlib.pyplot as plt\n",
        "import numpy as np"
      ],
      "metadata": {
        "id": "YQIlDM_bI3ie"
      },
      "execution_count": 1,
      "outputs": []
    },
    {
      "cell_type": "markdown",
      "source": [
        "Zacznijmy od zobaczenia grafu podanego jako przykład w treści zadania:"
      ],
      "metadata": {
        "id": "AMa09JXtPtDp"
      }
    },
    {
      "cell_type": "code",
      "source": [
        "def plot_graf(graf, seed):\n",
        "  G = nx.Graph()\n",
        "  for i in graf:\n",
        "    G.add_edge(i[0], i[1], weight=graf[i])\n",
        "\n",
        "  pos = nx.spring_layout(G, seed=seed)\n",
        "  nx.draw_networkx(G,pos, arrows=None, with_labels=True)\n",
        "  edge_labels = nx.get_edge_attributes(G, \"weight\")\n",
        "  nx.draw_networkx_edge_labels(G, pos, edge_labels)\n",
        "  plt.axis(\"off\")\n",
        "  plt.tight_layout()\n",
        "  plt.show()"
      ],
      "metadata": {
        "id": "MvcS-MiVPQ2_"
      },
      "execution_count": 2,
      "outputs": []
    },
    {
      "cell_type": "code",
      "source": [
        "graf = {\n",
        "  (\"B\", \"D\"): 2,\n",
        "  (\"D\", \"A\"): 1,\n",
        "  (\"B\", \"A\"): 4,\n",
        "  (\"A\", \"C\"): 2,\n",
        "  (\"B\", \"E\"): 3,\n",
        "  (\"C\", \"D\"): 7,\n",
        "  (\"E\", \"C\"): 3\n",
        "} \n",
        "\n",
        "plot_graf(graf, seed=4)"
      ],
      "metadata": {
        "id": "0XReG2Idbpat",
        "colab": {
          "base_uri": "https://localhost:8080/",
          "height": 297
        },
        "outputId": "ae43af76-55b0-431d-f019-e2026f7fbec7"
      },
      "execution_count": 3,
      "outputs": [
        {
          "output_type": "display_data",
          "data": {
            "text/plain": [
              "<Figure size 432x288 with 1 Axes>"
            ],
            "image/png": "[encoded data removed]"
          },
          "metadata": {}
        }
      ]
    },
    {
      "cell_type": "markdown",
      "source": [
        "## Moja wersja implementacji algorytmu"
      ],
      "metadata": {
        "id": "RQ6u6jlfYqqS"
      }
    },
    {
      "cell_type": "markdown",
      "source": [
        "Funkcja pomocnicza, dzięki której wybierana zostaje tylko jedna ścieżka w razie gdy jest kilka najkrótszych ścieżek:"
      ],
      "metadata": {
        "id": "MlpKYmcgrX_x"
      }
    },
    {
      "cell_type": "code",
      "source": [
        "def mmin(L,ids):\n",
        "  min = np.inf\n",
        "  for i in range(len(L)):\n",
        "    if min > L[i] and i not in ids:\n",
        "      min = L[i]\n",
        "      min_id = i\n",
        "  return min_id"
      ],
      "metadata": {
        "id": "RpC5UcFEqmcO"
      },
      "execution_count": 4,
      "outputs": []
    },
    {
      "cell_type": "markdown",
      "source": [
        "Główny kod mojej wersji algorytmu:"
      ],
      "metadata": {
        "id": "QyDILgb4yv1k"
      }
    },
    {
      "cell_type": "code",
      "source": [
        "def my_path(graf, n1, n2):\n",
        "  ids = [] # tworze liste indeksow wierzcholkow grafu\n",
        "  for i in graf:\n",
        "    for j in [0,1]:\n",
        "      if i[j] not in ids:\n",
        "        ids.append(i[j])\n",
        "  \n",
        "  V = np.zeros((len(ids),len(ids))) # powstaje macierzowa reprezentacja krawedzi grafu\n",
        "  for i in graf:\n",
        "    V[ids.index(i[0]),ids.index(i[1])] = graf[i]\n",
        "    V[ids.index(i[1]),ids.index(i[0])] = graf[i]\n",
        "  \n",
        "  paths =[[n1] for i in range(len(ids))] # inicjujemy liste wszystkich najkrótszych sciezek \n",
        "  # (odpowiednik drzewa z algorytmu Dijkstry)\n",
        "  \n",
        "  # Algorytm Dijkstry\n",
        "  # krok 1\n",
        "  start = ids.index(n1)\n",
        "  vistd = []\n",
        "  vistd.append(start)\n",
        "  dists = np.ones(len(ids))*np.inf\n",
        "  dists[start] = 0\n",
        "  for i in range(len(ids)):\n",
        "    if V[start][i] != 0:\n",
        "      dists[i] = V[start][i]\n",
        "      paths[i].append(ids[i])\n",
        "   \n",
        "  # nastepne kroki\n",
        "  end = True \n",
        "  while end:\n",
        "    id = mmin(dists, vistd)\n",
        "    if id == n2: break # przerywamy dzialanie algorytmu w momencie gdy znajdziemy najkrotsza sciezke do interesujacego nas wierzcholka\n",
        "    vistd.append(id)\n",
        "    vistd.sort() # sortujemy by moc sprawdzic czy odwiedzilismy juz wszystko\n",
        "    for i in range(len(ids)):\n",
        "      if V[id][i] != 0:\n",
        "        if dists[id] + V[id][i] < dists[i]:\n",
        "          dists[i] = dists[id] + V[id][i] # w tym momencie zliczane sa koszty\n",
        "          paths[i] = paths[id].copy() # aktualizujemy sciezke do obecnie najkrotszej do danego punktu\n",
        "          paths[i].append(ids[i]) \n",
        "    end = vistd != [*range(len(ids))] # warunek sprawdzający czy należy już opuścić pętle\n",
        "  \n",
        "  # algorytm Dijkstry zwraca nam wszystkie najkrotsze sciezki z punktu n1 oraz ich koszty\n",
        "  # wybieramy z nich ta jedna ktora nas interesuje \n",
        "\n",
        "  return paths[ids.index(n2)], dists[ids.index(n2)] # zwracamy sciezke oraz koszt tej sciezki\n"
      ],
      "metadata": {
        "id": "Bvhi3jOOYvsn"
      },
      "execution_count": 5,
      "outputs": []
    },
    {
      "cell_type": "code",
      "source": [
        "my_path(graf,'A','E')"
      ],
      "metadata": {
        "colab": {
          "base_uri": "https://localhost:8080/"
        },
        "id": "gqWAkAf9vmmb",
        "outputId": "62ba3f59-d530-4892-c9d7-7af7136dd279"
      },
      "execution_count": 6,
      "outputs": [
        {
          "output_type": "execute_result",
          "data": {
            "text/plain": [
              "(['A', 'C', 'E'], 5.0)"
            ]
          },
          "metadata": {},
          "execution_count": 6
        }
      ]
    },
    {
      "cell_type": "markdown",
      "source": [
        "## Istniejący pakiet Dijsktar"
      ],
      "metadata": {
        "id": "dkSjfuMcTfWG"
      }
    },
    {
      "cell_type": "code",
      "source": [
        "!pip install dijkstar\n",
        "from dijkstar import Graph, find_path"
      ],
      "metadata": {
        "colab": {
          "base_uri": "https://localhost:8080/"
        },
        "id": "gVAZWk3HU6f4",
        "outputId": "53774055-fbed-403a-976e-5b1e19e5e235"
      },
      "execution_count": 7,
      "outputs": [
        {
          "output_type": "stream",
          "name": "stdout",
          "text": [
            "Looking in indexes: https://pypi.org/simple, https://us-python.pkg.dev/colab-wheels/public/simple/\n",
            "Requirement already satisfied: dijkstar in /usr/local/lib/python3.7/dist-packages (2.6.0)\n",
            "Requirement already satisfied: six in /usr/local/lib/python3.7/dist-packages (from dijkstar) (1.15.0)\n"
          ]
        }
      ]
    },
    {
      "cell_type": "markdown",
      "source": [
        "Funkcja szukająca najkrótszej ścieżki z wykorzystaniem pakietu Dijkstar:"
      ],
      "metadata": {
        "id": "qK6UaMBSYRAY"
      }
    },
    {
      "cell_type": "code",
      "source": [
        "def dijkstar_path(graf, n1, n2):\n",
        "  graph = Graph()\n",
        "  for i in graf:\n",
        "    graph.add_edge(i[0], i[1], graf[i])\n",
        "    graph.add_edge(i[1], i[0], graf[i])\n",
        "\n",
        "  return(find_path(graph, n1, n2))"
      ],
      "metadata": {
        "id": "mw6UqUe_TmSU"
      },
      "execution_count": 8,
      "outputs": []
    },
    {
      "cell_type": "code",
      "source": [
        "dijkstar_path(graf,'A','E')"
      ],
      "metadata": {
        "colab": {
          "base_uri": "https://localhost:8080/"
        },
        "id": "SUJ4BFlrcDgD",
        "outputId": "e7687bb0-f284-4e51-eef2-fab0d8fe9b96"
      },
      "execution_count": 9,
      "outputs": [
        {
          "output_type": "execute_result",
          "data": {
            "text/plain": [
              "PathInfo(nodes=['A', 'C', 'E'], edges=[2, 3], costs=[2, 3], total_cost=5)"
            ]
          },
          "metadata": {},
          "execution_count": 9
        }
      ]
    },
    {
      "cell_type": "markdown",
      "source": [
        "## Porównanie"
      ],
      "metadata": {
        "id": "xZCJdPZ1cH_z"
      }
    },
    {
      "cell_type": "code",
      "source": [
        "import timeit"
      ],
      "metadata": {
        "id": "sxo9RJDrbPds"
      },
      "execution_count": 10,
      "outputs": []
    },
    {
      "cell_type": "code",
      "source": [
        "def testtime(n,graf,n1,n2):\n",
        "  wynik_d = timeit.timeit(stmt=f\"dijkstar_path({graf},'{n1}','{n2}')\", globals=globals(), number=n)\n",
        "  wynik_m = timeit.timeit(stmt=f\"my_path({graf},'{n1}','{n2}')\", globals=globals(), number=n)\n",
        "\n",
        "\n",
        "  print(f\"Wynik średni dla Dijkstar to {wynik_d / n} sekundy.\")\n",
        "  print(f\"Wynik średni dla mojej implementacji to {wynik_m / n} sekundy.\")\n",
        "  print(f\"Mój algorytm, średnio, jest {wynik_m / wynik_d} razy wolniejszy.\")"
      ],
      "metadata": {
        "id": "nz2CZGqjy1_p"
      },
      "execution_count": 11,
      "outputs": []
    },
    {
      "cell_type": "code",
      "source": [
        "def testpath(graf,n1,n2):\n",
        "  print(f\"Ścieżka znaleziona przez Disjktar to {dijkstar_path(graf,n1,n2)[0]} o koszcie {dijkstar_path(graf,n1,n2)[3]}.\")\n",
        "  print(f\"Ścieżka znaleziona przez moją implementacje to {my_path(graf,n1,n2)[0]} o koszcie {my_path(graf,n1,n2)[1]}.\")"
      ],
      "metadata": {
        "id": "xcO9gTCD1uIW"
      },
      "execution_count": 12,
      "outputs": []
    },
    {
      "cell_type": "markdown",
      "source": [
        "Dla grafu z treści zadania algorytmy zachowują się w następujący sposób:"
      ],
      "metadata": {
        "id": "uu2ZiWyWw6Tl"
      }
    },
    {
      "cell_type": "code",
      "source": [
        "testtime(10, graf, 'A', 'B')\n",
        "testpath(graf, 'A', 'B')"
      ],
      "metadata": {
        "colab": {
          "base_uri": "https://localhost:8080/"
        },
        "id": "CMgbADQRYCXg",
        "outputId": "7a2563f3-64be-44d1-d22f-aeec28b6369b"
      },
      "execution_count": 13,
      "outputs": [
        {
          "output_type": "stream",
          "name": "stdout",
          "text": [
            "Wynik średni dla Dijkstar to 5.847610000273562e-05 sekundy.\n",
            "Wynik średni dla mojej implementacji to 0.0001497478000146657 sekundy.\n",
            "Mój algorytm, średnio, jest 2.5608376756941764 razy wolniejszy.\n",
            "Ścieżka znaleziona przez Disjktar to ['A', 'D', 'B'] o koszcie 3.\n",
            "Ścieżka znaleziona przez moją implementacje to ['A', 'D', 'B'] o koszcie 3.0.\n"
          ]
        }
      ]
    },
    {
      "cell_type": "markdown",
      "source": [
        "Testy dla innych grafów:"
      ],
      "metadata": {
        "id": "Tv19b1LoziMG"
      }
    },
    {
      "cell_type": "code",
      "source": [
        "graf1 = {('a', 'b'): 4, ('a', 'c'): 6, ('a', 'd'): 8, ('b', 'e'): 1 ,\n",
        "      ('b', 'f'): 9, ('c', 'f'): 2, ('d', 'g'): 7, ('d', 'h'): 1 ,\n",
        "      ('e', 'i'): 2, ('e', 'j'): 7, ('g', 'h'): 2, ('i', 'j'): 4}\n",
        "\n",
        "plot_graf(graf1,seed=8)"
      ],
      "metadata": {
        "colab": {
          "base_uri": "https://localhost:8080/",
          "height": 297
        },
        "id": "kyBK1IwUzh2Q",
        "outputId": "503a8e17-8864-44b5-ee89-d41744cac7ae"
      },
      "execution_count": 14,
      "outputs": [
        {
          "output_type": "display_data",
          "data": {
            "text/plain": [
              "<Figure size 432x288 with 1 Axes>"
            ],
            "image/png": "[encoded data removed]"
          },
          "metadata": {}
        }
      ]
    },
    {
      "cell_type": "code",
      "source": [
        "testtime(100, graf1, 'j', 'c')\n",
        "testpath(graf1, 'j', 'c')"
      ],
      "metadata": {
        "colab": {
          "base_uri": "https://localhost:8080/"
        },
        "id": "vaFN34RG1jXx",
        "outputId": "bd0f273e-4c32-4e12-ca71-c9f4d4656c8b"
      },
      "execution_count": 15,
      "outputs": [
        {
          "output_type": "stream",
          "name": "stdout",
          "text": [
            "Wynik średni dla Dijkstar to 0.00012591720999807876 sekundy.\n",
            "Wynik średni dla mojej implementacji to 0.0004348754000011468 sekundy.\n",
            "Mój algorytm, średnio, jest 3.453661338333196 razy wolniejszy.\n",
            "Ścieżka znaleziona przez Disjktar to ['j', 'i', 'e', 'b', 'a', 'c'] o koszcie 17.\n",
            "Ścieżka znaleziona przez moją implementacje to ['j', 'i', 'e', 'b', 'a', 'c'] o koszcie 17.0.\n"
          ]
        }
      ]
    },
    {
      "cell_type": "code",
      "source": [
        "testtime(100, graf1, 'i', 'h')\n",
        "testpath(graf1, 'i', 'h')"
      ],
      "metadata": {
        "colab": {
          "base_uri": "https://localhost:8080/"
        },
        "id": "lXryXEZa3Vc6",
        "outputId": "ed4d35cc-29f7-4107-d9de-f562dce2a375"
      },
      "execution_count": 16,
      "outputs": [
        {
          "output_type": "stream",
          "name": "stdout",
          "text": [
            "Wynik średni dla Dijkstar to 0.00016745091999837314 sekundy.\n",
            "Wynik średni dla mojej implementacji to 0.0003973102600002676 sekundy.\n",
            "Mój algorytm, średnio, jest 2.3726967878356695 razy wolniejszy.\n",
            "Ścieżka znaleziona przez Disjktar to ['i', 'e', 'b', 'a', 'd', 'h'] o koszcie 16.\n",
            "Ścieżka znaleziona przez moją implementacje to ['i', 'e', 'b', 'a', 'd', 'h'] o koszcie 16.0.\n"
          ]
        }
      ]
    },
    {
      "cell_type": "code",
      "source": [
        "graf2 = {('a', 'b'): 4, ('a', 'c'): 1, ('c', 'd'): 4, ('b', 'd'): 1}\n",
        "\n",
        "plot_graf(graf2,seed=8)"
      ],
      "metadata": {
        "colab": {
          "base_uri": "https://localhost:8080/",
          "height": 297
        },
        "id": "xERvRLDw3f8E",
        "outputId": "6f868162-026a-4368-ccb0-e55c73a35490"
      },
      "execution_count": 17,
      "outputs": [
        {
          "output_type": "display_data",
          "data": {
            "text/plain": [
              "<Figure size 432x288 with 1 Axes>"
            ],
            "image/png": "[encoded data removed]"
          },
          "metadata": {}
        }
      ]
    },
    {
      "cell_type": "code",
      "source": [
        "testtime(100, graf2, 'a', 'd')\n",
        "testpath(graf2, 'a', 'd')"
      ],
      "metadata": {
        "colab": {
          "base_uri": "https://localhost:8080/"
        },
        "id": "GdEus1Tc3w9r",
        "outputId": "f1f325e9-031c-463c-dc40-1831f203e8f1"
      },
      "execution_count": 18,
      "outputs": [
        {
          "output_type": "stream",
          "name": "stdout",
          "text": [
            "Wynik średni dla Dijkstar to 3.362845000083325e-05 sekundy.\n",
            "Wynik średni dla mojej implementacji to 6.0502979999910166e-05 sekundy.\n",
            "Mój algorytm, średnio, jest 1.7991605321806687 razy wolniejszy.\n",
            "Ścieżka znaleziona przez Disjktar to ['a', 'c', 'd'] o koszcie 5.\n",
            "Ścieżka znaleziona przez moją implementacje to ['a', 'c', 'd'] o koszcie 5.0.\n"
          ]
        }
      ]
    },
    {
      "cell_type": "code",
      "source": [
        "graf3 = {('a', 'b'): 4, ('a', 'c'): 4, ('c', 'd'): 1, ('b', 'd'): 1}\n",
        "\n",
        "plot_graf(graf3,seed=3)"
      ],
      "metadata": {
        "colab": {
          "base_uri": "https://localhost:8080/",
          "height": 297
        },
        "id": "F5roq-Yx4cLU",
        "outputId": "418aa71b-aa37-4d71-fb83-5f058a06e963"
      },
      "execution_count": 19,
      "outputs": [
        {
          "output_type": "display_data",
          "data": {
            "text/plain": [
              "<Figure size 432x288 with 1 Axes>"
            ],
            "image/png": "[encoded data removed]"
          },
          "metadata": {}
        }
      ]
    },
    {
      "cell_type": "code",
      "source": [
        "testtime(100, graf3, 'a', 'd')\n",
        "testpath(graf3, 'a', 'd')"
      ],
      "metadata": {
        "colab": {
          "base_uri": "https://localhost:8080/"
        },
        "id": "eu6nnIN04lA-",
        "outputId": "9772b64a-9e2a-4090-a11c-42c4fdb4f0a8"
      },
      "execution_count": 20,
      "outputs": [
        {
          "output_type": "stream",
          "name": "stdout",
          "text": [
            "Wynik średni dla Dijkstar to 5.4515010001523477e-05 sekundy.\n",
            "Wynik średni dla mojej implementacji to 0.00010060412000257202 sekundy.\n",
            "Mój algorytm, średnio, jest 1.8454388983834091 razy wolniejszy.\n",
            "Ścieżka znaleziona przez Disjktar to ['a', 'b', 'd'] o koszcie 5.\n",
            "Ścieżka znaleziona przez moją implementacje to ['a', 'b', 'd'] o koszcie 5.0.\n"
          ]
        }
      ]
    },
    {
      "cell_type": "markdown",
      "source": [
        "## Wniosek"
      ],
      "metadata": {
        "id": "kETLhzVu6K4f"
      }
    },
    {
      "cell_type": "markdown",
      "source": [
        "Pakiet Dijkstar wykorzystuje listy sąsiedztwa do reprezantacji grafu, co powoduje, że jest on bardziej optymalny niż mój algorytm, korzystający z reprezentacji grafów w postaci macierzy. Dodatkowo, pozwala on na tworzenie w prosty sposób dynamicznych funkcji kosztów ścieżek."
      ],
      "metadata": {
        "id": "QLD7Q0SQ0RSN"
      }
    },
    {
      "cell_type": "markdown",
      "source": [
        "## Bibliografia\n",
        "\n",
        "\n",
        "*   https://networkx.org/documentation/stable/auto_examples/drawing/plot_weighted_graph.html\n",
        "*   https://pypi.org/project/Dijkstar/\n",
        "*   https://www.geeksforgeeks.org/dijkstras-shortest-path-algorithm-greedy-algo-7/\n",
        "*   https://stackoverflow.com/questions/50119106/converting-a-graph-into-dictionary-form - źródło dla graf1\n",
        "\n"
      ],
      "metadata": {
        "id": "J2gzH6oK5_o9"
      }
    }
  ]
}